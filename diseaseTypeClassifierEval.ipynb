{
 "cells": [
  {
   "cell_type": "markdown",
   "metadata": {},
   "source": [
    "# Disease Type Classifier Evaluation\n",
    "\n",
    "- BME 230A class project winter 2019\n",
    "- Andrew E. Davidson\n",
    "- [aedavids@ucsc.edu](mailto:aedavids@edu?subject=SimpleModel.ipynb)\n",
    "\n",
    "A comparison of known cancer causing genes with those identified by a classifier trained on gene expression data.\n",
    "\n",
    "\n",
    "## Overview:\n",
    "Typically data science projects develop models de novo. You start by mining an unknown data set. Your objective is to find structure in the data and create a data product. That is to say some sort of predictive model. It is important to understand the difference between a data product and a model. Models are of limited use. Often they may help you gain a better understanding of the relationships inherent in your data. A model is often considered good based on it's accuracy alone. Models are steps on the path to developing true data products. \n",
    "\n",
    "By contrast data products are models that can be deployed at scale. Rarely is accuracy alone sufficient to decide if a model is deployable. In addiction to accuracy, most often data products must be explainable and generalize well.\n",
    "\n",
    "For data products to be deployable we must have confidence that our model generalize to the true targeted population. In the case of the Xena data set not only patients that are sick and may or may not have cancer but also to health individuals. We also need to account for demographic bias in the training data set.  Data products related to human behavior, for example recommender systems, or natural language tasks, must have mechanisms to identify population drift and processes for retrain.\n",
    "\n",
    "Explainability is often over looked when evaluating the deployability of a data product. Sometimes it is not required. For example consider a bad movie recommender. The viewer is not going to be harmed in anyway. For most data product the cost of false positives or negatives is high. For example consider a tumor/normal classifier or a model used to set insurance premiums. The new EU General Data Protection Regulation requires explainability for models with potential high mis-classification costs. It also seems unlike the the FDA will approve models that are not explainable. \n",
    "\n",
    "Lack of explainablity often limits the use of of Neural Networks. Fortunately neural network models based on Xena data set may be explainable. One approach for gaining insight into the workings of a trained model is to make predictions with hand crafter example and explore how these example activate the various layers of the neural network. [Andrej Karpath](https://cs.stanford.edu/people/karpathy/) used a similar approach to identify what kinds of images cause the filters of a convolutional neural network to activate.\n",
    "\n",
    "## Methods:\n",
    "\n",
    "The input size of our model is 58,581. Each value is a gene expression level. For each feature we make a prediction use a one-hot example. We then group the genes into sets based on the predicted disease type. We would expect the gene groups to correspond to know cancer related genes. Genes identified by the model that are not part of know pathways should be further explored.\n",
    "\n",
    "## Results:\n",
    "\n",
    "Figure 1. is a histogram showing the count of genes that individually classified as disease type. To make the analysis easier we select the disease type with the fewest number of genes\"\n",
    "\n",
    "```\n",
    "disease type with smallest identified gene set:['Pancreatic Adenocarcinoma']\n",
    "number of genes in set:44\n",
    "       ['AC079235.1', 'AC087499.9', 'AC090311.1', 'AC231645.1',\n",
    "       'AL008708.1', 'AL354931.1', 'AL603650.4', 'ARAF', 'ATP6V1D',\n",
    "       'C14orf93', 'CLK3', 'CNPY3', 'CTC-258N23.3', 'CTD-2132H18.3',\n",
    "       'CYB5D2', 'FADS2P1', 'FBXW4', 'GOLGB1', 'HMGN1P5', 'KB-1582A10.2',\n",
    "       'LINC00616', 'LINC01035', 'MED10', 'MON1A', 'NEK3', 'PIN1',\n",
    "       'RFPL3-AS1_1', 'RNA5SP143', 'RNA5SP366', 'RNA5SP409', 'RNA5SP523',\n",
    "       'RNA5SP55', 'RNU6-1194P', 'RNU6-204P', 'RNU6-498P',\n",
    "       'RP11-626I20.3', 'RP11-74J13.9', 'SCARNA4', 'SF3B5', 'SGSM3',\n",
    "       'SLC35B3', 'SNORA70D', 'STX18', 'SUGT1']\n",
    "```\n",
    "\n",
    "<span style=\"color:red\">TODO: figure out how to mine biologic path way data.</span> We need to figure out how to map the gene sets we identify back to the know genes associated with each cancer type\n",
    "\n",
    "reference:\n",
    "- [diseaseTypeClassifier.ipynb](diseaseTypeClassifier.ipynb)\n",
    "- [https://github.com/AEDWIP/BME-230a.git](https://github.com/AEDWIP/BME-230a.git)"
   ]
  },
  {
   "cell_type": "code",
   "execution_count": 2,
   "metadata": {},
   "outputs": [
    {
     "name": "stderr",
     "output_type": "stream",
     "text": [
      "Using TensorFlow backend.\n"
     ]
    },
    {
     "name": "stdout",
     "output_type": "stream",
     "text": [
      "/home/ubuntu/BME-230a\r\n"
     ]
    }
   ],
   "source": [
    "from keras.models import load_model\n",
    "\n",
    "import matplotlib.pyplot as plt\n",
    "import numpy as np\n",
    "import os \n",
    "import pandas as pd\n",
    "\n",
    "from sklearn.preprocessing import LabelEncoder\n",
    "import sys\n",
    "\n",
    "import tensorflow as tf\n",
    "\n",
    "# fix random seed for reproducibility\n",
    "theMeaningOfLife = 42\n",
    "\n",
    "import keras\n",
    "if \"2.1.6\" != keras.__version__ :\n",
    "    emsg = \"ERROR keras version {} != 2.1.6, new version can not save and restore models\".format(keras.__version__)\n",
    "    raise ValueError(emsg)\n",
    "\n",
    "# add path to our local modules\n",
    "# assume they are in the same directory we launched the juypter server in\n",
    "# /home/ubuntu/BME-230a\n",
    "!pwd\n",
    "localModuleDir = \".\"\n",
    "sys.path.append(localModuleDir)"
   ]
  },
  {
   "cell_type": "markdown",
   "metadata": {},
   "source": [
    "## load model and data"
   ]
  },
  {
   "cell_type": "code",
   "execution_count": 3,
   "metadata": {},
   "outputs": [
    {
     "name": "stdout",
     "output_type": "stream",
     "text": [
      "/bme-230a-ebs/data/tcga_target_gtex.h5\n",
      "sourceDataFilePath:/bme-230a-ebs/data/tcga_target_gtex.h5\n",
      "CPU times: user 1.29 s, sys: 4.88 s, total: 6.17 s\n",
      "Wall time: 6.17 s\n"
     ]
    }
   ],
   "source": [
    "%%time\n",
    "rootDir = \"/bme-230a-ebs\"\n",
    "sourceDataFilePath = \"{}/data/tcga_target_gtex.h5\".format(rootDir)\n",
    "print(sourceDataFilePath)\n",
    "if not os.path.isfile(sourceDataFilePath):\n",
    "    emsg = \"ERROR: {} not found\".format(sourceDataFilePath)\n",
    "    print(emsg)\n",
    "    print(\"change rootDir\")\n",
    "    sys.stdout.flush()  # force error message to print\n",
    "    raise ValueError(emsg)\n",
    "\n",
    "from loadData import loadCancerDiseaseTypeTidyDataSet\n",
    "\n",
    "ret = loadCancerDiseaseTypeTidyDataSet(rootDir)\n",
    "hugoIds, diseaseLabelEncoder, XTrainNumpy, yTrainNumpy, XTestNumpy, yTestNumpy = ret\n",
    "#XTestNumpy = yTestNumpy = None # clean up memory\n",
    "ret = None  # clean up memory"
   ]
  },
  {
   "cell_type": "markdown",
   "metadata": {},
   "source": [
    "## <span style=\"color:red\"> AEDWIP the data looks suprisingly homogenous</span>\n",
    "- was there a bug in the original data set prepration ?\n",
    "- was a bug introduced while creating the tidy data set?\n",
    "    * maybe sklearn.model_selection.StratifiedShuffleSplit samples with replacement by default?\n",
    "- signifigant figure?"
   ]
  },
  {
   "cell_type": "code",
   "execution_count": 4,
   "metadata": {},
   "outputs": [
    {
     "name": "stdout",
     "output_type": "stream",
     "text": [
      "[[-9.96604119 -9.96581639 -9.96588062]\n",
      " [-9.96604119 -9.96581639 -9.96588062]\n",
      " [-9.96604119 -9.96581639 -9.96588062]\n",
      " [-9.96604119 -9.96581639 -9.96588062]\n",
      " [-9.96604119 -9.96581639 -9.96588062]\n",
      " [-9.96604119 -9.96581639 -9.96588062]\n",
      " [-9.96604119 -9.96581639 -9.96588062]\n",
      " [-9.96604119 -9.96581639 -9.96588062]\n",
      " [-9.96604119 -9.96581639 -9.96588062]\n",
      " [-9.96604119 -9.96581639 -9.96588062]]\n"
     ]
    }
   ],
   "source": [
    "print(XTrainNumpy[0:10, 0:3])"
   ]
  },
  {
   "cell_type": "code",
   "execution_count": 5,
   "metadata": {},
   "outputs": [
    {
     "name": "stdout",
     "output_type": "stream",
     "text": [
      "_________________________________________________________________\n",
      "Layer (type)                 Output Shape              Param #   \n",
      "=================================================================\n",
      "input_1 (InputLayer)         (None, 58581)             0         \n",
      "_________________________________________________________________\n",
      "batch_normalization_1 (Batch (None, 58581)             234324    \n",
      "_________________________________________________________________\n",
      "dense_1 (Dense)              (None, 38)                2226116   \n",
      "_________________________________________________________________\n",
      "activation_1 (Activation)    (None, 38)                0         \n",
      "=================================================================\n",
      "Total params: 2,460,440\n",
      "Trainable params: 2,343,278\n",
      "Non-trainable params: 117,162\n",
      "_________________________________________________________________\n"
     ]
    }
   ],
   "source": [
    "modelName=\"diseaseClassifier\"\n",
    "modelRootDir = \"{}/models\".format(rootDir)\n",
    "fullModelPath = \"{}/{}.h5\".format(modelRootDir, modelName)\n",
    "diseaseClassifierModel = load_model(fullModelPath)\n",
    "diseaseClassifierModel.summary()"
   ]
  },
  {
   "cell_type": "markdown",
   "metadata": {},
   "source": [
    "## Identify what disease type a given gene contributes the most to\n",
    "It is often difficult to understand how neural networks work. One approach for gaining insight is given a trained model make predictions with hand crafted example. Next explore the correspond activation at each layer of the model. [Andrej Karpath](https://cs.stanford.edu/people/karpathy/) used a similar approach to identify what kinds of images cause the filters of a convolutional neural network to activate."
   ]
  },
  {
   "cell_type": "code",
   "execution_count": 6,
   "metadata": {},
   "outputs": [
    {
     "name": "stdout",
     "output_type": "stream",
     "text": [
      "m:58581 batchSize:6000 numBatches:9 r:4581\n",
      "maxActivations.shape:(58581, 1)\n",
      "CPU times: user 1min 21s, sys: 12.3 s, total: 1min 34s\n",
      "Wall time: 27.1 s\n"
     ]
    }
   ],
   "source": [
    "%%time\n",
    "# find which class a gene maximal activates\n",
    "def largestActivation(model, m, batchSize):\n",
    "    '''\n",
    "    for each featue calculates the disease type the feature makes the largest contribution to\n",
    "    \n",
    "    input:\n",
    "        model:\n",
    "        m: the number of features\n",
    "        batchSize\n",
    "        \n",
    "    returns:\n",
    "        numpy array of size (m,1).\n",
    "        array[i] is the disease value of the gene at position i in the feature set\n",
    "    '''\n",
    "    ret = np.zeros((m, 1))\n",
    "    numBatches, r = divmod(m, batchSize)\n",
    "    print(\"m:{} batchSize:{} numBatches:{} r:{}\".format(\n",
    "        m, batchSize, numBatches, r))\n",
    "    startRowIdx = 0\n",
    "    batchCount = 0\n",
    "    while (batchCount < numBatches):\n",
    "        if batchCount < numBatches:\n",
    "            bs = batchSize\n",
    "        else:\n",
    "            bs = r  # short batch\n",
    "\n",
    "        # create a feature vector one hot. We only want the activation f\n",
    "        # value for a single gene\n",
    "        batch = np.zeros((bs, m))\n",
    "        for j in range(bs):\n",
    "            # use a high value\n",
    "            # when value was 1 all predictions where class 27\n",
    "            batch[j, startRowIdx + j] = 1000000\n",
    "\n",
    "        predictions = model.predict(batch)\n",
    "        predictedValuesTensor = keras.backend.argmax(predictions)\n",
    "\n",
    "        # use keras escape hatch to tensor flow\n",
    "        # there is probably a better way to do this\n",
    "        sess = tf.Session()\n",
    "        with sess.as_default():\n",
    "            predictedValuesNumpy = predictedValuesTensor.eval()\n",
    "\n",
    "        shape = predictedValuesNumpy.shape\n",
    "        ret[startRowIdx:startRowIdx + bs] = np.reshape(predictedValuesNumpy,\n",
    "                                                       (shape[0], -1))\n",
    "\n",
    "        # increment loop counts\n",
    "        batchCount += 1\n",
    "        startRowIdx += bs\n",
    "\n",
    "    return ret\n",
    "\n",
    "\n",
    "# why hold on to all the memory we can probably pick these values out of the mode\n",
    "xShape = XTrainNumpy.shape\n",
    "maxActivations = largestActivation(\n",
    "    diseaseClassifierModel, m=xShape[1], batchSize=6000)\n",
    "print(\"maxActivations.shape:{}\".format(maxActivations.shape))"
   ]
  },
  {
   "cell_type": "code",
   "execution_count": 7,
   "metadata": {},
   "outputs": [],
   "source": [
    "%%capture --no-display\n",
    "# turn off deprecation warnings\n",
    "# https://ipython.readthedocs.io/en/stable/interactive/magics.html?highlight=capture#cellmagic-capture\n",
    "disease = diseaseLabelEncoder.inverse_transform(maxActivations.astype(int))"
   ]
  },
  {
   "cell_type": "code",
   "execution_count": 8,
   "metadata": {},
   "outputs": [
    {
     "data": {
      "text/html": [
       "<div>\n",
       "<style scoped>\n",
       "    .dataframe tbody tr th:only-of-type {\n",
       "        vertical-align: middle;\n",
       "    }\n",
       "\n",
       "    .dataframe tbody tr th {\n",
       "        vertical-align: top;\n",
       "    }\n",
       "\n",
       "    .dataframe thead th {\n",
       "        text-align: right;\n",
       "    }\n",
       "</style>\n",
       "<table border=\"1\" class=\"dataframe\">\n",
       "  <thead>\n",
       "    <tr style=\"text-align: right;\">\n",
       "      <th></th>\n",
       "      <th>HugoId</th>\n",
       "      <th>disease</th>\n",
       "      <th>maxActDisease</th>\n",
       "    </tr>\n",
       "  </thead>\n",
       "  <tbody>\n",
       "    <tr>\n",
       "      <th>0</th>\n",
       "      <td>5S_rRNA</td>\n",
       "      <td>Ovarian Serous Cystadenocarcinoma</td>\n",
       "      <td>23</td>\n",
       "    </tr>\n",
       "    <tr>\n",
       "      <th>1</th>\n",
       "      <td>5_8S_rRNA</td>\n",
       "      <td>Kidney Clear Cell Carcinoma</td>\n",
       "      <td>16</td>\n",
       "    </tr>\n",
       "    <tr>\n",
       "      <th>2</th>\n",
       "      <td>7SK</td>\n",
       "      <td>Breast Invasive Carcinoma</td>\n",
       "      <td>6</td>\n",
       "    </tr>\n",
       "    <tr>\n",
       "      <th>3</th>\n",
       "      <td>A1BG</td>\n",
       "      <td>Lung Squamous Cell Carcinoma</td>\n",
       "      <td>20</td>\n",
       "    </tr>\n",
       "    <tr>\n",
       "      <th>4</th>\n",
       "      <td>A1BG-AS1</td>\n",
       "      <td>Breast Invasive Carcinoma</td>\n",
       "      <td>6</td>\n",
       "    </tr>\n",
       "  </tbody>\n",
       "</table>\n",
       "</div>"
      ],
      "text/plain": [
       "      HugoId                            disease  maxActDisease\n",
       "0    5S_rRNA  Ovarian Serous Cystadenocarcinoma             23\n",
       "1  5_8S_rRNA        Kidney Clear Cell Carcinoma             16\n",
       "2        7SK          Breast Invasive Carcinoma              6\n",
       "3       A1BG       Lung Squamous Cell Carcinoma             20\n",
       "4   A1BG-AS1          Breast Invasive Carcinoma              6"
      ]
     },
     "execution_count": 8,
     "metadata": {},
     "output_type": "execute_result"
    }
   ],
   "source": [
    "dataDict = {\n",
    "    \"HugoId\": hugoIds,\n",
    "    \"disease\": disease.flatten(),\n",
    "    \"maxActDisease\": maxActivations.astype(int).flatten()\n",
    "}\n",
    "\n",
    "activationDF = pd.DataFrame(data=dataDict)\n",
    "activationDF.head()"
   ]
  },
  {
   "cell_type": "code",
   "execution_count": 9,
   "metadata": {},
   "outputs": [],
   "source": [
    "%%capture --no-display\n",
    "# turn off deprecation warnings\n",
    "# https://ipython.readthedocs.io/en/stable/interactive/magics.html?highlight=capture#cellmagic-capture\n",
    "countsDict = dict()\n",
    "grouped = activationDF.groupby(\"maxActDisease\")\n",
    "for diseaseValue, group in grouped:\n",
    "    stats = group.agg(['count'])\n",
    "    dv = int(diseaseValue)\n",
    "    key = \"{}_{}\".format(dv, diseaseLabelEncoder.inverse_transform([dv]))\n",
    "    countsDict[key] = stats.values"
   ]
  },
  {
   "cell_type": "code",
   "execution_count": 19,
   "metadata": {},
   "outputs": [
    {
     "data": {
      "image/png": "[encoded data removed]",
      "text/plain": [
       "<Figure size 576x720 with 1 Axes>"
      ]
     },
     "metadata": {},
     "output_type": "display_data"
    }
   ],
   "source": [
    "%%capture --no-display\n",
    "# turn off deprecation warnings\n",
    "# https://ipython.readthedocs.io/en/stable/interactive/magics.html?highlight=capture#cellmagic-capture\n",
    "\n",
    "fig, ax = plt.subplots()\n",
    "fig.set_size_inches(8, 10)\n",
    "countsList = [v[0][0] for v in countsDict.values()]\n",
    "# AEDWIP no magic number 38 = number of classes\n",
    "dt = diseaseLabelEncoder.inverse_transform(range(38))\n",
    "plt.barh(dt, countsList)\n",
    "plt.title(\"Fig 1. Count of genes that individually classified as diesase type\")\n",
    "plt.xlabel(\"counts\")\n",
    "plt.show()"
   ]
  },
  {
   "cell_type": "code",
   "execution_count": 12,
   "metadata": {},
   "outputs": [
    {
     "name": "stdout",
     "output_type": "stream",
     "text": [
      "(44, \"24_['Pancreatic Adenocarcinoma']\")\n"
     ]
    }
   ],
   "source": [
    "# find disease with fewest genes that individually classified as diesase type\n",
    "# this is ugly. could not figure out how to do this using pandas\n",
    "from math import inf\n",
    "smallest = (inf, \"AEDWIP\")\n",
    "for k, vv in countsDict.items():\n",
    "    v = vv[0][0]\n",
    "    if smallest[0] > v:\n",
    "        smallest = (v, k)\n",
    "\n",
    "print(smallest)"
   ]
  },
  {
   "cell_type": "code",
   "execution_count": 16,
   "metadata": {},
   "outputs": [],
   "source": [
    "#https://www.tutorialspoint.com/python_pandas/python_pandas_groupby.htm\n",
    "groupedDF = activationDF.groupby('disease')\n",
    "#groupedDF.get_group('Pancreatic Adenocarcinoma')"
   ]
  },
  {
   "cell_type": "code",
   "execution_count": 26,
   "metadata": {},
   "outputs": [
    {
     "name": "stdout",
     "output_type": "stream",
     "text": [
      "disease type with smallest identified gene set:['Pancreatic Adenocarcinoma']\n",
      "number of genes in set:44\n"
     ]
    },
    {
     "data": {
      "text/plain": [
       "array(['AC079235.1', 'AC087499.9', 'AC090311.1', 'AC231645.1',\n",
       "       'AL008708.1', 'AL354931.1', 'AL603650.4', 'ARAF', 'ATP6V1D',\n",
       "       'C14orf93', 'CLK3', 'CNPY3', 'CTC-258N23.3', 'CTD-2132H18.3',\n",
       "       'CYB5D2', 'FADS2P1', 'FBXW4', 'GOLGB1', 'HMGN1P5', 'KB-1582A10.2',\n",
       "       'LINC00616', 'LINC01035', 'MED10', 'MON1A', 'NEK3', 'PIN1',\n",
       "       'RFPL3-AS1_1', 'RNA5SP143', 'RNA5SP366', 'RNA5SP409', 'RNA5SP523',\n",
       "       'RNA5SP55', 'RNU6-1194P', 'RNU6-204P', 'RNU6-498P',\n",
       "       'RP11-626I20.3', 'RP11-74J13.9', 'SCARNA4', 'SF3B5', 'SGSM3',\n",
       "       'SLC35B3', 'SNORA70D', 'STX18', 'SUGT1'], dtype=object)"
      ]
     },
     "execution_count": 26,
     "metadata": {},
     "output_type": "execute_result"
    }
   ],
   "source": [
    "setCount = smallest[0]\n",
    "smallestDiseaseValue, smallestDisease = smallest[1].split(\"_\")\n",
    "print(\"disease type with smallest identified gene set:{}\".format(smallestDisease))\n",
    "print(\"number of genes in set:{}\".format(setCount))\n",
    "groupedDF.get_group('Pancreatic Adenocarcinoma')['HugoId'].values"
   ]
  },
  {
   "cell_type": "markdown",
   "metadata": {},
   "source": [
    "https://www.kegg.jp/kegg-bin/search?q=%09Pancreatic+Adenocarcinoma&display=disease&from=disease\n",
    "https://www.kegg.jp/dbget-bin/www_bget?ds:H00019\n",
    "\n",
    "        \n",
    "google CYB5D2 Pancreatic Adenocarcinoma\n",
    "https://www.proteinatlas.org/ENSG00000167740-CYB5D2/pathology\n",
    "https://www.ncbi.nlm.nih.gov/pmc/articles/PMC4753160/"
   ]
  }
 ],
 "metadata": {
  "kernelspec": {
   "display_name": "Python 3",
   "language": "python",
   "name": "python3"
  },
  "language_info": {
   "codemirror_mode": {
    "name": "ipython",
    "version": 3
   },
   "file_extension": ".py",
   "mimetype": "text/x-python",
   "name": "python",
   "nbconvert_exporter": "python",
   "pygments_lexer": "ipython3",
   "version": "3.6.5"
  },
  "toc": {
   "base_numbering": 1,
   "nav_menu": {},
   "number_sections": true,
   "sideBar": true,
   "skip_h1_title": false,
   "title_cell": "Table of Contents",
   "title_sidebar": "Contents",
   "toc_cell": false,
   "toc_position": {},
   "toc_section_display": true,
   "toc_window_display": false
  },
  "varInspector": {
   "cols": {
    "lenName": 16,
    "lenType": 16,
    "lenVar": 40
   },
   "kernels_config": {
    "python": {
     "delete_cmd_postfix": "",
     "delete_cmd_prefix": "del ",
     "library": "var_list.py",
     "varRefreshCmd": "print(var_dic_list())"
    },
    "r": {
     "delete_cmd_postfix": ") ",
     "delete_cmd_prefix": "rm(",
     "library": "var_list.r",
     "varRefreshCmd": "cat(var_dic_list()) "
    }
   },
   "types_to_exclude": [
    "module",
    "function",
    "builtin_function_or_method",
    "instance",
    "_Feature"
   ],
   "window_display": false
  }
 },
 "nbformat": 4,
 "nbformat_minor": 2
}
