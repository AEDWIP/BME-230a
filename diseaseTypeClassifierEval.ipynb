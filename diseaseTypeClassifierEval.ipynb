{
 "cells": [
  {
   "cell_type": "markdown",
   "metadata": {},
   "source": [
    "# Disease Type Classifier Evaluation\n",
    "\n",
    "- BME 230A class project winter 2019\n",
    "- Andrew E. Davidson\n",
    "- [aedavids@ucsc.edu](mailto:aedavids@edu?subject=SimpleModel.ipynb)\n",
    "\n",
    "ref: diseaseTypeClassifier.ipynb\n",
    "\n",
    "identify genes that maximal activate and compare to known cancer causing genes"
   ]
  },
  {
   "cell_type": "code",
   "execution_count": 1,
   "metadata": {},
   "outputs": [
    {
     "name": "stderr",
     "output_type": "stream",
     "text": [
      "Using TensorFlow backend.\n"
     ]
    },
    {
     "name": "stdout",
     "output_type": "stream",
     "text": [
      "/home/ubuntu/BME-230a\r\n"
     ]
    }
   ],
   "source": [
    "from keras.models import load_model\n",
    "\n",
    "import matplotlib.pyplot as plt\n",
    "import numpy as np\n",
    "import os \n",
    "import pandas as pd\n",
    "\n",
    "from sklearn.preprocessing import LabelEncoder\n",
    "import sys\n",
    "\n",
    "import tensorflow as tf\n",
    "\n",
    "# fix random seed for reproducibility\n",
    "theMeaningOfLife = 42\n",
    "\n",
    "import keras\n",
    "if \"2.1.6\" != keras.__version__ :\n",
    "    emsg = \"ERROR keras version {} != 2.1.6, new version can not save and restore models\".format(keras.__version__)\n",
    "    raise ValueError(emsg)\n",
    "\n",
    "# add path to our local modules\n",
    "# assume they are in the same directory we launched the juypter server in\n",
    "# /home/ubuntu/BME-230a\n",
    "!pwd\n",
    "localModuleDir = \".\"\n",
    "sys.path.append(localModuleDir)"
   ]
  },
  {
   "cell_type": "markdown",
   "metadata": {},
   "source": [
    "## load model and data"
   ]
  },
  {
   "cell_type": "code",
   "execution_count": 2,
   "metadata": {},
   "outputs": [
    {
     "name": "stdout",
     "output_type": "stream",
     "text": [
      "/bme-230a-ebs/data/tcga_target_gtex.h5\n",
      "sourceDataFilePath:/bme-230a-ebs/data/tcga_target_gtex.h5\n",
      "CPU times: user 1.33 s, sys: 4.96 s, total: 6.29 s\n",
      "Wall time: 6.29 s\n"
     ]
    }
   ],
   "source": [
    "%%time\n",
    "rootDir = \"/bme-230a-ebs\"\n",
    "sourceDataFilePath = \"{}/data/tcga_target_gtex.h5\".format(rootDir)\n",
    "print(sourceDataFilePath)\n",
    "if not os.path.isfile(sourceDataFilePath) :\n",
    "    emsg = \"ERROR: {} not found\".format(sourceDataFilePath)\n",
    "    print(emsg)\n",
    "    print(\"change rootDir\")\n",
    "    sys.stdout.flush() # force error message to print\n",
    "    raise ValueError(emsg)\n",
    "    \n",
    "from loadData import loadCancerDiseaseTypeTidyDataSet\n",
    "\n",
    "ret = loadCancerDiseaseTypeTidyDataSet(rootDir)\n",
    "diseaseLabelEncoder, XTrainNumpy, yTrainNumpy, XTestNumpy, yTestNumpy = ret\n",
    "#XTestNumpy = yTestNumpy = None # clean up memory\n",
    "ret = None # clean up memory"
   ]
  },
  {
   "cell_type": "markdown",
   "metadata": {},
   "source": [
    "## <span style=\"color:red\"> AEDWIP the data looks suprisingly clean</span>\n",
    "- was there a bug in the original data set prepration ?\n",
    "- was a bug introduced while creating the tidy data set?\n",
    "    * maybe sklearn.model_selection.StratifiedShuffleSplit samples with replacement by default?\n",
    "- signifigant figure?"
   ]
  },
  {
   "cell_type": "code",
   "execution_count": 3,
   "metadata": {},
   "outputs": [
    {
     "name": "stdout",
     "output_type": "stream",
     "text": [
      "[[-9.96604119 -9.96581639 -9.96588062]\n",
      " [-9.96604119 -9.96581639 -9.96588062]\n",
      " [-9.96604119 -9.96581639 -9.96588062]\n",
      " [-9.96604119 -9.96581639 -9.96588062]\n",
      " [-9.96604119 -9.96581639 -9.96588062]\n",
      " [-9.96604119 -9.96581639 -9.96588062]\n",
      " [-9.96604119 -9.96581639 -9.96588062]\n",
      " [-9.96604119 -9.96581639 -9.96588062]\n",
      " [-9.96604119 -9.96581639 -9.96588062]\n",
      " [-9.96604119 -9.96581639 -9.96588062]]\n"
     ]
    }
   ],
   "source": [
    "print(XTrainNumpy[0:10, 0:3])"
   ]
  },
  {
   "cell_type": "code",
   "execution_count": 4,
   "metadata": {},
   "outputs": [],
   "source": [
    "# print(yTrainNumpy[0:3,:]) shape (1, 1 + k ) [0] is diseasy type, rest is one hot\n",
    "# looks like maybe a bug\n",
    "# load XDF and YDF , what is the deiase value if normal? I get it imputed to either NaN or 0"
   ]
  },
  {
   "cell_type": "code",
   "execution_count": 5,
   "metadata": {},
   "outputs": [
    {
     "name": "stdout",
     "output_type": "stream",
     "text": [
      "_________________________________________________________________\n",
      "Layer (type)                 Output Shape              Param #   \n",
      "=================================================================\n",
      "input_1 (InputLayer)         (None, 58581)             0         \n",
      "_________________________________________________________________\n",
      "batch_normalization_1 (Batch (None, 58581)             234324    \n",
      "_________________________________________________________________\n",
      "dense_1 (Dense)              (None, 38)                2226116   \n",
      "_________________________________________________________________\n",
      "activation_1 (Activation)    (None, 38)                0         \n",
      "=================================================================\n",
      "Total params: 2,460,440\n",
      "Trainable params: 2,343,278\n",
      "Non-trainable params: 117,162\n",
      "_________________________________________________________________\n"
     ]
    }
   ],
   "source": [
    "modelName=\"diseaseClassifier\"\n",
    "modelRootDir = \"{}/models\".format(rootDir)\n",
    "fullModelPath = \"{}/{}.h5\".format(modelRootDir, modelName)\n",
    "diseaseClassifierModel = load_model(fullModelPath)\n",
    "diseaseClassifierModel.summary()"
   ]
  },
  {
   "cell_type": "code",
   "execution_count": 6,
   "metadata": {},
   "outputs": [
    {
     "name": "stdout",
     "output_type": "stream",
     "text": [
      "m:58581 batchSize:6000 numBatches:9 r:4581\n",
      "maxActivations.shape:(58581, 1)\n",
      "CPU times: user 1min 22s, sys: 12.6 s, total: 1min 34s\n",
      "Wall time: 27.2 s\n"
     ]
    }
   ],
   "source": [
    "%%time\n",
    "# find which class a gene maximal activates\n",
    "def findAEDWIP(model, m, batchSize):\n",
    "    '''\n",
    "    input:\n",
    "        model:\n",
    "        #n: the number of examples\n",
    "        m: the number of features\n",
    "        batchSize\n",
    "    '''\n",
    "    ret = np.zeros((m,1))\n",
    "    numBatches,r = divmod(m, batchSize)\n",
    "    print(\"m:{} batchSize:{} numBatches:{} r:{}\".format(m, batchSize, numBatches, r))\n",
    "    startRowIdx = 0\n",
    "    batchCount = 0\n",
    "    while (batchCount < numBatches):\n",
    "        if batchCount < numBatches:\n",
    "            bs = batchSize\n",
    "        else:\n",
    "            bs = r # short batch\n",
    "\n",
    "        # create a feature vector one hot. We only want the activation f\n",
    "        # value for a single gene\n",
    "        batch = np.zeros((bs, m))\n",
    "        for j in range(bs):\n",
    "            # use a high value\n",
    "            # when value was 1 all predictions where class 27\n",
    "            batch[j, startRowIdx + j] = 1000000 \n",
    "        \n",
    "        predictions = model.predict(batch)\n",
    "        predictedValuesTensor = keras.backend.argmax(predictions)\n",
    "\n",
    "        # use keras escape hatch to tensor flow\n",
    "        # there is probably a better way to do this\n",
    "        sess = tf.Session()\n",
    "        with sess.as_default():\n",
    "            predictedValuesNumpy = predictedValuesTensor.eval()  \n",
    "\n",
    "        shape = predictedValuesNumpy.shape\n",
    "        ret[startRowIdx: startRowIdx+bs] = np.reshape(predictedValuesNumpy, (shape[0],-1))\n",
    "        \n",
    "        # increment loop counts\n",
    "        batchCount += 1\n",
    "        startRowIdx += bs\n",
    "        #print(\"batchCount:{} next start:{}\".format( batchCount,startRowIdx))\n",
    "\n",
    "    return ret\n",
    "    \n",
    "\n",
    "# why hold on to all the memory we can probably pick these values out of the mode\n",
    "xShape= XTrainNumpy.shape\n",
    "maxActivations = findAEDWIP(diseaseClassifierModel, m=xShape[1],  batchSize=6000) \n",
    "print(\"maxActivations.shape:{}\".format(maxActivations.shape))"
   ]
  },
  {
   "cell_type": "code",
   "execution_count": 7,
   "metadata": {
    "scrolled": false
   },
   "outputs": [
    {
     "name": "stdout",
     "output_type": "stream",
     "text": [
      "[[ 6. 26.  6. 30.  0. 14.  6.  6.  6. 33.  6. 29.  5. 14. 19. 20.  6. 16.\n",
      "  16. 16.  6.  6. 33. 26.  6. 30. 29. 27. 26. 26. 16. 16. 26.  4. 29. 26.\n",
      "   5. 23. 29. 16. 26.  6.  5. 26. 26.  6. 19.  5. 16. 23. 20. 26. 16.  6.\n",
      "  26.  6. 20. 14.  6. 14. 29. 26. 20.  6. 23.  4. 29. 12. 19. 23. 30. 16.\n",
      "  26.  6.  6. 26. 33. 16. 16. 26. 10. 19. 16. 29. 29. 23. 16. 26. 16. 26.\n",
      "  29. 29. 16.  6.  6. 26. 20. 23. 10. 16. 30.  6.  6. 16. 16. 23.  6.  6.\n",
      "   6. 16.  6. 23. 29. 26. 30.  6. 33. 20.  6. 23.  6. 29.  6. 29. 29. 16.\n",
      "  23.  6.  6. 23.  6.  6.  1. 23. 16. 20.  1.  6. 16. 16. 23. 19.  5.  6.\n",
      "  17. 29.  6.  6. 30. 16. 16.  6.  6. 23. 16. 29.  6. 26. 23. 20. 14. 29.\n",
      "  20. 33. 16. 16.  6. 29. 26. 16.  5. 16. 12. 19. 16.  6. 16. 23. 23.  5.\n",
      "  23. 30. 23. 20.  5. 26. 23.  6. 14. 14. 16.  6. 26. 16. 16. 26. 23.  6.\n",
      "  20. 23.]]\n"
     ]
    }
   ],
   "source": [
    "print(np.transpose(maxActivations[100:300]))"
   ]
  },
  {
   "cell_type": "code",
   "execution_count": 8,
   "metadata": {},
   "outputs": [
    {
     "name": "stdout",
     "output_type": "stream",
     "text": [
      "   diseaseValue\n",
      "0          23.0\n",
      "1          16.0\n",
      "2           6.0\n",
      "3          20.0\n",
      "4           6.0\n",
      "       diseaseValue\n",
      "58576           0.0\n",
      "58577           0.0\n",
      "58578           0.0\n",
      "58579           0.0\n",
      "58580           0.0\n",
      "RangeIndex(start=0, stop=58581, step=1)\n",
      "(58581, 1)\n"
     ]
    }
   ],
   "source": [
    "# geneIdx is the feature column index\n",
    "# print(xShape[1])\n",
    "# geneIdx = np.arange(xShape[1]) \n",
    "# print(geneIdx.shape)\n",
    "# print(geneIdx)\n",
    "\n",
    "xxxDF = pd.DataFrame(maxActivations, columns=[\"diseaseValue\"])\n",
    "print(xxxDF.head())\n",
    "print(xxxDF.tail())\n",
    "print(xxxDF.index)\n",
    "print(xxxDF.shape)"
   ]
  },
  {
   "cell_type": "code",
   "execution_count": 9,
   "metadata": {},
   "outputs": [],
   "source": [
    "%%capture --no-display\n",
    "# turn off deprecation warnings\n",
    "# https://ipython.readthedocs.io/en/stable/interactive/magics.html?highlight=capture#cellmagic-capture\n",
    "counts = dict()\n",
    "grouped = xxxDF.groupby(\"diseaseValue\")\n",
    "for diseaseValue, group in grouped:\n",
    "    stats = group.agg(['count'])\n",
    "    dv = int(diseaseValue)\n",
    "    key = \"{}_{}\".format(dv,diseaseLabelEncoder.inverse_transform([dv]) )\n",
    "    counts[key] = stats.values"
   ]
  },
  {
   "cell_type": "code",
   "execution_count": 10,
   "metadata": {
    "scrolled": false
   },
   "outputs": [
    {
     "name": "stdout",
     "output_type": "stream",
     "text": [
      "key:24_['Pancreatic Adenocarcinoma'] maximal activated gene count:[[44]]\n"
     ]
    }
   ],
   "source": [
    "print(\"key:24_['Pancreatic Adenocarcinoma'] maximal activated gene count:{}\"\n",
    "         .format(counts[\"24_['Pancreatic Adenocarcinoma']\"]))"
   ]
  },
  {
   "cell_type": "code",
   "execution_count": null,
   "metadata": {},
   "outputs": [],
   "source": []
  },
  {
   "cell_type": "code",
   "execution_count": 11,
   "metadata": {},
   "outputs": [],
   "source": [
    "# plt.hist(countsList,  bins=38, label=list(counts.keys()) )"
   ]
  },
  {
   "cell_type": "code",
   "execution_count": 12,
   "metadata": {},
   "outputs": [],
   "source": [
    "# dt = diseaseLabelEncoder.inverse_transform(range(38))\n",
    "# fig, ax = plt.subplots()\n",
    "# fig.set_size_inches(20,5)\n",
    "# plt.bar(dt, countsList )\n",
    "# # plt.bar(countsList, dt )\n",
    "\n",
    "# # https://stackoverflow.com/a/52724092/4586180\n",
    "# # Rotation of the bars names\n",
    "# plt.xticks(rotation=45)\n",
    "# plt.show()"
   ]
  },
  {
   "cell_type": "code",
   "execution_count": 13,
   "metadata": {},
   "outputs": [],
   "source": [
    "%%capture --no-display\n",
    "# turn off deprecation warnings\n",
    "# https://ipython.readthedocs.io/en/stable/interactive/magics.html?highlight=capture#cellmagic-capture\n",
    "dt = diseaseLabelEncoder.inverse_transform(range(38))"
   ]
  },
  {
   "cell_type": "code",
   "execution_count": 14,
   "metadata": {},
   "outputs": [
    {
     "data": {
      "image/png": "[encoded data removed]",
      "text/plain": [
       "<Figure size 360x720 with 1 Axes>"
      ]
     },
     "metadata": {},
     "output_type": "display_data"
    }
   ],
   "source": [
    "fig, ax = plt.subplots()\n",
    "fig.set_size_inches(5,10)\n",
    "countsList = [v[0][0] for v in counts.values()]\n",
    "plt.barh(dt, countsList )\n",
    "plt.show()"
   ]
  },
  {
   "cell_type": "code",
   "execution_count": null,
   "metadata": {},
   "outputs": [],
   "source": []
  },
  {
   "cell_type": "code",
   "execution_count": null,
   "metadata": {},
   "outputs": [],
   "source": []
  },
  {
   "cell_type": "code",
   "execution_count": null,
   "metadata": {},
   "outputs": [],
   "source": []
  }
 ],
 "metadata": {
  "kernelspec": {
   "display_name": "Python 3",
   "language": "python",
   "name": "python3"
  },
  "language_info": {
   "codemirror_mode": {
    "name": "ipython",
    "version": 3
   },
   "file_extension": ".py",
   "mimetype": "text/x-python",
   "name": "python",
   "nbconvert_exporter": "python",
   "pygments_lexer": "ipython3",
   "version": "3.6.5"
  }
 },
 "nbformat": 4,
 "nbformat_minor": 2
}
