{
 "cells": [
  {
   "cell_type": "markdown",
   "metadata": {},
   "source": [
    "# Disease Type Classifier Evaluation\n",
    "\n",
    "- BME 230A class project winter 2019\n",
    "- Andrew E. Davidson\n",
    "- [aedavids@ucsc.edu](mailto:aedavids@edu?subject=SimpleModel.ipynb)\n",
    "\n",
    "identify genes that maximal activate and compare to known cancer causing genes"
   ]
  },
  {
   "cell_type": "code",
   "execution_count": 1,
   "metadata": {},
   "outputs": [
    {
     "name": "stderr",
     "output_type": "stream",
     "text": [
      "Using TensorFlow backend.\n"
     ]
    },
    {
     "name": "stdout",
     "output_type": "stream",
     "text": [
      "/home/ubuntu/BME-230a\r\n"
     ]
    }
   ],
   "source": [
    "from keras.models import load_model\n",
    "\n",
    "import matplotlib.pyplot as plt\n",
    "import numpy as np\n",
    "import os \n",
    "import pandas as pd\n",
    "\n",
    "from sklearn.preprocessing import LabelEncoder\n",
    "import sys\n",
    "\n",
    "import tensorflow as tf\n",
    "\n",
    "# fix random seed for reproducibility\n",
    "theMeaningOfLife = 42\n",
    "\n",
    "import keras\n",
    "if \"2.1.6\" != keras.__version__ :\n",
    "    emsg = \"ERROR keras version {} != 2.1.6, new version can not save and restore models\".format(keras.__version__)\n",
    "    raise ValueError(emsg)\n",
    "\n",
    "# add path to our local modules\n",
    "# assume they are in the same directory we launched the juypter server in\n",
    "# /home/ubuntu/BME-230a\n",
    "!pwd\n",
    "localModuleDir = \".\"\n",
    "sys.path.append(localModuleDir)"
   ]
  },
  {
   "cell_type": "markdown",
   "metadata": {},
   "source": [
    "## load model and data"
   ]
  },
  {
   "cell_type": "code",
   "execution_count": 2,
   "metadata": {},
   "outputs": [
    {
     "name": "stdout",
     "output_type": "stream",
     "text": [
      "/bme-230a-ebs/data/tcga_target_gtex.h5\n",
      "sourceDataFilePath:/bme-230a-ebs/data/tcga_target_gtex.h5\n",
      "CPU times: user 1.27 s, sys: 5.56 s, total: 6.83 s\n",
      "Wall time: 53.8 s\n"
     ]
    }
   ],
   "source": [
    "%%time\n",
    "rootDir = \"/bme-230a-ebs\"\n",
    "sourceDataFilePath = \"{}/data/tcga_target_gtex.h5\".format(rootDir)\n",
    "print(sourceDataFilePath)\n",
    "if not os.path.isfile(sourceDataFilePath) :\n",
    "    emsg = \"ERROR: {} not found\".format(sourceDataFilePath)\n",
    "    print(emsg)\n",
    "    print(\"change rootDir\")\n",
    "    sys.stdout.flush() # force error message to print\n",
    "    raise ValueError(emsg)\n",
    "    \n",
    "from loadData import loadDiseaseTypeData\n",
    "# literate programing, name all the return values even though we do not\n",
    "# use them\n",
    "XTrainNumpy, yTrainNumpy, XTestNumpy, yTestNumpy = loadDiseaseTypeData(rootDir)\n",
    "#XTestNumpy = yTestNumpy = None # clear memory"
   ]
  },
  {
   "cell_type": "markdown",
   "metadata": {},
   "source": [
    "## <span style=\"color:red\"> AEDWIP the data looks suprisingly clean</span>\n",
    "- was there a bug in the original data set prepration ?\n",
    "- was a bug introduced while creating the tidy data set?\n",
    "    * maybe sklearn.model_selection.StratifiedShuffleSplit samples with replacement by default?"
   ]
  },
  {
   "cell_type": "code",
   "execution_count": 3,
   "metadata": {},
   "outputs": [
    {
     "name": "stdout",
     "output_type": "stream",
     "text": [
      "[[-9.96604119 -9.96581639 -9.96588062]\n",
      " [-9.96604119 -9.96581639 -9.96588062]\n",
      " [-9.96604119 -9.96581639 -2.38840045]\n",
      " [-9.96604119 -9.96581639 -2.93240066]\n",
      " [-9.96604119 -9.96581639 -9.96588062]\n",
      " [-9.96604119 -9.96581639 -9.96588062]\n",
      " [ 4.78870011 -9.96581639  0.42331692]\n",
      " [-9.96604119 -9.96581639 -9.96588062]\n",
      " [-9.96604119 -9.96581639 -0.28450013]\n",
      " [-9.96604119 -9.96581639 -9.96588062]]\n"
     ]
    }
   ],
   "source": [
    "print(XTrainNumpy[0:10, 0:3])"
   ]
  },
  {
   "cell_type": "code",
   "execution_count": 4,
   "metadata": {},
   "outputs": [
    {
     "name": "stdout",
     "output_type": "stream",
     "text": [
      "_________________________________________________________________\n",
      "Layer (type)                 Output Shape              Param #   \n",
      "=================================================================\n",
      "input_1 (InputLayer)         (None, 58581)             0         \n",
      "_________________________________________________________________\n",
      "batch_normalization_1 (Batch (None, 58581)             234324    \n",
      "_________________________________________________________________\n",
      "dense_1 (Dense)              (None, 93)                5448126   \n",
      "_________________________________________________________________\n",
      "activation_1 (Activation)    (None, 93)                0         \n",
      "=================================================================\n",
      "Total params: 5,682,450\n",
      "Trainable params: 5,565,288\n",
      "Non-trainable params: 117,162\n",
      "_________________________________________________________________\n"
     ]
    }
   ],
   "source": [
    "modelName=\"diseaseClassifier\"\n",
    "modelRootDir = \"{}/models\".format(rootDir)\n",
    "fullModelPath = \"{}/full{}.h5\".format(modelRootDir, modelName)\n",
    "diseaseClassifierModel = load_model(fullModelPath)\n",
    "diseaseClassifierModel.summary()"
   ]
  },
  {
   "cell_type": "code",
   "execution_count": 24,
   "metadata": {
    "scrolled": false
   },
   "outputs": [
    {
     "name": "stdout",
     "output_type": "stream",
     "text": [
      "m:58581 batchSize:6000 numBatches:9 r:4581\n",
      "ret.shape:(58581, 1)\n",
      "[[27. 51. 51. 52. 56. 72. 31. 27. 57. 25. 51. 25. 11. 57.  1. 58. 51. 71.\n",
      "  25. 52. 27. 27.  6. 80. 27. 51. 27. 51. 52. 52. 51. 55. 61. 23. 27. 71.\n",
      "  64. 75. 27. 27. 51. 80.  8. 27. 51.  7. 57. 27. 51. 73.  9. 80. 80. 27.\n",
      "  76. 67. 25. 31. 27. 51. 52. 27. 27. 27. 76. 67. 87. 11. 55. 27.  6. 51.\n",
      "  25. 51. 27. 25. 25. 27. 31. 66. 71. 52. 51. 25. 14. 30. 40. 57. 66. 71.\n",
      "  51. 27. 27. 27. 27. 76. 80. 51. 89. 80. 48. 27. 27. 27. 27. 51. 27. 27.\n",
      "  71. 27. 27. 27. 80. 68.  1. 61. 87. 51. 27. 51. 80. 23. 71. 64. 51. 40.\n",
      "  64. 27. 51. 27. 27. 85. 46. 80. 27. 58. 31. 27. 80. 51. 47. 57. 27. 85.\n",
      "  92. 25. 27. 27. 25. 27. 51. 61. 57. 51. 51. 27. 27. 71. 38. 40. 71. 72.\n",
      "  51. 85. 51. 58. 76. 71. 51. 51. 64. 51. 46. 27. 51. 62. 51. 25. 76. 71.\n",
      "  27. 25. 27. 68. 84. 27. 51. 64. 82. 21. 51. 51. 27. 76. 25. 64. 31. 27.\n",
      "   1. 71.]]\n",
      "CPU times: user 1min 30s, sys: 12.9 s, total: 1min 43s\n",
      "Wall time: 29.1 s\n"
     ]
    }
   ],
   "source": [
    "%%time\n",
    "# find which class a gene maximal activates\n",
    "def findAEDWIP(model, m, batchSize):\n",
    "    '''\n",
    "    input:\n",
    "        model:\n",
    "        #n: the number of examples\n",
    "        m: the number of features\n",
    "        batchSize\n",
    "    '''\n",
    "    ret = np.zeros((m,1))\n",
    "    numBatches,r = divmod(m, batchSize)\n",
    "    print(\"m:{} batchSize:{} numBatches:{} r:{}\".format(m, batchSize, numBatches, r))\n",
    "    startRowIdx = 0\n",
    "    batchCount = 0\n",
    "    while (batchCount < numBatches):\n",
    "        if batchCount < numBatches:\n",
    "            bs = batchSize\n",
    "        else:\n",
    "            bs = r # short batch\n",
    "\n",
    "\n",
    "        # create a feature vector one hot. We only want the activation f\n",
    "        # value for a single gene\n",
    "        batch = np.zeros((bs, m))\n",
    "        for j in range(bs):\n",
    "            # use a high value\n",
    "            # when value was 1 all predictions where class 27\n",
    "            batch[j, startRowIdx + j] = 1000000 \n",
    "        \n",
    "        predictions = model.predict(batch)\n",
    "        predictedValuesTensor = keras.backend.argmax(predictions)\n",
    "\n",
    "        # use keras escape hatch to tensor flow\n",
    "        # there is probably a better way to do this\n",
    "        sess = tf.Session()\n",
    "        with sess.as_default():\n",
    "            predictedValuesNumpy = predictedValuesTensor.eval()  \n",
    "\n",
    "        shape = predictedValuesNumpy.shape\n",
    "        ret[startRowIdx: startRowIdx+bs] = np.reshape(predictedValuesNumpy, (shape[0],-1))\n",
    "        \n",
    "        # increment loop counts\n",
    "        batchCount += 1\n",
    "        startRowIdx += bs\n",
    "        #print(\"batchCount:{} next start:{}\".format( batchCount,startRowIdx))\n",
    "\n",
    "    return ret\n",
    "    \n",
    "\n",
    "# findAEDWIP(diseaseClassifierModel, XTrainNumpy[0:10, :])\n",
    "# why hold on to all the memory we can probably pick these values out of the mode\n",
    "xShape= XTrainNumpy.shape\n",
    "ret = findAEDWIP(diseaseClassifierModel, m=xShape[1],  batchSize=6000) \n",
    "print(\"ret.shape:{}\".format(ret.shape))\n",
    "print(np.transpose(ret[100:300]))"
   ]
  },
  {
   "cell_type": "code",
   "execution_count": null,
   "metadata": {},
   "outputs": [],
   "source": []
  },
  {
   "cell_type": "code",
   "execution_count": null,
   "metadata": {},
   "outputs": [],
   "source": []
  },
  {
   "cell_type": "code",
   "execution_count": null,
   "metadata": {},
   "outputs": [],
   "source": []
  },
  {
   "cell_type": "code",
   "execution_count": null,
   "metadata": {},
   "outputs": [],
   "source": []
  },
  {
   "cell_type": "code",
   "execution_count": null,
   "metadata": {},
   "outputs": [],
   "source": []
  }
 ],
 "metadata": {
  "kernelspec": {
   "display_name": "Python 3",
   "language": "python",
   "name": "python3"
  },
  "language_info": {
   "codemirror_mode": {
    "name": "ipython",
    "version": 3
   },
   "file_extension": ".py",
   "mimetype": "text/x-python",
   "name": "python",
   "nbconvert_exporter": "python",
   "pygments_lexer": "ipython3",
   "version": "3.6.5"
  }
 },
 "nbformat": 4,
 "nbformat_minor": 2
}
