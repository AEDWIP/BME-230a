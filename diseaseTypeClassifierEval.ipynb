{
 "cells": [
  {
   "cell_type": "markdown",
   "metadata": {},
   "source": [
    "# Disease Type Classifier Evaluation\n",
    "\n",
    "- BME 230A class project winter 2019\n",
    "- Andrew E. Davidson\n",
    "- [aedavids@ucsc.edu](mailto:aedavids@edu?subject=SimpleModel.ipynb)\n",
    "\n",
    "identify genes that maximal activate and compare to known cancer causing genes"
   ]
  },
  {
   "cell_type": "code",
   "execution_count": 6,
   "metadata": {},
   "outputs": [
    {
     "name": "stdout",
     "output_type": "stream",
     "text": [
      "/home/ubuntu/BME-230a\r\n"
     ]
    }
   ],
   "source": [
    "from keras.models import load_model\n",
    "\n",
    "import matplotlib.pyplot as plt\n",
    "import numpy as np\n",
    "import os \n",
    "import pandas as pd\n",
    "\n",
    "from sklearn.preprocessing import LabelEncoder\n",
    "import sys\n",
    "\n",
    "import tensorflow as tf\n",
    "\n",
    "# fix random seed for reproducibility\n",
    "theMeaningOfLife = 42\n",
    "\n",
    "import keras\n",
    "if \"2.1.6\" != keras.__version__ :\n",
    "    emsg = \"ERROR keras version {} != 2.1.6, new version can not save and restore models\".format(keras.__version__)\n",
    "    raise ValueError(emsg)\n",
    "\n",
    "# add path to our local modules\n",
    "# assume they are in the same directory we launched the juypter server in\n",
    "# /home/ubuntu/BME-230a\n",
    "!pwd\n",
    "localModuleDir = \".\"\n",
    "sys.path.append(localModuleDir)"
   ]
  },
  {
   "cell_type": "markdown",
   "metadata": {},
   "source": [
    "## load model and data"
   ]
  },
  {
   "cell_type": "code",
   "execution_count": 22,
   "metadata": {},
   "outputs": [
    {
     "name": "stdout",
     "output_type": "stream",
     "text": [
      "/bme-230a-ebs/data/tcga_target_gtex.h5\n",
      "sourceDataFilePath:/bme-230a-ebs/data/tcga_target_gtex.h5\n",
      "<class 'numpy.ndarray'>\n",
      "(19126, 93)\n",
      "<class 'numpy.ndarray'>\n",
      "(19126, 1)\n",
      "CPU times: user 1.12 s, sys: 7.46 s, total: 8.58 s\n",
      "Wall time: 25.6 s\n"
     ]
    }
   ],
   "source": [
    "%%time\n",
    "rootDir = \"/bme-230a-ebs\"\n",
    "sourceDataFilePath = \"{}/data/tcga_target_gtex.h5\".format(rootDir)\n",
    "print(sourceDataFilePath)\n",
    "if not os.path.isfile(sourceDataFilePath) :\n",
    "    emsg = \"ERROR: {} not found\".format(sourceDataFilePath)\n",
    "    print(emsg)\n",
    "    print(\"change rootDir\")\n",
    "    sys.stdout.flush() # force error message to print\n",
    "    raise ValueError(emsg)\n",
    "    \n",
    "from loadData import loadDiseaseTypeData\n",
    "# literate programing, name all the return values even though we do not\n",
    "# use them\n",
    "XTrainNumpy, yTrainNumpy, XTestNumpy, yTestNumpy = loadDiseaseTypeData(rootDir)\n",
    "#XTestNumpy = yTestNumpy = None # clear memory"
   ]
  },
  {
   "cell_type": "markdown",
   "metadata": {},
   "source": [
    "## <span style=\"color:red\"> AEDWIP the data looks suprisingly clean</span>\n",
    "- was there a bug in the original data set prepration ?\n",
    "- was a bug introduced while creating the tidy data set?\n",
    "    * maybe sklearn.model_selection.StratifiedShuffleSplit samples with replacement by default?"
   ]
  },
  {
   "cell_type": "code",
   "execution_count": 17,
   "metadata": {},
   "outputs": [
    {
     "name": "stdout",
     "output_type": "stream",
     "text": [
      "[[-9.96604119 -9.96581639 -9.96588062]\n",
      " [-9.96604119 -9.96581639 -9.96588062]\n",
      " [-9.96604119 -9.96581639 -2.38840045]\n",
      " [-9.96604119 -9.96581639 -2.93240066]\n",
      " [-9.96604119 -9.96581639 -9.96588062]\n",
      " [-9.96604119 -9.96581639 -9.96588062]\n",
      " [ 4.78870011 -9.96581639  0.42331692]\n",
      " [-9.96604119 -9.96581639 -9.96588062]\n",
      " [-9.96604119 -9.96581639 -0.28450013]\n",
      " [-9.96604119 -9.96581639 -9.96588062]]\n"
     ]
    }
   ],
   "source": [
    "print(XTrainNumpy[0:10, 0:3])"
   ]
  },
  {
   "cell_type": "code",
   "execution_count": 7,
   "metadata": {},
   "outputs": [
    {
     "name": "stdout",
     "output_type": "stream",
     "text": [
      "_________________________________________________________________\n",
      "Layer (type)                 Output Shape              Param #   \n",
      "=================================================================\n",
      "input_1 (InputLayer)         (None, 58581)             0         \n",
      "_________________________________________________________________\n",
      "batch_normalization_1 (Batch (None, 58581)             234324    \n",
      "_________________________________________________________________\n",
      "dense_1 (Dense)              (None, 93)                5448126   \n",
      "_________________________________________________________________\n",
      "activation_1 (Activation)    (None, 93)                0         \n",
      "=================================================================\n",
      "Total params: 5,682,450\n",
      "Trainable params: 5,565,288\n",
      "Non-trainable params: 117,162\n",
      "_________________________________________________________________\n"
     ]
    }
   ],
   "source": [
    "modelName=\"diseaseClassifier\"\n",
    "modelRootDir = \"{}/models\".format(rootDir)\n",
    "fullModelPath = \"{}/full{}.h5\".format(modelRootDir, modelName)\n",
    "diseaseClassifierModel = load_model(fullModelPath)\n",
    "diseaseClassifierModel.summary()"
   ]
  },
  {
   "cell_type": "code",
   "execution_count": 42,
   "metadata": {},
   "outputs": [
    {
     "name": "stdout",
     "output_type": "stream",
     "text": [
      "0 2\n",
      "pred.shape:(2, 93)\n",
      "tensor.shape:(2,)\n",
      "AEDwiP  ret:\n",
      "[[27.]\n",
      " [27.]\n",
      " [ 0.]\n",
      " ...\n",
      " [ 0.]\n",
      " [ 0.]\n",
      " [ 0.]]\n"
     ]
    },
    {
     "ename": "ValueError",
     "evalue": "AEDWIP",
     "output_type": "error",
     "traceback": [
      "\u001b[0;31m---------------------------------------------------------------------------\u001b[0m",
      "\u001b[0;31mValueError\u001b[0m                                Traceback (most recent call last)",
      "\u001b[0;32m<timed exec>\u001b[0m in \u001b[0;36m<module>\u001b[0;34m()\u001b[0m\n",
      "\u001b[0;32m<timed exec>\u001b[0m in \u001b[0;36mfindAEDWIP\u001b[0;34m(model, m, batchSize)\u001b[0m\n",
      "\u001b[0;31mValueError\u001b[0m: AEDWIP"
     ]
    }
   ],
   "source": [
    "%%time\n",
    "# find which class a gene maximal activates\n",
    "def findAEDWIP(model, m, batchSize):\n",
    "    '''\n",
    "    input:\n",
    "        model:\n",
    "        #n: the number of examples\n",
    "        m: the number of features\n",
    "        batchSize\n",
    "    '''\n",
    "    ret = np.zeros((m,1))\n",
    "    q,r = divmod(m, batchSize)\n",
    "    startRowIdx = 0\n",
    "    i = 0\n",
    "    while i < q:\n",
    "        if i < q:\n",
    "            bs = batchSize\n",
    "        else:\n",
    "            bs = r # short batch\n",
    "\n",
    "        print(\"{} {}\".format(startRowIdx, startRowIdx + bs))\n",
    "        \n",
    "        # create a feature vector one hot. We only want the activation f\n",
    "        # value for a single gene\n",
    "        batch = np.zeros((bs, m))\n",
    "        for j in range(bs):\n",
    "            batch[j, startRowIdx + j] = 1\n",
    "        \n",
    "        predictions = model.predict(batch)\n",
    "        print(\"pred.shape:{}\".format(predictions.shape))\n",
    "        predictedValuesTensor = keras.backend.argmax(predictions)\n",
    "        print(\"tensor.shape:{}\".format(predictedValuesTensor.shape))\n",
    "    \n",
    "        # use keras escape hatch to tensor flow\n",
    "        sess = tf.Session()\n",
    "        with sess.as_default():\n",
    "            predictedValuesNumpy = predictedValuesTensor.eval()        \n",
    "        \n",
    "#         print(predictedValuesNumpy.shape)\n",
    "#         print(predictedValuesNumpy)\n",
    "\n",
    "        shape = predictedValuesNumpy.shape\n",
    "        #ret[startRowIdx: startRowIdx+bs] = np.reshape(np.array([999, 8888]), (2,1))\n",
    "        # np.reshape(predictedValuesNumpy, (shape[0,-1]))\n",
    "        ret[startRowIdx: startRowIdx+bs] = np.reshape(predictedValuesNumpy, (shape[0],-1))\n",
    "\n",
    "\n",
    "        print(\"AEDwiP  ret:\\n{}\".format(ret))\n",
    "        raise ValueError(\"AEDWIP\")\n",
    "        \n",
    "        \n",
    "        # increment loop counts\n",
    "        i+=1\n",
    "        startRowIdx += bs\n",
    "        \n",
    "        return ret\n",
    "    \n",
    "\n",
    "# findAEDWIP(diseaseClassifierModel, XTrainNumpy[0:10, :])\n",
    "# why hold on to all the memory we can probably pick these values out of the mode\n",
    "xShape= XTrainNumpy.shape\n",
    "yShape = yTrainNumpy.shape\n",
    "#findAEDWIP(diseaseClassifierModel, n=xShape[0], m=xShape[1], k=yShape[1])\n",
    "ret = findAEDWIP(diseaseClassifierModel, m=xShape[1],  batchSize=2)\n",
    "print(ret.shape)\n",
    "print(ret[3])"
   ]
  },
  {
   "cell_type": "code",
   "execution_count": 35,
   "metadata": {},
   "outputs": [
    {
     "data": {
      "text/plain": [
       "array([[0., 0., 0., 0.],\n",
       "       [0., 0., 0., 0.],\n",
       "       [0., 0., 1., 2.],\n",
       "       [0., 0., 3., 4.]])"
      ]
     },
     "execution_count": 35,
     "metadata": {},
     "output_type": "execute_result"
    }
   ],
   "source": [
    "fff = np.zeros((4,4))\n",
    "v = np.array( [[1,2], [3,4]] )\n",
    "              \n",
    "fff[2:4, 2:4] = v\n",
    "fff"
   ]
  }
 ],
 "metadata": {
  "kernelspec": {
   "display_name": "Python 3",
   "language": "python",
   "name": "python3"
  },
  "language_info": {
   "codemirror_mode": {
    "name": "ipython",
    "version": 3
   },
   "file_extension": ".py",
   "mimetype": "text/x-python",
   "name": "python",
   "nbconvert_exporter": "python",
   "pygments_lexer": "ipython3",
   "version": "3.6.5"
  }
 },
 "nbformat": 4,
 "nbformat_minor": 2
}
