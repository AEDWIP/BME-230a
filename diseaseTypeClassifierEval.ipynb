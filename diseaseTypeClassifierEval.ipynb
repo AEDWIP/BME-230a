{
 "cells": [
  {
   "cell_type": "markdown",
   "metadata": {},
   "source": [
    "# Disease Type Classifier Evaluation\n",
    "\n",
    "- BME 230A class project winter 2019\n",
    "- Andrew E. Davidson\n",
    "- [aedavids@ucsc.edu](mailto:aedavids@edu?subject=SimpleModel.ipynb)\n",
    "\n",
    "ref: diseaseTypeClassifier.ipynb\n",
    "\n",
    "identify genes that maximal activate and compare to known cancer causing genes"
   ]
  },
  {
   "cell_type": "code",
   "execution_count": null,
   "metadata": {},
   "outputs": [],
   "source": [
    "from keras.models import load_model\n",
    "\n",
    "import matplotlib.pyplot as plt\n",
    "import numpy as np\n",
    "import os \n",
    "import pandas as pd\n",
    "\n",
    "from sklearn.preprocessing import LabelEncoder\n",
    "import sys\n",
    "\n",
    "import tensorflow as tf\n",
    "\n",
    "# fix random seed for reproducibility\n",
    "theMeaningOfLife = 42\n",
    "\n",
    "import keras\n",
    "if \"2.1.6\" != keras.__version__ :\n",
    "    emsg = \"ERROR keras version {} != 2.1.6, new version can not save and restore models\".format(keras.__version__)\n",
    "    raise ValueError(emsg)\n",
    "\n",
    "# add path to our local modules\n",
    "# assume they are in the same directory we launched the juypter server in\n",
    "# /home/ubuntu/BME-230a\n",
    "!pwd\n",
    "localModuleDir = \".\"\n",
    "sys.path.append(localModuleDir)"
   ]
  },
  {
   "cell_type": "markdown",
   "metadata": {},
   "source": [
    "## load model and data"
   ]
  },
  {
   "cell_type": "code",
   "execution_count": null,
   "metadata": {},
   "outputs": [],
   "source": [
    "%%time\n",
    "rootDir = \"/bme-230a-ebs\"\n",
    "sourceDataFilePath = \"{}/data/tcga_target_gtex.h5\".format(rootDir)\n",
    "print(sourceDataFilePath)\n",
    "if not os.path.isfile(sourceDataFilePath) :\n",
    "    emsg = \"ERROR: {} not found\".format(sourceDataFilePath)\n",
    "    print(emsg)\n",
    "    print(\"change rootDir\")\n",
    "    sys.stdout.flush() # force error message to print\n",
    "    raise ValueError(emsg)\n",
    "    \n",
    "from loadData import loadCancerDiseaseTypeTidyDataSet\n",
    "\n",
    "ret = loadCancerDiseaseTypeTidyDataSet(rootDir)\n",
    "diseaseLabelEncoder, XTrainNumpy, yTrainNumpy, XTestNumpy, yTestNumpy = ret\n",
    "#XTestNumpy = yTestNumpy = None # clean up memory\n",
    "ret = None # clean up memory"
   ]
  },
  {
   "cell_type": "markdown",
   "metadata": {},
   "source": [
    "## <span style=\"color:red\"> AEDWIP the data looks suprisingly clean</span>\n",
    "- was there a bug in the original data set prepration ?\n",
    "- was a bug introduced while creating the tidy data set?\n",
    "    * maybe sklearn.model_selection.StratifiedShuffleSplit samples with replacement by default?\n",
    "- signifigant figure?"
   ]
  },
  {
   "cell_type": "code",
   "execution_count": null,
   "metadata": {},
   "outputs": [],
   "source": [
    "print(XTrainNumpy[0:10, 0:3])"
   ]
  },
  {
   "cell_type": "code",
   "execution_count": null,
   "metadata": {},
   "outputs": [],
   "source": [
    "# print(yTrainNumpy[0:3,:]) shape (1, 1 + k ) [0] is diseasy type, rest is one hot\n",
    "# looks like maybe a bug\n",
    "# load XDF and YDF , what is the deiase value if normal? I get it imputed to either NaN or 0"
   ]
  },
  {
   "cell_type": "code",
   "execution_count": null,
   "metadata": {},
   "outputs": [],
   "source": [
    "modelName=\"diseaseClassifier\"\n",
    "modelRootDir = \"{}/models\".format(rootDir)\n",
    "fullModelPath = \"{}/{}.h5\".format(modelRootDir, modelName)\n",
    "diseaseClassifierModel = load_model(fullModelPath)\n",
    "diseaseClassifierModel.summary()"
   ]
  },
  {
   "cell_type": "code",
   "execution_count": null,
   "metadata": {},
   "outputs": [],
   "source": [
    "%%time\n",
    "# find which class a gene maximal activates\n",
    "def findAEDWIP(model, m, batchSize):\n",
    "    '''\n",
    "    input:\n",
    "        model:\n",
    "        #n: the number of examples\n",
    "        m: the number of features\n",
    "        batchSize\n",
    "    '''\n",
    "    ret = np.zeros((m,1))\n",
    "    numBatches,r = divmod(m, batchSize)\n",
    "    print(\"m:{} batchSize:{} numBatches:{} r:{}\".format(m, batchSize, numBatches, r))\n",
    "    startRowIdx = 0\n",
    "    batchCount = 0\n",
    "    while (batchCount < numBatches):\n",
    "        if batchCount < numBatches:\n",
    "            bs = batchSize\n",
    "        else:\n",
    "            bs = r # short batch\n",
    "\n",
    "        # create a feature vector one hot. We only want the activation f\n",
    "        # value for a single gene\n",
    "        batch = np.zeros((bs, m))\n",
    "        for j in range(bs):\n",
    "            # use a high value\n",
    "            # when value was 1 all predictions where class 27\n",
    "            batch[j, startRowIdx + j] = 1000000 \n",
    "        \n",
    "        predictions = model.predict(batch)\n",
    "        predictedValuesTensor = keras.backend.argmax(predictions)\n",
    "\n",
    "        # use keras escape hatch to tensor flow\n",
    "        # there is probably a better way to do this\n",
    "        sess = tf.Session()\n",
    "        with sess.as_default():\n",
    "            predictedValuesNumpy = predictedValuesTensor.eval()  \n",
    "\n",
    "        shape = predictedValuesNumpy.shape\n",
    "        ret[startRowIdx: startRowIdx+bs] = np.reshape(predictedValuesNumpy, (shape[0],-1))\n",
    "        \n",
    "        # increment loop counts\n",
    "        batchCount += 1\n",
    "        startRowIdx += bs\n",
    "        #print(\"batchCount:{} next start:{}\".format( batchCount,startRowIdx))\n",
    "\n",
    "    return ret\n",
    "    \n",
    "\n",
    "# why hold on to all the memory we can probably pick these values out of the mode\n",
    "xShape= XTrainNumpy.shape\n",
    "maxActivations = findAEDWIP(diseaseClassifierModel, m=xShape[1],  batchSize=6000) \n",
    "print(\"maxActivations.shape:{}\".format(maxActivations.shape))"
   ]
  },
  {
   "cell_type": "code",
   "execution_count": null,
   "metadata": {
    "scrolled": false
   },
   "outputs": [],
   "source": [
    "print(np.transpose(maxActivations[100:300]))"
   ]
  },
  {
   "cell_type": "code",
   "execution_count": null,
   "metadata": {},
   "outputs": [],
   "source": [
    "# geneIdx is the feature column index\n",
    "# print(xShape[1])\n",
    "# geneIdx = np.arange(xShape[1]) \n",
    "# print(geneIdx.shape)\n",
    "# print(geneIdx)\n",
    "\n",
    "xxxDF = pd.DataFrame(maxActivations, columns=[\"diseaseValue\"])\n",
    "print(xxxDF.head())\n",
    "print(xxxDF.tail())\n",
    "print(xxxDF.index)\n",
    "print(xxxDF.shape)"
   ]
  },
  {
   "cell_type": "code",
   "execution_count": null,
   "metadata": {},
   "outputs": [],
   "source": [
    "%%capture --no-display\n",
    "# turn off deprecation warnings\n",
    "# https://ipython.readthedocs.io/en/stable/interactive/magics.html?highlight=capture#cellmagic-capture\n",
    "countsDict = dict()\n",
    "grouped = xxxDF.groupby(\"diseaseValue\")\n",
    "for diseaseValue, group in grouped:\n",
    "    stats = group.agg(['count'])\n",
    "    dv = int(diseaseValue)\n",
    "    key = \"{}_{}\".format(dv,diseaseLabelEncoder.inverse_transform([dv]) )\n",
    "    countsDict[key] = stats.values"
   ]
  },
  {
   "cell_type": "code",
   "execution_count": null,
   "metadata": {
    "scrolled": false
   },
   "outputs": [],
   "source": [
    "print(\"key:24_['Pancreatic Adenocarcinoma'] maximal activated gene count:{}\"\n",
    "         .format(countsDict[\"24_['Pancreatic Adenocarcinoma']\"]))"
   ]
  },
  {
   "cell_type": "code",
   "execution_count": null,
   "metadata": {},
   "outputs": [],
   "source": [
    "%%capture --no-display\n",
    "# turn off deprecation warnings\n",
    "# https://ipython.readthedocs.io/en/stable/interactive/magics.html?highlight=capture#cellmagic-capture\n",
    "dt = diseaseLabelEncoder.inverse_transform(range(38))"
   ]
  },
  {
   "cell_type": "code",
   "execution_count": null,
   "metadata": {},
   "outputs": [],
   "source": [
    "fig, ax = plt.subplots()\n",
    "fig.set_size_inches(8,10)\n",
    "countsList = [v[0][0] for v in countsDict.values()]\n",
    "plt.barh(dt, countsList )\n",
    "plt.show()"
   ]
  },
  {
   "cell_type": "code",
   "execution_count": 47,
   "metadata": {},
   "outputs": [
    {
     "name": "stdout",
     "output_type": "stream",
     "text": [
      "(1, 58581)\n",
      "   5S_rRNA  5_8S_rRNA  7SK\n",
      "0     23.0       16.0  6.0\n",
      "\n",
      "5S_rRNA     -9.966041\n",
      "5_8S_rRNA   -9.965816\n",
      "7SK         -9.965881\n",
      "Name: GTEX-1117F-0226-SM-5GZZ7, dtype: float64\n"
     ]
    }
   ],
   "source": [
    "# how can we get back the Hugo gene names\n",
    "\n",
    "# Load training set\n",
    "XDF = pd.read_hdf(\"/bme-230a-ebs/data/tcga_target_gtex.h5\", \"expression\")\n",
    "\n",
    "#https://stackoverflow.com/a/45327097/4586180\n",
    "df = pd.DataFrame(maxActivations.reshape(-1, len(maxActivations))\n",
    "                  , columns=XDF.columns.values\n",
    "                 )\n",
    "print(df.shape)\n",
    "print(df.iloc[:, 0:3])\n",
    "\n",
    "print()\n",
    "print(XDF.iloc[0, 0:3])"
   ]
  },
  {
   "cell_type": "code",
   "execution_count": 52,
   "metadata": {},
   "outputs": [
    {
     "name": "stdout",
     "output_type": "stream",
     "text": [
      "<class 'numpy.ndarray'>\n",
      "(1, 1)\n",
      "[]\n"
     ]
    },
    {
     "data": {
      "text/plain": [
       "array([[44]])"
      ]
     },
     "execution_count": 52,
     "metadata": {},
     "output_type": "execute_result"
    }
   ],
   "source": [
    "paNumpy = countsDict[\"24_['Pancreatic Adenocarcinoma']\"]\n",
    "print(type(paNumpy))\n",
    "print(paNumpy.shape)\n",
    "print(paNumpy[30:32])\n",
    "paNumpy"
   ]
  },
  {
   "cell_type": "code",
   "execution_count": 114,
   "metadata": {},
   "outputs": [
    {
     "name": "stdout",
     "output_type": "stream",
     "text": [
      "[[23]\n",
      " [16]\n",
      " [ 6]\n",
      " [20]\n",
      " [ 6]\n",
      " [ 6]]\n",
      "(58581, 1)\n"
     ]
    }
   ],
   "source": [
    "print(maxActivations[0:6].astype(int))\n",
    "print(maxActivations.shape)"
   ]
  },
  {
   "cell_type": "code",
   "execution_count": 109,
   "metadata": {},
   "outputs": [
    {
     "name": "stdout",
     "output_type": "stream",
     "text": [
      "<class 'numpy.ndarray'>\n",
      "(58581, 1)\n",
      "(58581, 1)\n",
      "[['Ovarian Serous Cystadenocarcinoma']\n",
      " ['Kidney Clear Cell Carcinoma']\n",
      " ['Breast Invasive Carcinoma']]\n"
     ]
    },
    {
     "name": "stderr",
     "output_type": "stream",
     "text": [
      "/home/ubuntu/anaconda3/envs/tensorflow_p36/lib/python3.6/site-packages/sklearn/preprocessing/label.py:151: DeprecationWarning: The truth value of an empty array is ambiguous. Returning False, but in future this will result in an error. Use `array.size > 0` to check that an array is not empty.\n",
      "  if diff:\n"
     ]
    }
   ],
   "source": [
    "#%%capture --no-display\n",
    "disease = diseaseLabelEncoder.inverse_transform(maxActivations.astype(int))\n",
    "print(type(disease))\n",
    "print(disease.shape)\n",
    "#disease = np.reshape(disease, (1,-1))\n",
    "print(disease.shape)      \n",
    "print(disease[0:3])"
   ]
  },
  {
   "cell_type": "code",
   "execution_count": 125,
   "metadata": {},
   "outputs": [
    {
     "name": "stdout",
     "output_type": "stream",
     "text": [
      "(58581,)\n",
      "aediwp\n",
      "(58581, 3)\n"
     ]
    },
    {
     "data": {
      "text/html": [
       "<div>\n",
       "<style scoped>\n",
       "    .dataframe tbody tr th:only-of-type {\n",
       "        vertical-align: middle;\n",
       "    }\n",
       "\n",
       "    .dataframe tbody tr th {\n",
       "        vertical-align: top;\n",
       "    }\n",
       "\n",
       "    .dataframe thead th {\n",
       "        text-align: right;\n",
       "    }\n",
       "</style>\n",
       "<table border=\"1\" class=\"dataframe\">\n",
       "  <thead>\n",
       "    <tr style=\"text-align: right;\">\n",
       "      <th></th>\n",
       "      <th>HugoId</th>\n",
       "      <th>ddd</th>\n",
       "      <th>maxA</th>\n",
       "    </tr>\n",
       "  </thead>\n",
       "  <tbody>\n",
       "    <tr>\n",
       "      <th>0</th>\n",
       "      <td>5S_rRNA</td>\n",
       "      <td>Ovarian Serous Cystadenocarcinoma</td>\n",
       "      <td>23</td>\n",
       "    </tr>\n",
       "    <tr>\n",
       "      <th>1</th>\n",
       "      <td>5_8S_rRNA</td>\n",
       "      <td>Kidney Clear Cell Carcinoma</td>\n",
       "      <td>16</td>\n",
       "    </tr>\n",
       "    <tr>\n",
       "      <th>2</th>\n",
       "      <td>7SK</td>\n",
       "      <td>Breast Invasive Carcinoma</td>\n",
       "      <td>6</td>\n",
       "    </tr>\n",
       "    <tr>\n",
       "      <th>3</th>\n",
       "      <td>A1BG</td>\n",
       "      <td>Lung Squamous Cell Carcinoma</td>\n",
       "      <td>20</td>\n",
       "    </tr>\n",
       "    <tr>\n",
       "      <th>4</th>\n",
       "      <td>A1BG-AS1</td>\n",
       "      <td>Breast Invasive Carcinoma</td>\n",
       "      <td>6</td>\n",
       "    </tr>\n",
       "  </tbody>\n",
       "</table>\n",
       "</div>"
      ],
      "text/plain": [
       "      HugoId                                ddd  maxA\n",
       "0    5S_rRNA  Ovarian Serous Cystadenocarcinoma    23\n",
       "1  5_8S_rRNA        Kidney Clear Cell Carcinoma    16\n",
       "2        7SK          Breast Invasive Carcinoma     6\n",
       "3       A1BG       Lung Squamous Cell Carcinoma    20\n",
       "4   A1BG-AS1          Breast Invasive Carcinoma     6"
      ]
     },
     "execution_count": 125,
     "metadata": {},
     "output_type": "execute_result"
    }
   ],
   "source": [
    "# turn off deprecation warnings\n",
    "# https://ipython.readthedocs.io/en/stable/interactive/magics.html?highlight=capture#cellmagic-capture\n",
    "# df2 = pd.DataFrame(maxActivations.astype(int)\n",
    "\n",
    "print(XDF.columns.shape)\n",
    "dataDict = {\n",
    "    \"HugoId\":XDF.columns.values,\n",
    "    \"ddd\":disease.flatten(),\n",
    "    \"maxA\":maxActivations.astype(int).flatten()\n",
    "\n",
    "}\n",
    "\n",
    "df2 = pd.DataFrame(data=dataDict)\n",
    "\n",
    "# df2 = pd.DataFrame(maxActivations,\n",
    "#                    XDF.columns.values, \n",
    "# #                     disease, \n",
    "                    \n",
    "# #                    columns=[\"HugoId\", \"disease\", \"diseaseValue\"],\n",
    "#                    index=list(range(len(XDF.columns.values)))\n",
    "#                   )\n",
    "\n",
    "print(\"aediwp\")\n",
    "print(df2.shape)\n",
    "df2.head()"
   ]
  },
  {
   "cell_type": "code",
   "execution_count": 90,
   "metadata": {},
   "outputs": [
    {
     "name": "stderr",
     "output_type": "stream",
     "text": [
      "/home/ubuntu/anaconda3/envs/tensorflow_p36/lib/python3.6/site-packages/sklearn/preprocessing/label.py:151: DeprecationWarning: The truth value of an empty array is ambiguous. Returning False, but in future this will result in an error. Use `array.size > 0` to check that an array is not empty.\n",
      "  if diff:\n"
     ]
    },
    {
     "data": {
      "text/plain": [
       "array([['Ovarian Serous Cystadenocarcinoma'],\n",
       "       ['Kidney Clear Cell Carcinoma'],\n",
       "       ['Breast Invasive Carcinoma'],\n",
       "       ['Lung Squamous Cell Carcinoma'],\n",
       "       ['Breast Invasive Carcinoma']], dtype=object)"
      ]
     },
     "execution_count": 90,
     "metadata": {},
     "output_type": "execute_result"
    }
   ],
   "source": [
    "disease = diseaseLabelEncoder.inverse_transform(maxActivations.astype(int))\n",
    "disease[0:5]"
   ]
  }
 ],
 "metadata": {
  "kernelspec": {
   "display_name": "Python 3",
   "language": "python",
   "name": "python3"
  },
  "language_info": {
   "codemirror_mode": {
    "name": "ipython",
    "version": 3
   },
   "file_extension": ".py",
   "mimetype": "text/x-python",
   "name": "python",
   "nbconvert_exporter": "python",
   "pygments_lexer": "ipython3",
   "version": "3.6.5"
  }
 },
 "nbformat": 4,
 "nbformat_minor": 2
}
