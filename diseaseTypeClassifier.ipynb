{
 "cells": [
  {
   "cell_type": "markdown",
   "metadata": {},
   "source": [
    "# Disease Type Classifier\n",
    "- BME 230A class project winter 2019\n",
    "- Andrew E. Davidson\n",
    "- [aedavids@ucsc.edu](mailto:aedavids@edu?subject=SimpleModel.ipynb)\n",
    "\n",
    "classify cancer type from gene expression\n",
    "\n",
    "## Abstract\n",
    "\n",
    "originally trainned on entire data set, tumor and normal. \n",
    "\n",
    "training accuracy : 0.98\n",
    "\n",
    "training accuracy : 0.93\n",
    "\n",
    "turns out the normal case are marked as having a sort of diseases. I removed the normal cases\n",
    "\n",
    "see diseaseTypeClassifierEval.ipynb"
   ]
  },
  {
   "cell_type": "code",
   "execution_count": 1,
   "metadata": {},
   "outputs": [
    {
     "name": "stderr",
     "output_type": "stream",
     "text": [
      "Using TensorFlow backend.\n"
     ]
    },
    {
     "name": "stdout",
     "output_type": "stream",
     "text": [
      "/home/ubuntu/BME-230a\r\n"
     ]
    }
   ],
   "source": [
    "from keras.callbacks import EarlyStopping, ModelCheckpoint, ProgbarLogger\n",
    "from keras.layers import Dense\n",
    "from keras.layers import Dense,Input,BatchNormalization, InputLayer, Activation\n",
    "from keras.models import Sequential\n",
    "from keras.optimizers import Adam, SGD, Adadelta, Adagrad\n",
    "from keras.regularizers import L1L2\n",
    "from keras.utils import np_utils\n",
    "\n",
    "import matplotlib.pyplot as plt\n",
    "import numpy as np\n",
    "import os \n",
    "import pandas as pd\n",
    "\n",
    "from sklearn.preprocessing import LabelEncoder\n",
    "\n",
    "import sys\n",
    "\n",
    "import tensorflow as tf\n",
    "\n",
    "# fix random seed for reproducibility\n",
    "theMeaningOfLife = 42\n",
    "\n",
    "import keras\n",
    "if \"2.1.6\" != keras.__version__ :\n",
    "    emsg = \"ERROR keras version {} != 2.1.6, new version can not save and restore models\".format(keras.__version__)\n",
    "    raise ValueError(emsg)\n",
    "\n",
    "# add path to our local modules\n",
    "# assume they are in the same directory we launched the juypter server in\n",
    "# /home/ubuntu/BME-230a\n",
    "!pwd\n",
    "localModuleDir = \".\"\n",
    "sys.path.append(localModuleDir)\n",
    "from loadData import loadTumorNormalData"
   ]
  },
  {
   "cell_type": "markdown",
   "metadata": {},
   "source": [
    "## Load data and Explore"
   ]
  },
  {
   "cell_type": "code",
   "execution_count": 2,
   "metadata": {},
   "outputs": [
    {
     "name": "stdout",
     "output_type": "stream",
     "text": [
      "/bme-230a-ebs/data/tcga_target_gtex.h5\n"
     ]
    }
   ],
   "source": [
    "rootDir = \"/bme-230a-ebs\"\n",
    "sourceDataFilePath = \"{}/data/tcga_target_gtex.h5\".format(rootDir)\n",
    "print(sourceDataFilePath)\n",
    "if not os.path.isfile(sourceDataFilePath):\n",
    "    emsg = \"ERROR: {} not found\".format(sourceDataFilePath)\n",
    "    print(emsg)\n",
    "    print(\"change rootDir\")\n",
    "    sys.stdout.flush()  # force error message to print\n",
    "    raise ValueError(emsg)"
   ]
  },
  {
   "cell_type": "code",
   "execution_count": 3,
   "metadata": {},
   "outputs": [
    {
     "name": "stdout",
     "output_type": "stream",
     "text": [
      "XDF.shape:(19126, 58581)\n",
      "yDF.shape:(19126, 7) type(yDF):\n",
      "CPU times: user 160 ms, sys: 3.04 s, total: 3.2 s\n",
      "Wall time: 3.2 s\n"
     ]
    }
   ],
   "source": [
    "%%time\n",
    "# Load training set\n",
    "XDF = pd.read_hdf(sourceDataFilePath, \"expression\")\n",
    "print(\"XDF.shape:{}\".format(XDF.shape))\n",
    "\n",
    "yDF = pd.read_hdf(sourceDataFilePath, \"labels\")\n",
    "print(\"yDF.shape:{} type(yDF):\".format(yDF.shape))"
   ]
  },
  {
   "cell_type": "code",
   "execution_count": 4,
   "metadata": {},
   "outputs": [
    {
     "data": {
      "text/html": [
       "<div>\n",
       "<style scoped>\n",
       "    .dataframe tbody tr th:only-of-type {\n",
       "        vertical-align: middle;\n",
       "    }\n",
       "\n",
       "    .dataframe tbody tr th {\n",
       "        vertical-align: top;\n",
       "    }\n",
       "\n",
       "    .dataframe thead th {\n",
       "        text-align: right;\n",
       "    }\n",
       "</style>\n",
       "<table border=\"1\" class=\"dataframe\">\n",
       "  <thead>\n",
       "    <tr style=\"text-align: right;\">\n",
       "      <th></th>\n",
       "      <th>5S_rRNA</th>\n",
       "      <th>5_8S_rRNA</th>\n",
       "      <th>7SK</th>\n",
       "      <th>A1BG</th>\n",
       "      <th>A1BG-AS1</th>\n",
       "      <th>A1CF</th>\n",
       "      <th>A2M</th>\n",
       "      <th>A2M-AS1</th>\n",
       "      <th>A2ML1</th>\n",
       "      <th>A2ML1-AS1</th>\n",
       "      <th>...</th>\n",
       "      <th>snoU2-30</th>\n",
       "      <th>snoU2_19</th>\n",
       "      <th>snoU83B</th>\n",
       "      <th>snoZ196</th>\n",
       "      <th>snoZ278</th>\n",
       "      <th>snoZ40</th>\n",
       "      <th>snoZ6</th>\n",
       "      <th>snosnR66</th>\n",
       "      <th>uc_338</th>\n",
       "      <th>yR211F11.2</th>\n",
       "    </tr>\n",
       "  </thead>\n",
       "  <tbody>\n",
       "    <tr>\n",
       "      <th>GTEX-1117F-0226-SM-5GZZ7</th>\n",
       "      <td>-9.966041</td>\n",
       "      <td>-9.965816</td>\n",
       "      <td>-9.965881</td>\n",
       "      <td>4.4595</td>\n",
       "      <td>0.9343</td>\n",
       "      <td>-5.0116</td>\n",
       "      <td>7.5126</td>\n",
       "      <td>0.8164</td>\n",
       "      <td>-2.114</td>\n",
       "      <td>-9.9658</td>\n",
       "      <td>...</td>\n",
       "      <td>-9.965816</td>\n",
       "      <td>-9.965849</td>\n",
       "      <td>-9.9658</td>\n",
       "      <td>-9.9658</td>\n",
       "      <td>-9.9658</td>\n",
       "      <td>-9.9658</td>\n",
       "      <td>-9.965849</td>\n",
       "      <td>-9.9658</td>\n",
       "      <td>5.326995</td>\n",
       "      <td>-9.9658</td>\n",
       "    </tr>\n",
       "  </tbody>\n",
       "</table>\n",
       "<p>1 rows × 58581 columns</p>\n",
       "</div>"
      ],
      "text/plain": [
       "                           5S_rRNA  5_8S_rRNA       7SK    A1BG  A1BG-AS1  \\\n",
       "GTEX-1117F-0226-SM-5GZZ7 -9.966041  -9.965816 -9.965881  4.4595    0.9343   \n",
       "\n",
       "                            A1CF     A2M  A2M-AS1  A2ML1  A2ML1-AS1  \\\n",
       "GTEX-1117F-0226-SM-5GZZ7 -5.0116  7.5126   0.8164 -2.114    -9.9658   \n",
       "\n",
       "                             ...      snoU2-30  snoU2_19  snoU83B  snoZ196  \\\n",
       "GTEX-1117F-0226-SM-5GZZ7     ...     -9.965816 -9.965849  -9.9658  -9.9658   \n",
       "\n",
       "                          snoZ278  snoZ40     snoZ6  snosnR66    uc_338  \\\n",
       "GTEX-1117F-0226-SM-5GZZ7  -9.9658 -9.9658 -9.965849   -9.9658  5.326995   \n",
       "\n",
       "                          yR211F11.2  \n",
       "GTEX-1117F-0226-SM-5GZZ7     -9.9658  \n",
       "\n",
       "[1 rows x 58581 columns]"
      ]
     },
     "execution_count": 4,
     "metadata": {},
     "output_type": "execute_result"
    }
   ],
   "source": [
    "XDF.head(1)"
   ]
  },
  {
   "cell_type": "code",
   "execution_count": 5,
   "metadata": {},
   "outputs": [
    {
     "data": {
      "text/html": [
       "<div>\n",
       "<style scoped>\n",
       "    .dataframe tbody tr th:only-of-type {\n",
       "        vertical-align: middle;\n",
       "    }\n",
       "\n",
       "    .dataframe tbody tr th {\n",
       "        vertical-align: top;\n",
       "    }\n",
       "\n",
       "    .dataframe thead th {\n",
       "        text-align: right;\n",
       "    }\n",
       "</style>\n",
       "<table border=\"1\" class=\"dataframe\">\n",
       "  <thead>\n",
       "    <tr style=\"text-align: right;\">\n",
       "      <th></th>\n",
       "      <th>category</th>\n",
       "      <th>disease</th>\n",
       "      <th>primary_site</th>\n",
       "      <th>sample_type</th>\n",
       "      <th>gender</th>\n",
       "      <th>study</th>\n",
       "      <th>tumor_normal</th>\n",
       "    </tr>\n",
       "    <tr>\n",
       "      <th>id</th>\n",
       "      <th></th>\n",
       "      <th></th>\n",
       "      <th></th>\n",
       "      <th></th>\n",
       "      <th></th>\n",
       "      <th></th>\n",
       "      <th></th>\n",
       "    </tr>\n",
       "  </thead>\n",
       "  <tbody>\n",
       "    <tr>\n",
       "      <th>GTEX-1117F-0226-SM-5GZZ7</th>\n",
       "      <td>Adipose - Subcutaneous</td>\n",
       "      <td>Adipose - Subcutaneous</td>\n",
       "      <td>Adipose Tissue</td>\n",
       "      <td>Normal Tissue</td>\n",
       "      <td>Female</td>\n",
       "      <td>GTEX</td>\n",
       "      <td>Normal</td>\n",
       "    </tr>\n",
       "  </tbody>\n",
       "</table>\n",
       "</div>"
      ],
      "text/plain": [
       "                                        category                 disease  \\\n",
       "id                                                                         \n",
       "GTEX-1117F-0226-SM-5GZZ7  Adipose - Subcutaneous  Adipose - Subcutaneous   \n",
       "\n",
       "                            primary_site    sample_type  gender study  \\\n",
       "id                                                                      \n",
       "GTEX-1117F-0226-SM-5GZZ7  Adipose Tissue  Normal Tissue  Female  GTEX   \n",
       "\n",
       "                         tumor_normal  \n",
       "id                                     \n",
       "GTEX-1117F-0226-SM-5GZZ7       Normal  "
      ]
     },
     "execution_count": 5,
     "metadata": {},
     "output_type": "execute_result"
    }
   ],
   "source": [
    "yDF.head(1)"
   ]
  },
  {
   "cell_type": "code",
   "execution_count": 6,
   "metadata": {},
   "outputs": [
    {
     "name": "stdout",
     "output_type": "stream",
     "text": [
      "Index(['category', 'disease', 'primary_site', 'sample_type', 'gender', 'study',\n",
      "       'tumor_normal'],\n",
      "      dtype='object')\n"
     ]
    }
   ],
   "source": [
    "print(yDF.columns)"
   ]
  },
  {
   "cell_type": "code",
   "execution_count": 7,
   "metadata": {},
   "outputs": [
    {
     "name": "stdout",
     "output_type": "stream",
     "text": [
      "\n",
      "\"disease\" and \"category\" are identical\n"
     ]
    },
    {
     "data": {
      "text/plain": [
       "True"
      ]
     },
     "execution_count": 7,
     "metadata": {},
     "output_type": "execute_result"
    }
   ],
   "source": [
    "print('\\n\"disease\" and \"category\" are identical')\n",
    "np.array_equal(\n",
    "    pd.unique(yDF.loc[:, \"disease\"]), pd.unique(yDF.loc[:, \"category\"]))"
   ]
  },
  {
   "cell_type": "code",
   "execution_count": 8,
   "metadata": {},
   "outputs": [
    {
     "name": "stdout",
     "output_type": "stream",
     "text": [
      "\n",
      "Y: normalDF.shape: (8596, 2)\n",
      "Y: normal case unique disease types count: (80,)\n"
     ]
    },
    {
     "data": {
      "text/html": [
       "<div>\n",
       "<style scoped>\n",
       "    .dataframe tbody tr th:only-of-type {\n",
       "        vertical-align: middle;\n",
       "    }\n",
       "\n",
       "    .dataframe tbody tr th {\n",
       "        vertical-align: top;\n",
       "    }\n",
       "\n",
       "    .dataframe thead th {\n",
       "        text-align: right;\n",
       "    }\n",
       "</style>\n",
       "<table border=\"1\" class=\"dataframe\">\n",
       "  <thead>\n",
       "    <tr style=\"text-align: right;\">\n",
       "      <th></th>\n",
       "      <th>disease</th>\n",
       "      <th>tumor_normal</th>\n",
       "    </tr>\n",
       "    <tr>\n",
       "      <th>id</th>\n",
       "      <th></th>\n",
       "      <th></th>\n",
       "    </tr>\n",
       "  </thead>\n",
       "  <tbody>\n",
       "    <tr>\n",
       "      <th>GTEX-1117F-0226-SM-5GZZ7</th>\n",
       "      <td>Adipose - Subcutaneous</td>\n",
       "      <td>Normal</td>\n",
       "    </tr>\n",
       "    <tr>\n",
       "      <th>GTEX-1117F-0426-SM-5EGHI</th>\n",
       "      <td>Muscle - Skeletal</td>\n",
       "      <td>Normal</td>\n",
       "    </tr>\n",
       "    <tr>\n",
       "      <th>GTEX-1117F-0526-SM-5EGHJ</th>\n",
       "      <td>Artery - Tibial</td>\n",
       "      <td>Normal</td>\n",
       "    </tr>\n",
       "    <tr>\n",
       "      <th>GTEX-1117F-0626-SM-5N9CS</th>\n",
       "      <td>Artery - Coronary</td>\n",
       "      <td>Normal</td>\n",
       "    </tr>\n",
       "    <tr>\n",
       "      <th>GTEX-1117F-0726-SM-5GIEN</th>\n",
       "      <td>Heart - Atrial Appendage</td>\n",
       "      <td>Normal</td>\n",
       "    </tr>\n",
       "  </tbody>\n",
       "</table>\n",
       "</div>"
      ],
      "text/plain": [
       "                                           disease tumor_normal\n",
       "id                                                             \n",
       "GTEX-1117F-0226-SM-5GZZ7    Adipose - Subcutaneous       Normal\n",
       "GTEX-1117F-0426-SM-5EGHI         Muscle - Skeletal       Normal\n",
       "GTEX-1117F-0526-SM-5EGHJ           Artery - Tibial       Normal\n",
       "GTEX-1117F-0626-SM-5N9CS         Artery - Coronary       Normal\n",
       "GTEX-1117F-0726-SM-5GIEN  Heart - Atrial Appendage       Normal"
      ]
     },
     "execution_count": 8,
     "metadata": {},
     "output_type": "execute_result"
    }
   ],
   "source": [
    "# make sure we remove normal cases from our data set. the disease values do not\n",
    "# make sence\n",
    "yNormalRows = yDF['tumor_normal'] == 'Normal'\n",
    "yNormalDF = yDF.loc[yNormalRows, ['disease', 'tumor_normal']]\n",
    "\n",
    "print(\"\\nY: normalDF.shape: {}\".format(yNormalDF.shape))\n",
    "print(\"Y: normal case unique disease types count: {}\".format(\n",
    "    pd.unique(yNormalDF.loc[:, \"disease\"]).shape))\n",
    "\n",
    "yNormalDF.head()"
   ]
  },
  {
   "cell_type": "code",
   "execution_count": 9,
   "metadata": {},
   "outputs": [
    {
     "name": "stdout",
     "output_type": "stream",
     "text": [
      "\n",
      "Y: tumorDF.shape:(10530, 2)\n",
      "Y: tumor case unique disease types count: (38,)\n"
     ]
    },
    {
     "data": {
      "text/html": [
       "<div>\n",
       "<style scoped>\n",
       "    .dataframe tbody tr th:only-of-type {\n",
       "        vertical-align: middle;\n",
       "    }\n",
       "\n",
       "    .dataframe tbody tr th {\n",
       "        vertical-align: top;\n",
       "    }\n",
       "\n",
       "    .dataframe thead th {\n",
       "        text-align: right;\n",
       "    }\n",
       "</style>\n",
       "<table border=\"1\" class=\"dataframe\">\n",
       "  <thead>\n",
       "    <tr style=\"text-align: right;\">\n",
       "      <th></th>\n",
       "      <th>disease</th>\n",
       "      <th>tumor_normal</th>\n",
       "    </tr>\n",
       "    <tr>\n",
       "      <th>id</th>\n",
       "      <th></th>\n",
       "      <th></th>\n",
       "    </tr>\n",
       "  </thead>\n",
       "  <tbody>\n",
       "    <tr>\n",
       "      <th>TARGET-10-PAKSWW-03</th>\n",
       "      <td>Acute Lymphoblastic Leukemia</td>\n",
       "      <td>Tumor</td>\n",
       "    </tr>\n",
       "    <tr>\n",
       "      <th>TARGET-10-PAMXHJ-09</th>\n",
       "      <td>Acute Lymphoblastic Leukemia</td>\n",
       "      <td>Tumor</td>\n",
       "    </tr>\n",
       "    <tr>\n",
       "      <th>TARGET-10-PAMXSP-09</th>\n",
       "      <td>Acute Lymphoblastic Leukemia</td>\n",
       "      <td>Tumor</td>\n",
       "    </tr>\n",
       "    <tr>\n",
       "      <th>TARGET-10-PANCVR-03</th>\n",
       "      <td>Acute Lymphoblastic Leukemia</td>\n",
       "      <td>Tumor</td>\n",
       "    </tr>\n",
       "    <tr>\n",
       "      <th>TARGET-10-PANCVR-04</th>\n",
       "      <td>Acute Lymphoblastic Leukemia</td>\n",
       "      <td>Tumor</td>\n",
       "    </tr>\n",
       "  </tbody>\n",
       "</table>\n",
       "</div>"
      ],
      "text/plain": [
       "                                          disease tumor_normal\n",
       "id                                                            \n",
       "TARGET-10-PAKSWW-03  Acute Lymphoblastic Leukemia        Tumor\n",
       "TARGET-10-PAMXHJ-09  Acute Lymphoblastic Leukemia        Tumor\n",
       "TARGET-10-PAMXSP-09  Acute Lymphoblastic Leukemia        Tumor\n",
       "TARGET-10-PANCVR-03  Acute Lymphoblastic Leukemia        Tumor\n",
       "TARGET-10-PANCVR-04  Acute Lymphoblastic Leukemia        Tumor"
      ]
     },
     "execution_count": 9,
     "metadata": {},
     "output_type": "execute_result"
    }
   ],
   "source": [
    "yTumorRows = yDF['tumor_normal'] != 'Normal'\n",
    "yTumorDF = yDF.loc[yTumorRows, ['disease', 'tumor_normal']]\n",
    "\n",
    "print(\"\\nY: tumorDF.shape:{}\".format(yTumorDF.shape))\n",
    "print(\"Y: tumor case unique disease types count: {}\".format(\n",
    "    pd.unique(yTumorDF.loc[:, \"disease\"]).shape))\n",
    "\n",
    "yTumorDF.head()"
   ]
  },
  {
   "cell_type": "code",
   "execution_count": 10,
   "metadata": {},
   "outputs": [
    {
     "name": "stdout",
     "output_type": "stream",
     "text": [
      "tumor disease types:['Acute Lymphoblastic Leukemia' 'Acute Myeloid Leukemia'\n",
      " 'Acute Myeloid Leukemia, Induction Failure Subproject' 'Neuroblastoma'\n",
      " 'Wilms Tumor' 'Clear Cell Sarcoma Of The Kidney'\n",
      " 'Glioblastoma Multiforme' 'Ovarian Serous Cystadenocarcinoma'\n",
      " 'Lung Adenocarcinoma' 'Lung Squamous Cell Carcinoma'\n",
      " 'Prostate Adenocarcinoma' 'Uterine Corpus Endometrioid Carcinoma'\n",
      " 'Bladder Urothelial Carcinoma' 'Testicular Germ Cell Tumor'\n",
      " 'Esophageal Carcinoma' 'Pancreatic Adenocarcinoma'\n",
      " 'Kidney Papillary Cell Carcinoma' 'Liver Hepatocellular Carcinoma'\n",
      " 'Cervical & Endocervical Cancer' 'Sarcoma' 'Breast Invasive Carcinoma'\n",
      " 'Thymoma' 'Mesothelioma' 'Colon Adenocarcinoma' 'Stomach Adenocarcinoma'\n",
      " 'Skin Cutaneous Melanoma' 'Cholangiocarcinoma'\n",
      " 'Kidney Clear Cell Carcinoma' 'Thyroid Carcinoma'\n",
      " 'Head & Neck Squamous Cell Carcinoma' 'Rectum Adenocarcinoma'\n",
      " 'Brain Lower Grade Glioma' 'Diffuse Large B-Cell Lymphoma'\n",
      " 'Kidney Chromophobe' 'Uterine Carcinosarcoma' 'Adrenocortical Cancer'\n",
      " 'Pheochromocytoma & Paraganglioma' 'Uveal Melanoma']\n"
     ]
    }
   ],
   "source": [
    "# diseaseClasses = pd.unique( yDF.loc[:,\"disease\"] )\n",
    "# diseaseK = len(diseaseClasses)\n",
    "# print(\"diseaseK: {}, type(diseaseClasses): {}\".format(diseaseK, type(diseaseClasses)))\n",
    "# print(diseaseClasses)\n",
    "print(\"tumor disease types:{}\".format(pd.unique(yTumorDF.loc[:, \"disease\"])))"
   ]
  },
  {
   "cell_type": "code",
   "execution_count": 11,
   "metadata": {},
   "outputs": [
    {
     "data": {
      "text/plain": [
       "Text(0.5,1,'Fig 1. Tumor Case Counts')"
      ]
     },
     "execution_count": 11,
     "metadata": {},
     "output_type": "execute_result"
    },
    {
     "data": {
      "image/png": "[encoded data removed]",
      "text/plain": [
       "<Figure size 360x1296 with 1 Axes>"
      ]
     },
     "metadata": {},
     "output_type": "display_data"
    }
   ],
   "source": [
    "def plotCategoryCounts(df, colNameStr):\n",
    "    '''\n",
    "    TODO: make this more generic\n",
    "    argument \n",
    "        df: a pandas data frame \n",
    "        colNameStr: \n",
    "        \n",
    "    returns \n",
    "        (fig, ax)\n",
    "    '''\n",
    "    # countDF is series\n",
    "    countDF = df[colNameStr].value_counts()\n",
    "    fig, ax = plt.subplots()\n",
    "    fig.set_size_inches(5, 18)\n",
    "    ax.barh(countDF.index, countDF)\n",
    "\n",
    "    return (fig, ax)\n",
    "\n",
    "\n",
    "fig, ax = plotCategoryCounts(yTumorDF, \"disease\")\n",
    "ax.set_title(\"Fig 1. Tumor Case Counts\")"
   ]
  },
  {
   "cell_type": "markdown",
   "metadata": {},
   "source": [
    "## Prepare data\n",
    "\n",
    "TODO simple classifier on 93 classes -> Trainable params: 5,565,288 and takes 9min 26s to train. Try select most frequent classes\n",
    "\n",
    "### remove sample with missing data"
   ]
  },
  {
   "cell_type": "code",
   "execution_count": 12,
   "metadata": {},
   "outputs": [
    {
     "name": "stdout",
     "output_type": "stream",
     "text": [
      "number of missing values from y:0\n",
      "yDF.shape:(10530, 7)\n"
     ]
    }
   ],
   "source": [
    "# https://chartio.com/resources/tutorials/how-to-check-if-any-value-is-nan-in-a-pandas-dataframe/\n",
    "yNumMissingValues = yTumorDF.isnull().sum().sum()\n",
    "print(\"number of missing values from y:{}\".format(yNumMissingValues))\n",
    "\n",
    "yTumorDF = yDF[yTumorRows]\n",
    "yDF = yTumorDF\n",
    "yTumorDF = None  # free memory\n",
    "print(\"yDF.shape:{}\".format(yDF.shape))"
   ]
  },
  {
   "cell_type": "code",
   "execution_count": 13,
   "metadata": {},
   "outputs": [
    {
     "name": "stdout",
     "output_type": "stream",
     "text": [
      "number of missing values from X:0\n",
      "XDF.shape:()\n"
     ]
    }
   ],
   "source": [
    "XTumorDF = XDF[yTumorRows]\n",
    "XDF = XTumorDF\n",
    "\n",
    "XDFNumMissingValues = XDF.isnull().sum().sum()\n",
    "print(\"number of missing values from X:{}\".format(XDFNumMissingValues))\n",
    "\n",
    "#XTumorDF = None # free memory\n",
    "print(\"XDF.shape:()\".format(XDF.shape))"
   ]
  },
  {
   "cell_type": "code",
   "execution_count": 14,
   "metadata": {},
   "outputs": [],
   "source": [
    "# Convert disease  into numerical values\n",
    "# https://scikit-learn.org/stable/modules/generated/sklearn.preprocessing.LabelEncoder.html\n",
    "\n",
    "# use diseaseLabelEncoder.inverse_transform(yDF[\"disease_value\"]) to get labels as string back\n",
    "diseaseLabelEncoder = LabelEncoder()\n",
    "yDF[\"disease_value\"] = pd.Series(\n",
    "    diseaseLabelEncoder.fit_transform(yDF[\"disease\"]), index=yDF.index)"
   ]
  },
  {
   "cell_type": "code",
   "execution_count": 15,
   "metadata": {},
   "outputs": [
    {
     "name": "stdout",
     "output_type": "stream",
     "text": [
      "<class 'numpy.ndarray'>\n",
      "(10530, 38)\n",
      "<class 'numpy.ndarray'>\n",
      "(10530, 1)\n",
      "type(yOneHots):<class 'numpy.ndarray'>\n",
      "yOneHots.shape:(10530, 39)\n"
     ]
    }
   ],
   "source": [
    "# create one hot encodings\n",
    "\n",
    "oneHots = np_utils.to_categorical(yDF[\"disease_value\"])\n",
    "print(type(oneHots))\n",
    "print(oneHots.shape)\n",
    "\n",
    "diseaseValues = yDF[\"disease_value\"].values.reshape(yDF.shape[0], -1)\n",
    "print(type(diseaseValues))\n",
    "print(diseaseValues.shape)\n",
    "\n",
    "yOneHots = np.append(diseaseValues, oneHots, axis=1)\n",
    "print(\"type(yOneHots):{}\".format(type(yOneHots)))\n",
    "print(\"yOneHots.shape:{}\".format(yOneHots.shape))"
   ]
  },
  {
   "cell_type": "code",
   "execution_count": 16,
   "metadata": {},
   "outputs": [
    {
     "name": "stdout",
     "output_type": "stream",
     "text": [
      "XTrainNumpy.shape: (8424, 58581) XTestNumpy.shape: (2106, 58581)\n",
      "yTrainNumpy.shape: (8424, 39) yTestNumpy.shape: (2106, 39)\n",
      "<class 'numpy.ndarray'>\n",
      "CPU times: user 552 ms, sys: 960 ms, total: 1.51 s\n",
      "Wall time: 1.51 s\n"
     ]
    }
   ],
   "source": [
    "%%time\n",
    "# Split into stratified training and test sets based on classes (i.e.\n",
    "# disease type) so that we have equal proportions of each disease type\n",
    "# in the train and test sets\n",
    "\n",
    "from sklearn.model_selection import StratifiedShuffleSplit\n",
    "split = StratifiedShuffleSplit(\n",
    "    n_splits=1, test_size=0.2, random_state=theMeaningOfLife)\n",
    "\n",
    "for train_index, test_index in split.split(XDF.values, yDF[\"disease_value\"]):\n",
    "    XTrainNumpy = XDF.values[train_index]\n",
    "    XTestNumpy = XDF.values[test_index]\n",
    "    yTrainNumpy = yOneHots[train_index]\n",
    "    yTestNumpy = yOneHots[test_index]\n",
    "\n",
    "print(\"XTrainNumpy.shape: {} XTestNumpy.shape: {}\".format(\n",
    "    XTrainNumpy.shape, XTestNumpy.shape))\n",
    "\n",
    "# pandas series values attribute create numpy arrays with shapes that\n",
    "# are under specified. E.G. yTestNumpy.shape: (3826,). this causes a lot\n",
    "# of bugs in other packages reshape(n,-1) causes reshape to set the last\n",
    "# value\n",
    "yTrainNumpy = np.reshape(yTrainNumpy, (yTrainNumpy.shape[0], -1))\n",
    "yTestNumpy = np.reshape(yTestNumpy, (yTestNumpy.shape[0], -1))\n",
    "\n",
    "print(\"yTrainNumpy.shape: {} yTestNumpy.shape: {}\".format(\n",
    "    yTrainNumpy.shape, yTestNumpy.shape))\n",
    "print(type(yTestNumpy))"
   ]
  },
  {
   "cell_type": "code",
   "execution_count": 17,
   "metadata": {},
   "outputs": [
    {
     "data": {
      "text/plain": [
       "array([[20.,  0.,  0.,  0.,  0.,  0.,  0.,  0.,  0.,  0.,  0.,  0.,  0.,\n",
       "         0.,  0.,  0.,  0.,  0.,  0.,  0.,  0.,  1.,  0.,  0.,  0.,  0.,\n",
       "         0.,  0.,  0.,  0.,  0.,  0.,  0.,  0.,  0.,  0.,  0.,  0.,  0.],\n",
       "       [14.,  0.,  0.,  0.,  0.,  0.,  0.,  0.,  0.,  0.,  0.,  0.,  0.,\n",
       "         0.,  0.,  1.,  0.,  0.,  0.,  0.,  0.,  0.,  0.,  0.,  0.,  0.,\n",
       "         0.,  0.,  0.,  0.,  0.,  0.,  0.,  0.,  0.,  0.,  0.,  0.,  0.]])"
      ]
     },
     "execution_count": 17,
     "metadata": {},
     "output_type": "execute_result"
    }
   ],
   "source": [
    "yTrainNumpy[0:2]\n",
    "# xxx = yTrainNumpy[:,1:]\n",
    "# xxx[0:2]"
   ]
  },
  {
   "cell_type": "code",
   "execution_count": 18,
   "metadata": {},
   "outputs": [
    {
     "data": {
      "image/png": "[encoded data removed]",
      "text/plain": [
       "<Figure size 432x288 with 1 Axes>"
      ]
     },
     "metadata": {},
     "output_type": "display_data"
    }
   ],
   "source": [
    "# check class sizes\n",
    "# [:.0] is disease_value column\n",
    "plt.hist(yTrainNumpy[:, 0], alpha=0.5, label='Train', color=\"red\")\n",
    "plt.hist(yTestNumpy[:, 0], alpha=0.5, label='Test', color=\"blue\")\n",
    "plt.legend(loc='upper right')\n",
    "plt.title(\"Fig 2. Disease type distribution between train and test\")\n",
    "plt.ylabel(\"counts\")\n",
    "plt.xlabel(\"Disease type category type index\")\n",
    "plt.show()"
   ]
  },
  {
   "cell_type": "markdown",
   "metadata": {},
   "source": [
    "## Create  and train model"
   ]
  },
  {
   "cell_type": "code",
   "execution_count": 19,
   "metadata": {},
   "outputs": [],
   "source": [
    "def multiClassClassifier(inputDim=None, outputDim=None, learningRate=0.001):\n",
    "    '''\n",
    "    constructs a multi classifier model that includes a batch normalization\n",
    "    preprocess step. normalizaton typically reduces training time.\n",
    "    \n",
    "    arguments:\n",
    "        inputDim: \n",
    "            type int: the number of features in each sample\n",
    "        \n",
    "        outputDim: \n",
    "            type int the number of classes\n",
    "        \n",
    "        learningRate: \n",
    "            type float: scaling factor for adjusting weight. larger\n",
    "            values may train faster how ever can cause optimization \n",
    "            algorithm to diverge if to large. Use loss curver plot\n",
    "            to evaluate\n",
    "            \n",
    "    return:\n",
    "        keras.models\n",
    "    '''\n",
    "    classify = [\n",
    "        InputLayer(input_shape=(inputDim, )),\n",
    "        # TODO: Is Keras smart? only need to run preprocessing step\n",
    "        # once\n",
    "        BatchNormalization(),\n",
    "        Dense(outputDim),  # dot(input, kernel) + bias\n",
    "        Activation('softmax')\n",
    "    ]\n",
    "\n",
    "    model = Sequential(classify)\n",
    "    # https://keras.io/backend/#categorical_crossentropy\n",
    "    model.compile(\n",
    "        loss='categorical_crossentropy',\n",
    "        optimizer=Adam(lr=learningRate),\n",
    "        metrics=['accuracy'])\n",
    "\n",
    "    return model"
   ]
  },
  {
   "cell_type": "code",
   "execution_count": 20,
   "metadata": {},
   "outputs": [
    {
     "name": "stdout",
     "output_type": "stream",
     "text": [
      "_________________________________________________________________\n",
      "Layer (type)                 Output Shape              Param #   \n",
      "=================================================================\n",
      "input_1 (InputLayer)         (None, 58581)             0         \n",
      "_________________________________________________________________\n",
      "batch_normalization_1 (Batch (None, 58581)             234324    \n",
      "_________________________________________________________________\n",
      "dense_1 (Dense)              (None, 38)                2226116   \n",
      "_________________________________________________________________\n",
      "activation_1 (Activation)    (None, 38)                0         \n",
      "=================================================================\n",
      "Total params: 2,460,440\n",
      "Trainable params: 2,343,278\n",
      "Non-trainable params: 117,162\n",
      "_________________________________________________________________\n",
      "CPU times: user 1min 49s, sys: 11.5 s, total: 2min\n",
      "Wall time: 37 s\n"
     ]
    }
   ],
   "source": [
    "%%time\n",
    "# train model\n",
    "\n",
    "modelName = \"diseaseClassifier\"\n",
    "# the first col of yTrainNumpy is the disease value.\n",
    "# numCases is size prediction output\n",
    "numCases = yTrainNumpy.shape[1] - 1\n",
    "\n",
    "diseaseClassifierModel = multiClassClassifier(\n",
    "    inputDim=XTrainNumpy.shape[1],\n",
    "    outputDim=numCases,\n",
    ")\n",
    "\n",
    "# https://keras.io/callbacks/\n",
    "checkPointPath = \"./models/{}.chkPt\".format(modelName)\n",
    "callbacks = [\n",
    "    # monitor valuse either 'acc' for accuracy or 'loss'\n",
    "    # 'val_loss' is loss on hold if valaidation_split is set\n",
    "    # 'loss' is loss on training\n",
    "    # same for 'acc' and 'val_acc'\n",
    "    EarlyStopping(monitor='loss', patience=2, verbose=0),\n",
    "    ModelCheckpoint(\n",
    "        checkPointPath, monitor='loss', save_best_only=False, verbose=0)\n",
    "    # FIXME: progbar generates run time error\n",
    "    #,ProgbarLogger(count_mode='samples', stateful_metrics=None)\n",
    "]\n",
    "\n",
    "trainOneHots = yTrainNumpy[:, 1:]\n",
    "history = diseaseClassifierModel.fit(\n",
    "    XTrainNumpy,\n",
    "    trainOneHots,\n",
    "    shuffle=None,  # we already shuffled\n",
    "    epochs=8,  #20, #100\n",
    "    batch_size=1024,\n",
    "    # we already split the data\n",
    "    validation_split=0.0,\n",
    "    verbose=0,\n",
    "    callbacks=callbacks)\n",
    "\n",
    "diseaseClassifierModel.summary()"
   ]
  },
  {
   "cell_type": "code",
   "execution_count": 21,
   "metadata": {},
   "outputs": [],
   "source": [
    "def calculateAccuracy(model, X, y):\n",
    "    '''\n",
    "    calculates accuracy\n",
    "\n",
    "    arguments\n",
    "        model: \n",
    "            a keras model that returns the output of softmax\n",
    "        \n",
    "        X:\n",
    "            the set of data to make prediction on. Types must be numpy array\n",
    "        y:\n",
    "            the expected values, a numpy array with shape (n, 1) of values. Do not pass one hots\n",
    "    \n",
    "    returns float\n",
    "    '''\n",
    "    # predictions is output of softmax layer\n",
    "    predictions = model.predict(X)\n",
    "    predictedValuesTensor = keras.backend.argmax(predictions)\n",
    "\n",
    "    # use keras escape hatch to tensor flow\n",
    "    sess = tf.Session()\n",
    "    with sess.as_default():\n",
    "        predictedValuesNumpy = predictedValuesTensor.eval()\n",
    "\n",
    "    indicators = np.equal(predictedValuesNumpy, y)\n",
    "    accuracy = np.sum(indicators) / len(indicators)\n",
    "\n",
    "    return accuracy"
   ]
  },
  {
   "cell_type": "code",
   "execution_count": 22,
   "metadata": {},
   "outputs": [
    {
     "name": "stdout",
     "output_type": "stream",
     "text": [
      "training accuracy:0.9937084520417854\n",
      "    test accuracy:0.9577397910731245\n",
      "CPU times: user 16.1 s, sys: 1.44 s, total: 17.5 s\n",
      "Wall time: 4.42 s\n"
     ]
    }
   ],
   "source": [
    "%%time\n",
    "trainAcc = calculateAccuracy(diseaseClassifierModel, XTrainNumpy,\n",
    "                             yTrainNumpy[:, 0])\n",
    "\n",
    "testAcc = calculateAccuracy(diseaseClassifierModel, XTestNumpy,\n",
    "                            yTestNumpy[:, 0])\n",
    "\n",
    "print(\"training accuracy:{}\".format(trainAcc))\n",
    "print(\"    test accuracy:{}\".format(testAcc))"
   ]
  },
  {
   "cell_type": "code",
   "execution_count": 23,
   "metadata": {},
   "outputs": [
    {
     "data": {
      "image/png": "[encoded data removed]",
      "text/plain": [
       "<Figure size 432x288 with 1 Axes>"
      ]
     },
     "metadata": {},
     "output_type": "display_data"
    },
    {
     "data": {
      "image/png": "[encoded data removed]",
      "text/plain": [
       "<Figure size 432x288 with 1 Axes>"
      ]
     },
     "metadata": {},
     "output_type": "display_data"
    }
   ],
   "source": [
    "# summarize history for accuracy\n",
    "plt.plot(history.history['acc'])\n",
    "# plt.plot(history.history['val_acc'])\n",
    "plt.title('Fig 3. Model accuracy')\n",
    "plt.ylabel('accuracy')\n",
    "plt.xlabel('epoch')\n",
    "plt.legend(['train', 'test'], loc='upper left')\n",
    "plt.show()\n",
    "# # summarize history for loss\n",
    "plt.plot(history.history['loss'])\n",
    "# plt.plot(history.history['val_loss'])\n",
    "plt.title('Fig 4. Model loss')\n",
    "plt.ylabel('loss')\n",
    "plt.xlabel('epoch')\n",
    "plt.legend(['train', 'test'], loc='upper right')\n",
    "plt.show()"
   ]
  },
  {
   "cell_type": "code",
   "execution_count": 24,
   "metadata": {},
   "outputs": [
    {
     "name": "stdout",
     "output_type": "stream",
     "text": [
      "ERROR: model was not save. files already exist /bme-230a-ebs/models/diseaseClassifier.h5\n"
     ]
    }
   ],
   "source": [
    "# save model\n",
    "modelRootDir = \"{}/models\".format(rootDir)\n",
    "fullModelPath = \"{}/{}.h5\".format(modelRootDir, modelName)\n",
    "\n",
    "if not os.path.exists(modelRootDir):\n",
    "    print(\"create modle directory:{}\".format(modelRootDir))\n",
    "    os.makedirs(modelRootDir)\n",
    "\n",
    "if not os.path.isfile(fullModelPath):\n",
    "    diseaseClassifierModel.save(fullModelPath)\n",
    "    print(\"Saved {} to disk\".format(fullModelPath))\n",
    "else:\n",
    "    print(\"ERROR: model was not save. files already exist {}\".format(\n",
    "        fullModelPath))"
   ]
  },
  {
   "cell_type": "code",
   "execution_count": null,
   "metadata": {},
   "outputs": [],
   "source": []
  }
 ],
 "metadata": {
  "kernelspec": {
   "display_name": "Python 3",
   "language": "python",
   "name": "python3"
  },
  "language_info": {
   "codemirror_mode": {
    "name": "ipython",
    "version": 3
   },
   "file_extension": ".py",
   "mimetype": "text/x-python",
   "name": "python",
   "nbconvert_exporter": "python",
   "pygments_lexer": "ipython3",
   "version": "3.6.5"
  },
  "toc": {
   "base_numbering": 1,
   "nav_menu": {},
   "number_sections": true,
   "sideBar": true,
   "skip_h1_title": false,
   "title_cell": "Table of Contents",
   "title_sidebar": "Contents",
   "toc_cell": false,
   "toc_position": {},
   "toc_section_display": true,
   "toc_window_display": false
  },
  "varInspector": {
   "cols": {
    "lenName": 16,
    "lenType": 16,
    "lenVar": 40
   },
   "kernels_config": {
    "python": {
     "delete_cmd_postfix": "",
     "delete_cmd_prefix": "del ",
     "library": "var_list.py",
     "varRefreshCmd": "print(var_dic_list())"
    },
    "r": {
     "delete_cmd_postfix": ") ",
     "delete_cmd_prefix": "rm(",
     "library": "var_list.r",
     "varRefreshCmd": "cat(var_dic_list()) "
    }
   },
   "types_to_exclude": [
    "module",
    "function",
    "builtin_function_or_method",
    "instance",
    "_Feature"
   ],
   "window_display": false
  }
 },
 "nbformat": 4,
 "nbformat_minor": 2
}
