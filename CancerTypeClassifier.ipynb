{
 "cells": [
  {
   "cell_type": "markdown",
   "metadata": {},
   "source": [
    "# Cancer Type Classifier\n",
    "- BME 230A class project winter 2019\n",
    "- Andrew E. Davidson\n",
    "- [aedavids@ucsc.edu](mailto:aedavids@edu?subject=SimpleModel.ipynb)\n",
    "\n",
    "classify cancer type from gene expression"
   ]
  },
  {
   "cell_type": "code",
   "execution_count": null,
   "metadata": {},
   "outputs": [],
   "source": [
    "from keras.models import Sequential\n",
    "from keras.layers import Dense\n",
    "from keras.wrappers.scikit_learn import KerasClassifier\n",
    "from keras.utils import np_utils\n",
    "\n",
    "import matplotlib.pyplot as plt\n",
    "import numpy as np\n",
    "import os \n",
    "import pandas as pd\n",
    "\n",
    "from sklearn.model_selection import cross_val_score\n",
    "from sklearn.model_selection import KFold\n",
    "from sklearn.preprocessing import LabelEncoder\n",
    "from sklearn.pipeline import Pipeline\n",
    "\n",
    "import sys\n",
    "\n",
    "# fix random seed for reproducibility\n",
    "theMeaningOfLife = 42\n",
    "\n",
    "import keras\n",
    "if \"2.1.6\" != keras.__version__ :\n",
    "    emsg = \"ERROR keras version {} != 2.1.6, new version can not save and restore models\".format(keras.__version__)\n",
    "    raise ValueError(emsg)\n",
    "\n",
    "# add path to our local modules\n",
    "# assume they are in the same directory we launched the juypter server in\n",
    "# /home/ubuntu/BME-230a\n",
    "!pwd\n",
    "localModuleDir = \".\"\n",
    "sys.path.append(localModuleDir)\n",
    "from loadData import loadTumorNormalData"
   ]
  },
  {
   "cell_type": "code",
   "execution_count": null,
   "metadata": {},
   "outputs": [],
   "source": [
    "rootDir = \"/bme-230a-ebs\"\n",
    "sourceDataFilePath = \"{}/data/tcga_target_gtex.h5\".format(rootDir)\n",
    "print(sourceDataFilePath)\n",
    "if not os.path.isfile(sourceDataFilePath) :\n",
    "    emsg = \"ERROR: {} not found\".format(sourceDataFilePath)\n",
    "    print(emsg)\n",
    "    print(\"change rootDir\")\n",
    "    sys.stdout.flush() # force error message to print\n",
    "    raise ValueError(emsg)"
   ]
  },
  {
   "cell_type": "code",
   "execution_count": null,
   "metadata": {},
   "outputs": [],
   "source": [
    "%%time\n",
    "# Load training set\n",
    "XDF = pd.read_hdf(sourceDataFilePath, \"expression\")\n",
    "print(\"XDF.shape:{}\".format(XDF.shape))\n",
    "\n",
    "yDF = pd.read_hdf(sourceDataFilePath, \"labels\")\n",
    "print(\"yDF.shape:{} type(yDF):\".format(yDF.shape)) "
   ]
  },
  {
   "cell_type": "code",
   "execution_count": null,
   "metadata": {},
   "outputs": [],
   "source": [
    "XDF.head(1)"
   ]
  },
  {
   "cell_type": "code",
   "execution_count": null,
   "metadata": {},
   "outputs": [],
   "source": [
    "yDF.head(1)"
   ]
  },
  {
   "cell_type": "code",
   "execution_count": null,
   "metadata": {},
   "outputs": [],
   "source": [
    "np.array_equal(pd.unique( yDF.loc[:,\"disease\"] ), pd.unique( yDF.loc[:,\"category\"] ))"
   ]
  },
  {
   "cell_type": "code",
   "execution_count": null,
   "metadata": {},
   "outputs": [],
   "source": [
    "diseaseClasses = pd.unique( yDF.loc[:,\"disease\"] )\n",
    "diseaseK = len(diseaseClasses)\n",
    "print(\"diseaseK: {}, type(diseaseClasses): {}\".format(diseaseK, type(diseaseClasses)))\n",
    "print(diseaseClasses)"
   ]
  },
  {
   "cell_type": "code",
   "execution_count": null,
   "metadata": {},
   "outputs": [],
   "source": [
    "def plotCategoryCounts(df, colNameStr, ):\n",
    "    '''\n",
    "    TODO: make this more generic\n",
    "    argument \n",
    "        df: a pandas data frame \n",
    "        colNameStr: \n",
    "        \n",
    "    returns \n",
    "        (fig, ax)\n",
    "    '''\n",
    "    # countDF is series\n",
    "    countDF = df[colNameStr].value_counts()\n",
    "    fig, ax = plt.subplots()\n",
    "    fig.set_size_inches(5,18)\n",
    "    ax.barh(countDF.index, countDF)    \n",
    "    \n",
    "    return (fig, ax)\n",
    "\n",
    "fig, ax = plotCategoryCounts(yDF, \"disease\")\n",
    "ax.set_title(\"disease counts\")"
   ]
  },
  {
   "cell_type": "code",
   "execution_count": null,
   "metadata": {},
   "outputs": [],
   "source": [
    "# Convert disease  into numerical values \n",
    "encoder = LabelEncoder()\n",
    "yDF[\"disease_value\"] = pd.Series(encoder.fit_transform(yDF[\"disease\"]), index=yDF.index)\n",
    "yDF[[\"disease\",\"disease_value\"]].head(3)"
   ]
  },
  {
   "cell_type": "code",
   "execution_count": null,
   "metadata": {},
   "outputs": [],
   "source": [
    "#%%time\n",
    "# Split into stratified training and test sets based on classes (i.e. tissue type) so that we have equal\n",
    "# proportions of each tissue type in the train and test sets\n",
    "from sklearn.model_selection import StratifiedShuffleSplit\n",
    "# split = StratifiedShuffleSplit(n_splits=1, test_size=0.2, random_state=theMeaningOfLife)\n",
    "# for train_index, test_index in split.split(XDF.values, yDF[\"disease_value\"]):\n",
    "#     XTrainDF = XDF[train_index]\n",
    "#     XTestDF  = XDF[test_index]\n",
    "#     yTrainSeries = yDF[\"disease_value\"][train_index]\n",
    "#     yTestSeries  = yDF[\"disease_value\"][test_index]\n",
    "\n",
    "\n",
    "# split = StratifiedShuffleSplit(n_splits=1, test_size=0.2, random_state=theMeaningOfLife)\n",
    "# for train_index, test_index in split.split(X.values, Y[\"tumor_normal_value\"]):\n",
    "#     X_train, X_test = X.values[train_index], X.values[test_index]\n",
    "#     y_train, y_test = Y[\"tumor_normal_value\"][train_index], \\\n",
    "#                         Y[\"tumor_normal_value\"][test_index]\n",
    "\n",
    "# Split into stratified training and test sets based on classes (i.e. tissue type) so that we have equal\n",
    "# proportions of each disease type in the train and test sets\n",
    "from sklearn.model_selection import StratifiedShuffleSplit\n",
    "split = StratifiedShuffleSplit(n_splits=1, test_size=0.2, random_state=theMeaningOfLife)\n",
    "for train_index, test_index in split.split(XDF.values, yDF[\"disease_value\"]):\n",
    "    XTrainNumpy, XTestNumpy = XDF.values[train_index], XDF.values[test_index]\n",
    "    yTrainSeries, yTestSeries = yDF[\"disease_value\"][train_index], \\\n",
    "                        yDF[\"disease_value\"][test_index]\n",
    "    \n",
    "print(\"XTrainNumpy.shape: {} XTestNumpy.shape: {}\".format(XTrainNumpy.shape, XTestNumpy.shape))\n",
    "print(type(XTrainNumpy))\n",
    "print(\"yTrainSeries.shape: {} yTestSeries.shape: {}\".format(yTrainSeries.shape, yTestSeries.shape))\n",
    "print(type(yTestSeries))"
   ]
  },
  {
   "cell_type": "code",
   "execution_count": null,
   "metadata": {},
   "outputs": [],
   "source": []
  }
 ],
 "metadata": {
  "kernelspec": {
   "display_name": "Python 3",
   "language": "python",
   "name": "python3"
  },
  "language_info": {
   "codemirror_mode": {
    "name": "ipython",
    "version": 3
   },
   "file_extension": ".py",
   "mimetype": "text/x-python",
   "name": "python",
   "nbconvert_exporter": "python",
   "pygments_lexer": "ipython3",
   "version": "3.6.5"
  }
 },
 "nbformat": 4,
 "nbformat_minor": 2
}
