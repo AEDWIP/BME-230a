{
 "cells": [
  {
   "cell_type": "markdown",
   "metadata": {},
   "source": [
    "# Cancer Type Classifier\n",
    "- BME 230A class project winter 2019\n",
    "- Andrew E. Davidson\n",
    "- [aedavids@ucsc.edu](mailto:aedavids@edu?subject=SimpleModel.ipynb)\n",
    "\n",
    "classify cancer type from gene expression"
   ]
  },
  {
   "cell_type": "code",
   "execution_count": null,
   "metadata": {},
   "outputs": [],
   "source": [
    "from keras.models import Sequential\n",
    "from keras.layers import Dense\n",
    "from keras.wrappers.scikit_learn import KerasClassifier\n",
    "from keras.utils import np_utils\n",
    "\n",
    "import matplotlib.pyplot as plt\n",
    "import numpy as np\n",
    "import os \n",
    "import pandas as pd\n",
    "\n",
    "from sklearn.model_selection import cross_val_score\n",
    "from sklearn.model_selection import KFold\n",
    "from sklearn.preprocessing import LabelEncoder\n",
    "from sklearn.pipeline import Pipeline\n",
    "\n",
    "import sys\n",
    "\n",
    "# fix random seed for reproducibility\n",
    "theMeaningOfLife = 42\n",
    "\n",
    "import keras\n",
    "if \"2.1.6\" != keras.__version__ :\n",
    "    emsg = \"ERROR keras version {} != 2.1.6, new version can not save and restore models\".format(keras.__version__)\n",
    "    raise ValueError(emsg)\n",
    "\n",
    "# add path to our local modules\n",
    "# assume they are in the same directory we launched the juypter server in\n",
    "# /home/ubuntu/BME-230a\n",
    "!pwd\n",
    "localModuleDir = \".\"\n",
    "sys.path.append(localModuleDir)\n",
    "from loadData import loadTumorNormalData"
   ]
  },
  {
   "cell_type": "code",
   "execution_count": null,
   "metadata": {},
   "outputs": [],
   "source": [
    "rootDir = \"/bme-230a-ebs\"\n",
    "sourceDataFilePath = \"{}/data/tcga_target_gtex.h5\".format(rootDir)\n",
    "print(sourceDataFilePath)\n",
    "if not os.path.isfile(sourceDataFilePath) :\n",
    "    emsg = \"ERROR: {} not found\".format(sourceDataFilePath)\n",
    "    print(emsg)\n",
    "    print(\"change rootDir\")\n",
    "    sys.stdout.flush() # force error message to print\n",
    "    raise ValueError(emsg)"
   ]
  },
  {
   "cell_type": "code",
   "execution_count": null,
   "metadata": {},
   "outputs": [],
   "source": [
    "%%time\n",
    "# Load training set\n",
    "XDF = pd.read_hdf(sourceDataFilePath, \"expression\")\n",
    "print(\"XDF.shape:{}\".format(XDF.shape))\n",
    "\n",
    "yDF = pd.read_hdf(sourceDataFilePath, \"labels\")\n",
    "print(\"yDF.shape:{} type(yDF):\".format(yDF.shape)) "
   ]
  },
  {
   "cell_type": "code",
   "execution_count": null,
   "metadata": {},
   "outputs": [],
   "source": [
    "XDF.head(1)"
   ]
  },
  {
   "cell_type": "code",
   "execution_count": null,
   "metadata": {},
   "outputs": [],
   "source": [
    "yDF.head(1)"
   ]
  },
  {
   "cell_type": "code",
   "execution_count": null,
   "metadata": {},
   "outputs": [],
   "source": [
    "np.array_equal(pd.unique( yDF.loc[:,\"disease\"] ), pd.unique( yDF.loc[:,\"category\"] ))"
   ]
  },
  {
   "cell_type": "code",
   "execution_count": null,
   "metadata": {},
   "outputs": [],
   "source": [
    "diseaseClasses = pd.unique( yDF.loc[:,\"disease\"] )\n",
    "diseaseK = len(diseaseClasses)\n",
    "print(\"diseaseK: {}, type(diseaseClasses): {}\".format(diseaseK, type(diseaseClasses)))\n",
    "print(diseaseClasses)"
   ]
  },
  {
   "cell_type": "code",
   "execution_count": null,
   "metadata": {},
   "outputs": [],
   "source": [
    "def plotCategoryCounts(df, colNameStr, ):\n",
    "    '''\n",
    "    TODO: make this more generic\n",
    "    argument \n",
    "        df: a pandas data frame \n",
    "        colNameStr: \n",
    "        \n",
    "    returns \n",
    "        (fig, ax)\n",
    "    '''\n",
    "    # countDF is series\n",
    "    countDF = df[colNameStr].value_counts()\n",
    "    fig, ax = plt.subplots()\n",
    "    fig.set_size_inches(5,18)\n",
    "    ax.barh(countDF.index, countDF)    \n",
    "    \n",
    "    return (fig, ax)\n",
    "\n",
    "fig, ax = plotCategoryCounts(yDF, \"disease\")\n",
    "ax.set_title(\"disease counts\")"
   ]
  },
  {
   "cell_type": "markdown",
   "metadata": {},
   "source": [
    "## Prepare data"
   ]
  },
  {
   "cell_type": "code",
   "execution_count": null,
   "metadata": {},
   "outputs": [],
   "source": [
    "# Convert disease  into numerical values \n",
    "encoder = LabelEncoder()\n",
    "yDF[\"disease_value\"] = pd.Series(encoder.fit_transform(yDF[\"disease\"]), index=yDF.index)\n",
    "yDF[[\"disease\",\"disease_value\"]].head(3)"
   ]
  },
  {
   "cell_type": "code",
   "execution_count": null,
   "metadata": {},
   "outputs": [],
   "source": [
    "#%%time\n",
    "# Split into stratified training and test sets based on classes (i.e. tissue type) so that we have equal\n",
    "# proportions of each disease type in the train and test sets\n",
    "from sklearn.model_selection import StratifiedShuffleSplit\n",
    "split = StratifiedShuffleSplit(n_splits=1, test_size=0.2, random_state=theMeaningOfLife)\n",
    "for train_index, test_index in split.split(XDF.values, yDF[\"disease_value\"]):\n",
    "    XTrainNumpy, XTestNumpy = XDF.values[train_index], XDF.values[test_index]\n",
    "    yTrainNumpy, yTestNumpy = yDF[\"disease_value\"][train_index].values, \\\n",
    "                        yDF[\"disease_value\"][test_index].values\n",
    "    \n",
    "    \n",
    "print(\"XTrainNumpy.shape: {} XTestNumpy.shape: {}\".format(XTrainNumpy.shape, XTestNumpy.shape))\n",
    "# pandas series values attribute create numpy arrays with shapes that are under specified\n",
    "# E.G. yTestNumpy.shape: (3826,) .this causes a lot of bugs in other packages\n",
    "# reshape(n,-1) causes reshape to set the last value\n",
    "yTrainNumpy = np.reshape(yTrainNumpy,(yTrainNumpy.shape[0], -1))\n",
    "yTestNumpy  = np.reshape( yTestNumpy, (yTestNumpy.shape[0], -1))\n",
    "print(\"yTrainNumpy.shape: {} yTestNumpy.shape: {}\".format(yTrainNumpy.shape, yTestNumpy.shape))\n",
    "print(type(yTestSeries))"
   ]
  },
  {
   "cell_type": "markdown",
   "metadata": {},
   "source": [
    "## Create Model"
   ]
  },
  {
   "cell_type": "code",
   "execution_count": null,
   "metadata": {},
   "outputs": [],
   "source": [
    "def multiClassClassifier(inputDim=None, outputDim=None):\n",
    "    '''\n",
    "    aedwip\n",
    "    '''\n",
    "    classify = [\n",
    "        InputLayer(input_shape=(inputDim,)),\n",
    "        BatchNormalization(),\n",
    "        Dense(outputDim), # dot(input, kernel) + bias\n",
    "        Activation('softmax') \n",
    "    ]\n",
    "    \n",
    "    model = Sequential(classify)   \n",
    "\n",
    "    model.compile(loss='categorical_crossentropy', optimizer=Adam(lr=lr), metrics=['accuracy']) \n",
    "    \n",
    "    return model "
   ]
  },
  {
   "cell_type": "code",
   "execution_count": null,
   "metadata": {},
   "outputs": [],
   "source": [
    "%%time\n",
    "modelName=\"diseaseClassifier\"\n",
    "diseaseClassifierModel = multiClassClassifier(\n",
    "                                input_dim=X_train.shape[1],\n",
    "                                output_dim=diseaseK,\n",
    "                                )\n",
    "diseaseClassifierModel.summary()\n",
    "\n",
    "# https://keras.io/callbacks/\n",
    "checkPointPath=\"./models/{}.chkPt\".format(modelName)\n",
    "callbacks = [\n",
    "    # monitor valuse either 'acc' for accuracy or 'loss'\n",
    "    # 'val_loss' is loss on hold if valaidation_split is set\n",
    "    # 'loss' is loss on training\n",
    "    # same for 'acc' and 'val_acc'\n",
    "    EarlyStopping(monitor='loss', patience=2, verbose=0) \n",
    "    ,ModelCheckpoint(checkPointPath, monitor='loss', save_best_only=False, verbose=0)\n",
    "    # FIXME: progbar generates run time error\n",
    "    #,ProgbarLogger(count_mode='samples', stateful_metrics=None)\n",
    "]\n",
    "\n",
    "history = diseaseClassifierModel.fit(X_train, y_train.values,        \n",
    "                                        shuffle=None, # we already shuffled\n",
    "                                        epochs= 20, #100\n",
    "                                        batch_size=1024, \n",
    "                                        # we already split the data         \n",
    "                                        validation_split=0.0, \n",
    "                                        verbose=0,\n",
    "                                        callbacks=callbacks\n",
    "                                     )"
   ]
  }
 ],
 "metadata": {
  "kernelspec": {
   "display_name": "Python 3",
   "language": "python",
   "name": "python3"
  },
  "language_info": {
   "codemirror_mode": {
    "name": "ipython",
    "version": 3
   },
   "file_extension": ".py",
   "mimetype": "text/x-python",
   "name": "python",
   "nbconvert_exporter": "python",
   "pygments_lexer": "ipython3",
   "version": "3.6.5"
  }
 },
 "nbformat": 4,
 "nbformat_minor": 2
}
