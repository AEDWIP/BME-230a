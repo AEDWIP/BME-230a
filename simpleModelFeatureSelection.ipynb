{
 "cells": [
  {
   "cell_type": "markdown",
   "metadata": {
    "colab_type": "text",
    "id": "ocEO8IYXCZj4"
   },
   "source": [
    "# Logistic Regression Tumor/normal Feature Selection\n",
    "identify genes that maximal activate and compare to know cancer causing genes"
   ]
  },
  {
   "cell_type": "code",
   "execution_count": 33,
   "metadata": {
    "colab": {},
    "colab_type": "code",
    "id": "idsL7tUcCZj5"
   },
   "outputs": [
    {
     "name": "stdout",
     "output_type": "stream",
     "text": [
      "keras version should be Keras==2.1.6, new version can not save and restore models\n",
      "keras version:2.1.6\n"
     ]
    }
   ],
   "source": [
    "import keras\n",
    "print(\"keras version should be Keras==2.1.6, new version can not save and restore models\")\n",
    "print(\"keras version:{}\".format(keras.__version__))\n",
    " \n",
    "import matplotlib.pyplot as plt\n",
    "import numpy as np\n",
    "import pandas as pd\n",
    "import tensorflow as tf\n",
    "import sys\n",
    "\n",
    "# fix random seed for reproducibility\n",
    "theMeaningOfLife = 42\n",
    "np.random.seed(theMeaningOfLife)"
   ]
  },
  {
   "cell_type": "code",
   "execution_count": 34,
   "metadata": {},
   "outputs": [
    {
     "name": "stdout",
     "output_type": "stream",
     "text": [
      "/home/ubuntu/BME-230a\r\n"
     ]
    }
   ],
   "source": [
    "# add path to our local modules\n",
    "# assume they are in the same directory we launched the juypter server in\n",
    "# /home/ubuntu/BME-230a\n",
    "!pwd\n",
    "localModuleDir = \".\"\n",
    "sys.path.append(localModuleDir)\n",
    "from loadData import loadTumorNormalData"
   ]
  },
  {
   "cell_type": "code",
   "execution_count": 35,
   "metadata": {
    "colab": {
     "base_uri": "https://localhost:8080/",
     "height": 205
    },
    "colab_type": "code",
    "executionInfo": {
     "elapsed": 1627,
     "status": "ok",
     "timestamp": 1552177555520,
     "user": {
      "displayName": "Andy Davidson",
      "photoUrl": "https://lh4.googleusercontent.com/-gB9HZ-hNWHs/AAAAAAAAAAI/AAAAAAAABR8/h1ExrxwAg0k/s64/photo.jpg",
      "userId": "01376457533882295996"
     },
     "user_tz": 480
    },
    "id": "k_6phR2tCsnR",
    "outputId": "9bc8c81c-d487-417f-f140-a6a1122b01ba"
   },
   "outputs": [],
   "source": [
    "# save this code example \n",
    "\n",
    "# do not use google drive it is really slow\n",
    "# load data from AWS EBS volumne: BME-230a-project volume id: vol-026c8e33988a1475b\n",
    "\n",
    "# from google.colab import drive\n",
    "# drive.mount('/content/drive') # force_remount=True\n",
    "# projectDirUnix=\"drive/'My Drive'/GD_BME230a/project\"\n",
    "# projectDir=\"drive/My Drive/GD_BME230a/project\"\n",
    "# !ls $projectDirUnix\n",
    "\n",
    "# rootDir = \"/bme-230a-ebs\"\n",
    "# dataFile = \"{}/data/tcga_target_gtex.h5\".format(rootDir)\n",
    "# store = pd.HDFStore(dataFile, mode=\"r\")\n",
    "# print(\"store.info():{}\".format(store.info()))\n",
    "# print(\"store.keys():{}\".format(store.keys()))"
   ]
  },
  {
   "cell_type": "code",
   "execution_count": 36,
   "metadata": {},
   "outputs": [
    {
     "name": "stdout",
     "output_type": "stream",
     "text": [
      "sourceDataFilePath:/bme-230a-ebs/data/tcga_target_gtex.h5\n",
      "CPU times: user 1.14 s, sys: 11.4 s, total: 12.5 s\n",
      "Wall time: 12.5 s\n"
     ]
    }
   ],
   "source": [
    "%%time\n",
    "\n",
    "rootDir = \"/bme-230a-ebs\"\n",
    "XTrainDF, yTrainSeries, _, _ = loadTumorNormalData(rootDir)\n",
    "yTrainDF = pd.DataFrame(yTrainSeries)\n",
    "yTrainSeries = None # clean up memory"
   ]
  },
  {
   "cell_type": "code",
   "execution_count": 37,
   "metadata": {},
   "outputs": [
    {
     "name": "stdout",
     "output_type": "stream",
     "text": [
      "XTrainDF.shape:(15300, 58581)\n"
     ]
    },
    {
     "data": {
      "text/html": [
       "<div>\n",
       "<style scoped>\n",
       "    .dataframe tbody tr th:only-of-type {\n",
       "        vertical-align: middle;\n",
       "    }\n",
       "\n",
       "    .dataframe tbody tr th {\n",
       "        vertical-align: top;\n",
       "    }\n",
       "\n",
       "    .dataframe thead th {\n",
       "        text-align: right;\n",
       "    }\n",
       "</style>\n",
       "<table border=\"1\" class=\"dataframe\">\n",
       "  <thead>\n",
       "    <tr style=\"text-align: right;\">\n",
       "      <th></th>\n",
       "      <th>5S_rRNA</th>\n",
       "      <th>5_8S_rRNA</th>\n",
       "      <th>7SK</th>\n",
       "    </tr>\n",
       "  </thead>\n",
       "  <tbody>\n",
       "    <tr>\n",
       "      <th>0</th>\n",
       "      <td>-9.966041</td>\n",
       "      <td>-9.965816</td>\n",
       "      <td>-0.687321</td>\n",
       "    </tr>\n",
       "    <tr>\n",
       "      <th>1</th>\n",
       "      <td>-9.966041</td>\n",
       "      <td>-9.965816</td>\n",
       "      <td>-9.965881</td>\n",
       "    </tr>\n",
       "    <tr>\n",
       "      <th>2</th>\n",
       "      <td>-9.966041</td>\n",
       "      <td>-9.965816</td>\n",
       "      <td>-9.965881</td>\n",
       "    </tr>\n",
       "  </tbody>\n",
       "</table>\n",
       "</div>"
      ],
      "text/plain": [
       "    5S_rRNA  5_8S_rRNA       7SK\n",
       "0 -9.966041  -9.965816 -0.687321\n",
       "1 -9.966041  -9.965816 -9.965881\n",
       "2 -9.966041  -9.965816 -9.965881"
      ]
     },
     "execution_count": 37,
     "metadata": {},
     "output_type": "execute_result"
    }
   ],
   "source": [
    "print(\"XTrainDF.shape:{}\".format(XTrainDF.shape))\n",
    "XTrainDF.iloc[0:3,0:3]"
   ]
  },
  {
   "cell_type": "markdown",
   "metadata": {},
   "source": [
    "# Load trained model"
   ]
  },
  {
   "cell_type": "code",
   "execution_count": 38,
   "metadata": {
    "colab": {
     "base_uri": "https://localhost:8080/",
     "height": 302
    },
    "colab_type": "code",
    "executionInfo": {
     "elapsed": 2590,
     "status": "ok",
     "timestamp": 1552177556484,
     "user": {
      "displayName": "Andy Davidson",
      "photoUrl": "https://lh4.googleusercontent.com/-gB9HZ-hNWHs/AAAAAAAAAAI/AAAAAAAABR8/h1ExrxwAg0k/s64/photo.jpg",
      "userId": "01376457533882295996"
     },
     "user_tz": 480
    },
    "id": "P8GME6wXCZj8",
    "outputId": "e724f980-760a-4d37-f129-e6bc1989f941"
   },
   "outputs": [
    {
     "name": "stdout",
     "output_type": "stream",
     "text": [
      "fullModelPath:/bme-230a-ebs/models/fulllogisticRegressionTumorNormal.h5\n",
      "_________________________________________________________________\n",
      "Layer (type)                 Output Shape              Param #   \n",
      "=================================================================\n",
      "input_1 (InputLayer)         (None, 58581)             0         \n",
      "_________________________________________________________________\n",
      "batch_normalization_1 (Batch (None, 58581)             234324    \n",
      "_________________________________________________________________\n",
      "dense_1 (Dense)              (None, 1)                 58582     \n",
      "_________________________________________________________________\n",
      "activation_1 (Activation)    (None, 1)                 0         \n",
      "=================================================================\n",
      "Total params: 292,906\n",
      "Trainable params: 175,744\n",
      "Non-trainable params: 117,162\n",
      "_________________________________________________________________\n",
      "model.optimizer:<keras.optimizers.Adam object at 0x7f7c85e30278>\n",
      "CPU times: user 644 ms, sys: 12 ms, total: 656 ms\n",
      "Wall time: 662 ms\n"
     ]
    }
   ],
   "source": [
    "%%time\n",
    "# load model\n",
    "from keras.models import load_model\n",
    "modelName=\"logisticRegressionTumorNormal\"\n",
    "modelRootDir = \"{}/models\".format(rootDir)\n",
    "fullModelPath = \"{}/full{}.h5\".format(modelRootDir, modelName)\n",
    "print(\"fullModelPath:{}\".format(fullModelPath))\n",
    "\n",
    "model = load_model(fullModelPath)\n",
    "model.summary()\n",
    "#model.get_weights()\n",
    "print(\"model.optimizer:{}\".format(model.optimizer))"
   ]
  },
  {
   "cell_type": "markdown",
   "metadata": {
    "colab_type": "text",
    "id": "-GREOhTUCZkE"
   },
   "source": [
    "# start eval"
   ]
  },
  {
   "cell_type": "code",
   "execution_count": 39,
   "metadata": {
    "colab": {},
    "colab_type": "code",
    "id": "NB3joVY_CZkF"
   },
   "outputs": [
    {
     "name": "stdout",
     "output_type": "stream",
     "text": [
      "normalizedXTrain.shape:(15300, 58581)\n",
      "type(normalizedXTrain):<class 'numpy.ndarray'>\n",
      "CPU times: user 19.9 s, sys: 972 ms, total: 20.9 s\n",
      "Wall time: 6.67 s\n"
     ]
    }
   ],
   "source": [
    "%%time\n",
    "# https://keras.io/getting-started/faq/#how-can-i-obtain-the-output-of-an-intermediate-layer\n",
    "# We want to identify how much each feature contributes to Z the value passed to the activation layer\n",
    "# its important that we use the batch_normalization layer from our logistic regression model\n",
    "# else we will potentially scale the data to a distribution with a different mean and variance\n",
    "\n",
    "from keras.models import Model\n",
    "\n",
    "layerName=\"batch_normalization_1\"\n",
    "normalizationModel = Model(inputs=model.input,\n",
    "                                 outputs=model.get_layer(layerName).output)\n",
    "\n",
    "normalizedXTrain = normalizationModel.predict(XTrainDF)\n",
    "\n",
    "print(\"normalizedXTrain.shape:{}\".format(XTrainDF.shape))\n",
    "print(\"type(normalizedXTrain):{}\".format(type(normalizedXTrain)))"
   ]
  },
  {
   "cell_type": "code",
   "execution_count": 40,
   "metadata": {
    "colab": {},
    "colab_type": "code",
    "id": "fmNbtZwFCZkH"
   },
   "outputs": [
    {
     "name": "stdout",
     "output_type": "stream",
     "text": [
      "    5S_rRNA  5_8S_rRNA       7SK    A1BG  A1BG-AS1\n",
      "0 -9.966041  -9.965816 -0.687321  2.7487    0.6425\n",
      "1 -9.966041  -9.965816 -9.965881  1.7489    0.4552\n",
      "2 -9.966041  -9.965816 -9.965881  3.1393   -0.5332\n",
      "3 -9.966041  -9.965816 -9.965881  1.8957    0.3346\n",
      "4 -9.966041  -9.965816 -9.965881  6.1639    2.7951\n",
      "\n",
      "[[-0.22909236 -0.01842499  1.7634513  -0.4423349  -0.33213907]\n",
      " [-0.22909236 -0.01842499 -0.59044564 -0.93999165 -0.45341104]\n",
      " [-0.22909236 -0.01842499 -0.59044564 -0.24791121 -1.0933752 ]\n",
      " [-0.22909236 -0.01842499 -0.59044564 -0.86692107 -0.5314965 ]\n",
      " [-0.22909236 -0.01842499 -0.59044564  1.2576027   1.0616152 ]]\n"
     ]
    }
   ],
   "source": [
    "# make sure batch normalization was applied\n",
    "print(XTrainDF.iloc[0:5,0:5])\n",
    "print()\n",
    "print(normalizedXTrain[0:5,0:5])"
   ]
  },
  {
   "cell_type": "code",
   "execution_count": 41,
   "metadata": {
    "colab": {},
    "colab_type": "code",
    "id": "wwKdOl8jCZkP"
   },
   "outputs": [
    {
     "name": "stdout",
     "output_type": "stream",
     "text": [
      "CPU times: user 2.18 s, sys: 696 ms, total: 2.87 s\n",
      "Wall time: 2.87 s\n"
     ]
    }
   ],
   "source": [
    "%%time\n",
    "# create a new dataFrame that combines our features with out labels\n",
    "# the index for XTrainDF are integers\n",
    "# teh index for yTrainDF GTEX values e.g. GTEX-ZQG8-2426-SM-57WEE\n",
    "normalizedXTrainDF = pd.DataFrame(normalizedXTrain, columns=XTrainDF.columns)\n",
    "evalTrainDF = pd.concat([normalizedXTrainDF, yTrainDF.reset_index(drop=True)], axis=1)\n",
    "yTrainDF = None # clean up memory\n",
    "normalizedXTrainDF = None # clean up memory\n",
    "XTrainDF = None # clean up memory"
   ]
  },
  {
   "cell_type": "code",
   "execution_count": 42,
   "metadata": {
    "colab": {},
    "colab_type": "code",
    "id": "8FRF-sAQCZkS"
   },
   "outputs": [
    {
     "name": "stdout",
     "output_type": "stream",
     "text": [
      "\n",
      "key:normal\n",
      "      gene1  gene2\n",
      "min     1.0   11.0\n",
      "max     3.0   33.0\n",
      "mean    2.0   22.0\n",
      "\n",
      "key:tumor\n",
      "      gene1  gene2\n",
      "min     2.0   22.0\n",
      "max     4.0   44.0\n",
      "mean    3.0   33.0\n",
      "\n"
     ]
    }
   ],
   "source": [
    "def calcStats(df, categoryColName, listOfAggFunctions):\n",
    "    '''\n",
    "    # https://stackoverflow.com/a/14734627/4586180\n",
    "    1. groups rows by category\n",
    "    2. applies the aggregate function to each group\n",
    "    \n",
    "    arguments:\n",
    "        df:\n",
    "            dataframe\n",
    "            \n",
    "        categoryColName:\n",
    "            a string identifying the column to group by\n",
    "            \n",
    "        listOfAggFunctions:\n",
    "            a list of string names of the aggrate function to run\n",
    "    \n",
    "    returns\n",
    "        a dictionary. \n",
    "            The key will be the classes in the col identifyied by categoryColName\n",
    "            the value will be a dataframe with the aggragate values\n",
    "        \n",
    "    '''\n",
    "    ret = dict()\n",
    "    grouped = df.groupby(categoryColName)\n",
    "    for key, group in grouped:\n",
    "        stats = group.agg(listOfAggFunctions)\n",
    "        ret[key] = stats\n",
    "        \n",
    "    return ret\n",
    "        \n",
    "   \n",
    "# small example that explains what it calcStats() does\n",
    "tn = pd.Series([\"normal\",\"tumor\",\"normal\",\"tumor\"], dtype=\"category\")\n",
    "df = pd.DataFrame({\"gene1\":[1,2,3,4],\n",
    "                   \"gene2\":[11, 22, 33, 44],\n",
    "                   \"tumorNormal\":tn})\n",
    "\n",
    "ret = calcStats(df=df, categoryColName=\"tumorNormal\", listOfAggFunctions=['min', 'max', 'mean'])\n",
    "print()\n",
    "for key in ret.keys():\n",
    "    print(\"key:{}\\n{}\\n\".format(key, ret[key]))"
   ]
  },
  {
   "cell_type": "code",
   "execution_count": 43,
   "metadata": {
    "colab": {},
    "colab_type": "code",
    "id": "pp6wqLQgCZkV"
   },
   "outputs": [
    {
     "name": "stdout",
     "output_type": "stream",
     "text": [
      "CPU times: user 1min 11s, sys: 1.03 s, total: 1min 12s\n",
      "Wall time: 1min 12s\n"
     ]
    }
   ],
   "source": [
    "%%time\n",
    "# for each class, calculate the mean value for each gene\n",
    "statsTrainDict = calcStats(df=evalTrainDF, categoryColName=\"tumor_normal_value\", \n",
    "                      listOfAggFunctions=['min', 'max', 'std', 'mean'])\n",
    "evalTrainDF = None # clean up memory"
   ]
  },
  {
   "cell_type": "code",
   "execution_count": 44,
   "metadata": {
    "colab": {},
    "colab_type": "code",
    "id": "K-Y0DcfkCZkX"
   },
   "outputs": [
    {
     "name": "stdout",
     "output_type": "stream",
     "text": [
      "normalTrainDF.shape:(4, 58582)\n",
      " tumorTrainDF.shape:(4, 58582)\n"
     ]
    }
   ],
   "source": [
    "# the keys are '0' and '1'\n",
    "# AEDWIP make sure '0' is normal\n",
    "normalTrainDF = statsTrainDict[0]\n",
    "tumorTrainDF = statsTrainDict[1]\n",
    "print(\"normalTrainDF.shape:{}\".format(normalTrainDF.shape))\n",
    "print(\" tumorTrainDF.shape:{}\".format(tumorTrainDF.shape))\n",
    "statsTrainDict = None # clean up memory"
   ]
  },
  {
   "cell_type": "code",
   "execution_count": 45,
   "metadata": {
    "colab": {},
    "colab_type": "code",
    "id": "rS8A3FaPCZka"
   },
   "outputs": [
    {
     "name": "stdout",
     "output_type": "stream",
     "text": [
      "       5S_rRNA  5_8S_rRNA       7SK\n",
      "min  -0.229092  -0.018425 -0.590446\n",
      "max   5.554689  68.263947  2.793195\n",
      "std   1.095426   0.823410  1.058365\n",
      "mean  0.045851  -0.008494  0.078725\n",
      "\n",
      "        uc_338  yR211F11.2  tumor_normal_value\n",
      "min  -2.405998   -0.343928                 0.0\n",
      "max   1.359166    4.647242                 0.0\n",
      "std   0.827414    0.876714                 0.0\n",
      "mean  0.305524   -0.090991                 0.0\n"
     ]
    }
   ],
   "source": [
    "print(normalTrainDF.iloc[0:4, 0:3])\n",
    "last3ColLabels = normalTrainDF.columns[-3:]\n",
    "print()\n",
    "print(normalTrainDF.iloc[0:4,:].loc[:,last3ColLabels])"
   ]
  },
  {
   "cell_type": "code",
   "execution_count": 71,
   "metadata": {
    "colab": {},
    "colab_type": "code",
    "id": "M8I3dE3ECZke"
   },
   "outputs": [
    {
     "name": "stdout",
     "output_type": "stream",
     "text": [
      "len(weights):2\n",
      "weights[0][0:3]:[[ 0.00080593]\n",
      " [-0.00365209]\n",
      " [ 0.00453593]]\n",
      "len(weights[0]):58581\n",
      "len(weights[1]):1\n",
      "coeficients.shape:(58581, 1)\n",
      "CPU times: user 0 ns, sys: 0 ns, total: 0 ns\n",
      "Wall time: 1.23 ms\n"
     ]
    }
   ],
   "source": [
    "%%time\n",
    "# identify which gene have the greatest effect on z\n",
    "# by multiplying the means by the dense layer weight\n",
    "denseLayer = model.get_layer('dense_1')\n",
    "#print(denseLayer.get_config())\n",
    "weights = denseLayer.get_weights()\n",
    "print(\"len(weights):{}\".format(len(weights)))\n",
    "print(\"weights[0][0:3]:{}\".format(weights[0][0:3]))\n",
    "print(\"len(weights[0]):{}\".format(len(weights[0])))\n",
    "print(\"len(weights[1]):{}\".format(len(weights[1])))\n",
    "coeficients = weights[0]\n",
    "print(\"coeficients.shape:{}\".format(coeficients.shape))"
   ]
  },
  {
   "cell_type": "markdown",
   "metadata": {},
   "source": [
    "aedwp"
   ]
  },
  {
   "cell_type": "code",
   "execution_count": 72,
   "metadata": {
    "colab": {},
    "colab_type": "code",
    "id": "8WU0x7AgCZkh"
   },
   "outputs": [],
   "source": [
    "# select all the gene col lables. The last col is tumor_normal_value\n",
    "trainFeatureCols =  normalTrainDF.columns[:-1]\n",
    "normalTrainMeansSeries = normalTrainDF.loc['mean', trainFeatureCols]\n",
    "WnormalTrainDF = None # clear memory\n",
    "\n",
    "tumorTrainMeansSeries = tumorTrainDF.loc['mean', trainFeatureCols]\n",
    "#tumorTrainDF = None # clear memory"
   ]
  },
  {
   "cell_type": "code",
   "execution_count": 73,
   "metadata": {
    "colab": {},
    "colab_type": "code",
    "id": "eUKPx006CZkk"
   },
   "outputs": [
    {
     "name": "stdout",
     "output_type": "stream",
     "text": [
      "normalTrainMeansValues.shape:(58581,)\n",
      "type(normalTrainMeansValues):<class 'numpy.ndarray'>\n",
      "valuenormalTrainMeansValues:[[ 0.04585141]\n",
      " [-0.00849445]\n",
      " [ 0.07872539]\n",
      " ...\n",
      " [-0.00280762]\n",
      " [ 0.30552363]\n",
      " [-0.09099111]]\n",
      "CPU times: user 0 ns, sys: 0 ns, total: 0 ns\n",
      "Wall time: 441 µs\n"
     ]
    }
   ],
   "source": [
    "%%time\n",
    "# https://pandas.pydata.org/pandas-docs/stable/reference/api/pandas.Series.multiply.html\n",
    "# element wise multiplication\n",
    "normalTrainMeansValues = normalTrainMeansSeries.values\n",
    "normalTrainMeansSeries = None # clean memory\n",
    "print(\"normalTrainMeansValues.shape:{}\".format(normalTrainMeansValues.shape))\n",
    "\n",
    "tumorTrainMeansValues = tumorTrainMeansSeries.values\n",
    "tumorTrainMeansSeries = None # clean memory\n",
    "\n",
    "# np.multiple multiply with shapes (58581,) * (58581, 1) exhasts memory\n",
    "s = normalTrainMeansValues.shape\n",
    "normalTrainMeansValues = np.reshape(normalTrainMeansValues, (s[0], 1))\n",
    "print(\"type(normalTrainMeansValues):{}\".format(type(normalTrainMeansValues)))\n",
    "print(\"valuenormalTrainMeansValues:{}\".format(normalTrainMeansValues))\n",
    "\n",
    "t = tumorTrainMeansValues.shape\n",
    "tumorTrainMeansValues = np.reshape(normalTrainMeansValues, (t[0], 1))"
   ]
  },
  {
   "cell_type": "code",
   "execution_count": 74,
   "metadata": {
    "colab": {},
    "colab_type": "code",
    "id": "eUKPx006CZkk"
   },
   "outputs": [
    {
     "name": "stdout",
     "output_type": "stream",
     "text": [
      "normalTrainMeansValues.shape:(58581, 1)\n",
      "type(normalTrainMeansValues):<class 'numpy.ndarray'>\n",
      "coeficients.shape:(58581, 1)\n",
      "type(coeficients):<class 'numpy.ndarray'>\n"
     ]
    }
   ],
   "source": [
    "print(\"normalTrainMeansValues.shape:{}\".format(normalTrainMeansValues.shape))\n",
    "print(\"type(normalTrainMeansValues):{}\".format(type(normalTrainMeansValues)))\n",
    "print(\"coeficients.shape:{}\".format(coeficients.shape))\n",
    "print(\"type(coeficients):{}\".format(type(coeficients)))\n",
    "normalContribution = np.multiply(normalTrainMeansValues, coeficients) # element wise mult\n",
    "tumorContribution = np.multiply(tumorTrainMeansValues, coeficients) # element wise mult"
   ]
  },
  {
   "cell_type": "code",
   "execution_count": 75,
   "metadata": {
    "colab": {},
    "colab_type": "code",
    "id": "zwbWWR6VCZkq"
   },
   "outputs": [
    {
     "name": "stdout",
     "output_type": "stream",
     "text": [
      "size:[12.  4.] \n"
     ]
    },
    {
     "data": {
      "image/png": "[encoded data removed]",
      "text/plain": [
       "<Figure size 864x288 with 1 Axes>"
      ]
     },
     "metadata": {},
     "output_type": "display_data"
    }
   ],
   "source": [
    "# bins = numpy.linspace(-10, 10, 100)\n",
    "\n",
    "fig = plt.gcf()\n",
    "fig.set_size_inches(12,4)\n",
    "numBins=25\n",
    "plt.hist(normalContribution, bins=numBins, alpha=0.5, label='normal')\n",
    "plt.hist(tumorContribution, bins=numBins, alpha=0.5, label='tumor')\n",
    "plt.legend(loc='upper right')\n",
    "\n",
    "fig = plt.gcf()\n",
    "size = fig.get_size_inches()*fig.dpi # size in pixels\n",
    "print(\"size:{} \".format(size/72)) #pixels / inch = 72\n",
    "plt.show()"
   ]
  },
  {
   "cell_type": "code",
   "execution_count": 94,
   "metadata": {
    "colab": {},
    "colab_type": "code",
    "id": "t3z0FsYcCZku"
   },
   "outputs": [
    {
     "name": "stdout",
     "output_type": "stream",
     "text": [
      "normalMean:-0.00048286453752650036 , normalStd:0.0013519555315224447\n",
      "tumorMean:-0.00048286453752650036 , tumorStd:0.0013519555315224447\n"
     ]
    }
   ],
   "source": [
    "# calculate describtive stats across all the gene average contributions\n",
    "normalStd = np.std(normalContribution)\n",
    "normalMean = np.mean(normalContribution)\n",
    "tumorStd = np.std(tumorContribution)\n",
    "tumorMean = np.mean(tumorContribution)\n",
    "print(\"normalMean:{} , normalStd:{}\".format(normalMean , normalStd))\n",
    "print(\"tumorMean:{} , tumorStd:{}\".format(tumorMean , tumorStd))"
   ]
  },
  {
   "cell_type": "code",
   "execution_count": 110,
   "metadata": {
    "colab": {},
    "colab_type": "code",
    "id": "0fGWkDrGCZk4"
   },
   "outputs": [
    {
     "name": "stdout",
     "output_type": "stream",
     "text": [
      "normalTrainDF.loc['mean',:].head():\n",
      "5S_rRNA      0.045851\n",
      "5_8S_rRNA   -0.008494\n",
      "7SK          0.078725\n",
      "A1BG        -0.067434\n",
      "A1BG-AS1     0.021339\n",
      "Name: mean, dtype: float64\n",
      "\n",
      "type(zscores):<class 'numpy.ndarray'> , zscores.shape:(1, 58581), zscores[0:3]:[[ 0.37959335  0.08486713  0.55787415 ...  0.11570773  1.78783697\n",
      "  -0.36252532]]\n",
      "\n",
      "normalZScoreDF.iloc[0, 0:2]:\n",
      "5S_rRNA      0.379593\n",
      "5_8S_rRNA    0.084867\n",
      "Name: 0, dtype: float64\n",
      "\n",
      "normalZScoreDF.shape:(1, 58581)\n",
      "\n",
      "normalZScoreDF.iloc[:,0:2].head():\n",
      "    5S_rRNA  5_8S_rRNA\n",
      "0  0.379593   0.084867\n",
      "\n"
     ]
    }
   ],
   "source": [
    "# the mean contribution of all genes is close to zero\n",
    "# find genes with highest contribution to Z\n",
    "print( \"normalTrainDF.loc['mean',:].head():\\n{}\".format(normalTrainDF.loc[\"mean\",:].head() ))\n",
    "\n",
    "print()\n",
    "from scipy.stats import zscore\n",
    "\n",
    "xxxSeries = normalTrainDF.loc[\"mean\", trainFeatureCols]\n",
    "zscores = zscore(xxxSeries)\n",
    "s = zscores.shape\n",
    "zscores = np.reshape(zscores, (1, s[0]))\n",
    "print(\"type(zscores):{} , zscores.shape:{}, zscores[0:3]:{}\".format(type(zscores) , zscores.shape, zscores[0:3]))\n",
    "normalZScoreDF = pd.DataFrame(zscores, columns=trainFeatureCols)\n",
    "\n",
    "print()\n",
    "print( \"normalZScoreDF.iloc[0, 0:2]:\\n{}\".format(normalZScoreDF.iloc[0, 0:2]) )\n",
    "print(\"\\nnormalZScoreDF.shape:{}\".format(normalZScoreDF.shape) )\n",
    "print(\"\\nnormalZScoreDF.iloc[:,0:2].head():\\n{}\\n\".format(normalZScoreDF.iloc[:, 0:2].head()))"
   ]
  },
  {
   "cell_type": "code",
   "execution_count": 135,
   "metadata": {
    "colab": {},
    "colab_type": "code",
    "id": "0fGWkDrGCZk4"
   },
   "outputs": [
    {
     "name": "stdout",
     "output_type": "stream",
     "text": [
      "normalInhibitors.shape(1, 58581) , normalInhibitors.iloc[0, 0:2]:\n",
      "5S_rRNA      False\n",
      "5_8S_rRNA    False\n",
      "Name: 0, dtype: bool\n",
      "number of inhibitors 0    8151\n",
      "dtype: int64\n",
      "\n",
      "normalPromoters.shape(1, 58581) , normalPromoters.iloc[0, 0:2]:\n",
      "5S_rRNA      False\n",
      "5_8S_rRNA    False\n",
      "Name: 0, dtype: bool\n",
      "number of promoters 0    7618\n",
      "dtype: int64\n",
      "\n",
      " test select\n",
      "yyy.shape:(1, 58581) \n",
      "yyy[0:2, :]:   5S_rRNA  5_8S_rRNA  7SK  A1BG  A1BG-AS1  A1CF  A2M  A2M-AS1     A2ML1  \\\n",
      "0      NaN        NaN  NaN   NaN       NaN   NaN  NaN  1.11433  1.163341   \n",
      "\n",
      "   A2ML1-AS1     ...      snoU2-30  snoU2_19  snoU83B  snoZ196  snoZ278  \\\n",
      "0        NaN     ...           NaN       NaN      NaN      NaN      NaN   \n",
      "\n",
      "   snoZ40  snoZ6  snosnR66    uc_338  yR211F11.2  \n",
      "0     NaN    NaN       NaN  1.787837         NaN  \n",
      "\n",
      "[1 rows x 58581 columns]\n",
      "\n",
      "AEDWIP\n",
      "RangeIndex(start=0, stop=1, step=1)\n",
      "Index(['5S_rRNA', '5_8S_rRNA', '7SK', 'A1BG', 'A1BG-AS1'], dtype='object')\n"
     ]
    }
   ],
   "source": [
    "thresholdZScore = 1\n",
    "normalInhibitors = normalZScoreDF < -1.0 * thresholdZScore\n",
    "print(\"normalInhibitors.shape{} , normalInhibitors.iloc[0, 0:2]:\\n{}\"\n",
    "      .format(normalInhibitors.shape , normalInhibitors.iloc[0, 0:2]))\n",
    "print(\"number of inhibitors {}\".format(normalInhibitors.sum(axis=1)))\n",
    "\n",
    "normalPromoters = normalZScoreDF > thresholdZScore\n",
    "print(\"\\nnormalPromoters.shape{} , normalPromoters.iloc[0, 0:2]:\\n{}\"\n",
    "      .format(normalPromoters.shape , normalPromoters.iloc[0, 0:2]))\n",
    "print(\"number of promoters {}\".format(normalPromoters.sum(axis=1)))\n",
    "\n",
    "print(\"\\n test select\")\n",
    "# yyy = normalZScoreDF.iloc[:, normalPromoters | normalInhibitors]\n",
    "# yyy = normalZScoreDF[:, normalPromoters | normalInhibitors]\n",
    "replaceFalseValuesWith = np.NaN # this is the default I wanted to be explicit\n",
    "# yyy = normalZScoreDF[normalPromoters | normalInhibitors]\n",
    "yyy = normalZScoreDF.where(normalPromoters | normalInhibitors, replaceFalseValuesWith)\n",
    "print( \"yyy.shape:{} \".format(yyy.shape))\n",
    "print(\"yyy[0:2, :]:{}\".format(yyy.head()))\n",
    "\n",
    "\n",
    "print(\"\\nAEDWIP\")\n",
    "print(yyy.index)\n",
    "print(yyy.columns[0:5])\n"
   ]
  },
  {
   "cell_type": "code",
   "execution_count": null,
   "metadata": {
    "colab": {},
    "colab_type": "code",
    "id": "eTrQfgHiCZk6"
   },
   "outputs": [],
   "source": []
  },
  {
   "cell_type": "code",
   "execution_count": 174,
   "metadata": {
    "colab": {},
    "colab_type": "code",
    "id": "AXlzolQMCZk8"
   },
   "outputs": [
    {
     "name": "stdout",
     "output_type": "stream",
     "text": [
      "s:(58581,) type(zscores):<class 'numpy.ndarray'>\n",
      "type(zscores):<class 'numpy.ndarray'> , zscores.shape:(58581, 1), zscores[0:3]:[[0.37959335]\n",
      " [0.08486713]\n",
      " [0.55787415]]\n",
      "\n",
      "trainFeatureCols shape:(58581,) type(trainFeatureCols):<class 'pandas.core.indexes.base.Index'>\n",
      "210\n",
      "[[61  0]\n",
      " [70  0]\n",
      " [72  0]]\n",
      "(210, 2)\n",
      "<class 'numpy.ndarray'>\n",
      "1.1143298139910058\n",
      "1.1633413373208668\n",
      "(420,)\n",
      "[61  0 70  0]\n",
      "[61 70 72 73]\n",
      "210\n",
      "Index(['ABCA10', 'ABCA6', 'ABCA8', 'ABCA9'], dtype='object')\n"
     ]
    }
   ],
   "source": [
    "# maybe it is easier to stick with series\n",
    "xxxSeries = normalTrainDF.loc[\"mean\", trainFeatureCols]\n",
    "zscores = zscore(xxxSeries)\n",
    "s = zscores.shape\n",
    "print(\"s:{} type(zscores):{}\".format(s, type(zscores)))\n",
    "zscores = np.reshape(zscores, (s[0],1) )\n",
    "print(\"type(zscores):{} , zscores.shape:{}, zscores[0:3]:{}\"\n",
    "      .format(type(zscores) , zscores.shape, zscores[0:3]))\n",
    "\n",
    "print()\n",
    "shape = trainFeatureCols.shape\n",
    "print(\"trainFeatureCols shape:{} type(trainFeatureCols):{}\".format(shape, type(trainFeatureCols)))\n",
    "# rrr =trainFeatureCols.reshape( (1, shape[1]))\n",
    "#zScoreSeries = pd.Series(zscores, index=trainFeatureCols.values)\n",
    "# print(zScoreSeries.shape)\n",
    "\n",
    "threshold = 3\n",
    "# argwhere returns a array of [row, idx] \n",
    "promoterIdx = np.argwhere(zscores > threshold)\n",
    "print(len(promoterIdx))\n",
    "print(promoterIdx[0:3])\n",
    "print(promoterIdx.shape)\n",
    "print(type(promoterIdx))\n",
    "print(zscores[7,0])\n",
    "print(zscores[8,0])\n",
    "\n",
    "flatPromoterIdx = promoterIdx.flatten()\n",
    "print(flatPromoterIdx.shape)\n",
    "print(flatPromoterIdx[0:4])\n",
    "print( flatPromoterIdx[flatPromoterIdx > 0][0:4])\n",
    "geneIdx = flatPromoterIdx[flatPromoterIdx > 0]\n",
    "print(len(trainFeatureCols[geneIdx]))\n",
    "print(trainFeatureCols[geneIdx][0:4])"
   ]
  },
  {
   "cell_type": "code",
   "execution_count": null,
   "metadata": {
    "colab": {},
    "colab_type": "code",
    "id": "h6z5phOECZk-"
   },
   "outputs": [],
   "source": [
    "# %%time\n",
    "# from sklearn.metrics import confusion_matrix\n",
    "\n",
    "# yPredict = model.predict(XTestDF)\n",
    "# print(type(yPredict))\n",
    "# print(yPredict[0:3])\n",
    "\n",
    "# yTestPredict = [1 if p > 0.5 else 0 for p in yPredict]\n",
    "# #print(yTestPredict[0:3])\n",
    "# cf = confusion_matrix(yTestDF, yTestPredict)\n",
    "# print(cf)\n",
    "# expected = [[1707, 13],[8, 2098]]\n",
    "# np.testing.assert_array_equal(cf, expected)"
   ]
  }
 ],
 "metadata": {
  "colab": {
   "collapsed_sections": [],
   "name": "simpleModelFeatureSelection.ipynb",
   "provenance": [],
   "version": "0.3.2"
  },
  "kernelspec": {
   "display_name": "Python 3",
   "language": "python",
   "name": "python3"
  },
  "language_info": {
   "codemirror_mode": {
    "name": "ipython",
    "version": 3
   },
   "file_extension": ".py",
   "mimetype": "text/x-python",
   "name": "python",
   "nbconvert_exporter": "python",
   "pygments_lexer": "ipython3",
   "version": "3.6.5"
  }
 },
 "nbformat": 4,
 "nbformat_minor": 1
}
