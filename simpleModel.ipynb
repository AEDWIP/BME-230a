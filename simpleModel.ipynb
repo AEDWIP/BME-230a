{
 "cells": [
  {
   "cell_type": "markdown",
   "metadata": {},
   "source": [
    "# Simple Model\n",
    "- BME 230A class project winter 2019\n",
    "- Andrew E. Davidson\n",
    "- [aedavids@ucsc.edu](mailto:aedavids@edu?subject=SimpleModel.ipynb)\n",
    "\n",
    "Use logistic regression to classify tumor vs. normal from Gene Expression\n"
   ]
  },
  {
   "cell_type": "code",
   "execution_count": 1,
   "metadata": {},
   "outputs": [
    {
     "name": "stderr",
     "output_type": "stream",
     "text": [
      "Using TensorFlow backend.\n"
     ]
    }
   ],
   "source": [
    "import os\n",
    "import numpy as np\n",
    "import pandas as pd\n",
    "import tensorflow as tf\n",
    "\n",
    "from keras.callbacks import EarlyStopping, ModelCheckpoint, ProgbarLogger\n",
    "from keras.models import Model, Sequential\n",
    "from keras.layers import Dense,Input,BatchNormalization, InputLayer, Activation\n",
    "from keras.regularizers import L1L2\n",
    "from keras.optimizers import Adam, SGD, Adadelta, Adagrad\n",
    "\n",
    "\n",
    "import matplotlib.pyplot as plt\n",
    "\n",
    "# fix random seed for reproducibility\n",
    "theMeaningOfLife = 42\n",
    "np.random.seed(theMeaningOfLife)"
   ]
  },
  {
   "cell_type": "code",
   "execution_count": 2,
   "metadata": {},
   "outputs": [
    {
     "name": "stdout",
     "output_type": "stream",
     "text": [
      "store.info():<class 'pandas.io.pytables.HDFStore'>\n",
      "File path: data/tcga_target_gtex.h5\n",
      "/expression            frame        (shape->[19126,58581])\n",
      "/labels                frame        (shape->[1,7])        \n",
      "store.keys():['/expression', '/labels']\n"
     ]
    }
   ],
   "source": [
    "dataFile = \"data/tcga_target_gtex.h5\"\n",
    "store = pd.HDFStore(dataFile, mode=\"r\")\n",
    "print(\"store.info():{}\".format(store.info()))\n",
    "print(\"store.keys():{}\".format(store.keys()))"
   ]
  },
  {
   "cell_type": "code",
   "execution_count": 3,
   "metadata": {},
   "outputs": [
    {
     "name": "stdout",
     "output_type": "stream",
     "text": [
      "CPU times: user 148 ms, sys: 7 s, total: 7.14 s\n",
      "Wall time: 11.2 s\n"
     ]
    }
   ],
   "source": [
    "%%time\n",
    "# Load training set\n",
    "X = pd.read_hdf(dataFile, \"expression\")\n",
    "Y = pd.read_hdf(dataFile, \"labels\")"
   ]
  },
  {
   "cell_type": "code",
   "execution_count": 4,
   "metadata": {
    "scrolled": true
   },
   "outputs": [
    {
     "data": {
      "text/html": [
       "<div>\n",
       "<style scoped>\n",
       "    .dataframe tbody tr th:only-of-type {\n",
       "        vertical-align: middle;\n",
       "    }\n",
       "\n",
       "    .dataframe tbody tr th {\n",
       "        vertical-align: top;\n",
       "    }\n",
       "\n",
       "    .dataframe thead th {\n",
       "        text-align: right;\n",
       "    }\n",
       "</style>\n",
       "<table border=\"1\" class=\"dataframe\">\n",
       "  <thead>\n",
       "    <tr style=\"text-align: right;\">\n",
       "      <th></th>\n",
       "      <th>5S_rRNA</th>\n",
       "      <th>5_8S_rRNA</th>\n",
       "      <th>7SK</th>\n",
       "      <th>A1BG</th>\n",
       "      <th>A1BG-AS1</th>\n",
       "      <th>A1CF</th>\n",
       "      <th>A2M</th>\n",
       "      <th>A2M-AS1</th>\n",
       "      <th>A2ML1</th>\n",
       "      <th>A2ML1-AS1</th>\n",
       "      <th>...</th>\n",
       "      <th>snoU2-30</th>\n",
       "      <th>snoU2_19</th>\n",
       "      <th>snoU83B</th>\n",
       "      <th>snoZ196</th>\n",
       "      <th>snoZ278</th>\n",
       "      <th>snoZ40</th>\n",
       "      <th>snoZ6</th>\n",
       "      <th>snosnR66</th>\n",
       "      <th>uc_338</th>\n",
       "      <th>yR211F11.2</th>\n",
       "    </tr>\n",
       "  </thead>\n",
       "  <tbody>\n",
       "    <tr>\n",
       "      <th>GTEX-1117F-0226-SM-5GZZ7</th>\n",
       "      <td>-9.966041</td>\n",
       "      <td>-9.965816</td>\n",
       "      <td>-9.965881</td>\n",
       "      <td>4.4595</td>\n",
       "      <td>0.9343</td>\n",
       "      <td>-5.0116</td>\n",
       "      <td>7.5126</td>\n",
       "      <td>0.8164</td>\n",
       "      <td>-2.1140</td>\n",
       "      <td>-9.9658</td>\n",
       "      <td>...</td>\n",
       "      <td>-9.965816</td>\n",
       "      <td>-9.965849</td>\n",
       "      <td>-9.9658</td>\n",
       "      <td>-9.9658</td>\n",
       "      <td>-9.9658</td>\n",
       "      <td>-9.9658</td>\n",
       "      <td>-9.965849</td>\n",
       "      <td>-9.9658</td>\n",
       "      <td>5.326995</td>\n",
       "      <td>-9.9658</td>\n",
       "    </tr>\n",
       "    <tr>\n",
       "      <th>GTEX-1117F-0426-SM-5EGHI</th>\n",
       "      <td>-9.966041</td>\n",
       "      <td>-9.965816</td>\n",
       "      <td>-9.965881</td>\n",
       "      <td>1.1512</td>\n",
       "      <td>-1.2828</td>\n",
       "      <td>-6.5064</td>\n",
       "      <td>6.0777</td>\n",
       "      <td>-2.3147</td>\n",
       "      <td>0.5568</td>\n",
       "      <td>-9.9658</td>\n",
       "      <td>...</td>\n",
       "      <td>-9.965816</td>\n",
       "      <td>-9.965849</td>\n",
       "      <td>-9.9658</td>\n",
       "      <td>-9.9658</td>\n",
       "      <td>-9.9658</td>\n",
       "      <td>-9.9658</td>\n",
       "      <td>-9.965849</td>\n",
       "      <td>-9.9658</td>\n",
       "      <td>3.037565</td>\n",
       "      <td>-9.9658</td>\n",
       "    </tr>\n",
       "    <tr>\n",
       "      <th>GTEX-1117F-0526-SM-5EGHJ</th>\n",
       "      <td>-9.966041</td>\n",
       "      <td>-9.965816</td>\n",
       "      <td>-9.965881</td>\n",
       "      <td>5.2411</td>\n",
       "      <td>0.8488</td>\n",
       "      <td>-6.5064</td>\n",
       "      <td>10.0319</td>\n",
       "      <td>0.1257</td>\n",
       "      <td>-1.1172</td>\n",
       "      <td>-9.9658</td>\n",
       "      <td>...</td>\n",
       "      <td>-9.965816</td>\n",
       "      <td>-9.965849</td>\n",
       "      <td>-9.9658</td>\n",
       "      <td>-9.9658</td>\n",
       "      <td>-9.9658</td>\n",
       "      <td>-9.9658</td>\n",
       "      <td>-9.965849</td>\n",
       "      <td>-9.9658</td>\n",
       "      <td>4.302417</td>\n",
       "      <td>-9.9658</td>\n",
       "    </tr>\n",
       "  </tbody>\n",
       "</table>\n",
       "<p>3 rows × 58581 columns</p>\n",
       "</div>"
      ],
      "text/plain": [
       "                           5S_rRNA  5_8S_rRNA       7SK    A1BG  A1BG-AS1  \\\n",
       "GTEX-1117F-0226-SM-5GZZ7 -9.966041  -9.965816 -9.965881  4.4595    0.9343   \n",
       "GTEX-1117F-0426-SM-5EGHI -9.966041  -9.965816 -9.965881  1.1512   -1.2828   \n",
       "GTEX-1117F-0526-SM-5EGHJ -9.966041  -9.965816 -9.965881  5.2411    0.8488   \n",
       "\n",
       "                            A1CF      A2M  A2M-AS1   A2ML1  A2ML1-AS1  ...  \\\n",
       "GTEX-1117F-0226-SM-5GZZ7 -5.0116   7.5126   0.8164 -2.1140    -9.9658  ...   \n",
       "GTEX-1117F-0426-SM-5EGHI -6.5064   6.0777  -2.3147  0.5568    -9.9658  ...   \n",
       "GTEX-1117F-0526-SM-5EGHJ -6.5064  10.0319   0.1257 -1.1172    -9.9658  ...   \n",
       "\n",
       "                          snoU2-30  snoU2_19  snoU83B  snoZ196  snoZ278  \\\n",
       "GTEX-1117F-0226-SM-5GZZ7 -9.965816 -9.965849  -9.9658  -9.9658  -9.9658   \n",
       "GTEX-1117F-0426-SM-5EGHI -9.965816 -9.965849  -9.9658  -9.9658  -9.9658   \n",
       "GTEX-1117F-0526-SM-5EGHJ -9.965816 -9.965849  -9.9658  -9.9658  -9.9658   \n",
       "\n",
       "                          snoZ40     snoZ6  snosnR66    uc_338  yR211F11.2  \n",
       "GTEX-1117F-0226-SM-5GZZ7 -9.9658 -9.965849   -9.9658  5.326995     -9.9658  \n",
       "GTEX-1117F-0426-SM-5EGHI -9.9658 -9.965849   -9.9658  3.037565     -9.9658  \n",
       "GTEX-1117F-0526-SM-5EGHJ -9.9658 -9.965849   -9.9658  4.302417     -9.9658  \n",
       "\n",
       "[3 rows x 58581 columns]"
      ]
     },
     "execution_count": 4,
     "metadata": {},
     "output_type": "execute_result"
    }
   ],
   "source": [
    "X.head(3)"
   ]
  },
  {
   "cell_type": "code",
   "execution_count": 5,
   "metadata": {},
   "outputs": [
    {
     "data": {
      "text/html": [
       "<div>\n",
       "<style scoped>\n",
       "    .dataframe tbody tr th:only-of-type {\n",
       "        vertical-align: middle;\n",
       "    }\n",
       "\n",
       "    .dataframe tbody tr th {\n",
       "        vertical-align: top;\n",
       "    }\n",
       "\n",
       "    .dataframe thead th {\n",
       "        text-align: right;\n",
       "    }\n",
       "</style>\n",
       "<table border=\"1\" class=\"dataframe\">\n",
       "  <thead>\n",
       "    <tr style=\"text-align: right;\">\n",
       "      <th></th>\n",
       "      <th>category</th>\n",
       "      <th>disease</th>\n",
       "      <th>primary_site</th>\n",
       "      <th>sample_type</th>\n",
       "      <th>gender</th>\n",
       "      <th>study</th>\n",
       "      <th>tumor_normal</th>\n",
       "    </tr>\n",
       "    <tr>\n",
       "      <th>id</th>\n",
       "      <th></th>\n",
       "      <th></th>\n",
       "      <th></th>\n",
       "      <th></th>\n",
       "      <th></th>\n",
       "      <th></th>\n",
       "      <th></th>\n",
       "    </tr>\n",
       "  </thead>\n",
       "  <tbody>\n",
       "    <tr>\n",
       "      <th>GTEX-1117F-0226-SM-5GZZ7</th>\n",
       "      <td>Adipose - Subcutaneous</td>\n",
       "      <td>Adipose - Subcutaneous</td>\n",
       "      <td>Adipose Tissue</td>\n",
       "      <td>Normal Tissue</td>\n",
       "      <td>Female</td>\n",
       "      <td>GTEX</td>\n",
       "      <td>Normal</td>\n",
       "    </tr>\n",
       "    <tr>\n",
       "      <th>GTEX-1117F-0426-SM-5EGHI</th>\n",
       "      <td>Muscle - Skeletal</td>\n",
       "      <td>Muscle - Skeletal</td>\n",
       "      <td>Muscle</td>\n",
       "      <td>Normal Tissue</td>\n",
       "      <td>Female</td>\n",
       "      <td>GTEX</td>\n",
       "      <td>Normal</td>\n",
       "    </tr>\n",
       "    <tr>\n",
       "      <th>GTEX-1117F-0526-SM-5EGHJ</th>\n",
       "      <td>Artery - Tibial</td>\n",
       "      <td>Artery - Tibial</td>\n",
       "      <td>Blood Vessel</td>\n",
       "      <td>Normal Tissue</td>\n",
       "      <td>Female</td>\n",
       "      <td>GTEX</td>\n",
       "      <td>Normal</td>\n",
       "    </tr>\n",
       "  </tbody>\n",
       "</table>\n",
       "</div>"
      ],
      "text/plain": [
       "                                        category                 disease  \\\n",
       "id                                                                         \n",
       "GTEX-1117F-0226-SM-5GZZ7  Adipose - Subcutaneous  Adipose - Subcutaneous   \n",
       "GTEX-1117F-0426-SM-5EGHI       Muscle - Skeletal       Muscle - Skeletal   \n",
       "GTEX-1117F-0526-SM-5EGHJ         Artery - Tibial         Artery - Tibial   \n",
       "\n",
       "                            primary_site    sample_type  gender study  \\\n",
       "id                                                                      \n",
       "GTEX-1117F-0226-SM-5GZZ7  Adipose Tissue  Normal Tissue  Female  GTEX   \n",
       "GTEX-1117F-0426-SM-5EGHI          Muscle  Normal Tissue  Female  GTEX   \n",
       "GTEX-1117F-0526-SM-5EGHJ    Blood Vessel  Normal Tissue  Female  GTEX   \n",
       "\n",
       "                         tumor_normal  \n",
       "id                                     \n",
       "GTEX-1117F-0226-SM-5GZZ7       Normal  \n",
       "GTEX-1117F-0426-SM-5EGHI       Normal  \n",
       "GTEX-1117F-0526-SM-5EGHJ       Normal  "
      ]
     },
     "execution_count": 5,
     "metadata": {},
     "output_type": "execute_result"
    }
   ],
   "source": [
    "Y.head(3)"
   ]
  },
  {
   "cell_type": "code",
   "execution_count": 6,
   "metadata": {},
   "outputs": [
    {
     "name": "stdout",
     "output_type": "stream",
     "text": [
      "Y.shape:(19126, 7)\n"
     ]
    }
   ],
   "source": [
    "print(\"Y.shape:{}\".format(Y.shape))"
   ]
  },
  {
   "cell_type": "code",
   "execution_count": 7,
   "metadata": {},
   "outputs": [
    {
     "data": {
      "text/html": [
       "<div>\n",
       "<style scoped>\n",
       "    .dataframe tbody tr th:only-of-type {\n",
       "        vertical-align: middle;\n",
       "    }\n",
       "\n",
       "    .dataframe tbody tr th {\n",
       "        vertical-align: top;\n",
       "    }\n",
       "\n",
       "    .dataframe thead th {\n",
       "        text-align: right;\n",
       "    }\n",
       "</style>\n",
       "<table border=\"1\" class=\"dataframe\">\n",
       "  <thead>\n",
       "    <tr style=\"text-align: right;\">\n",
       "      <th></th>\n",
       "      <th>category</th>\n",
       "      <th>disease</th>\n",
       "      <th>primary_site</th>\n",
       "      <th>sample_type</th>\n",
       "      <th>gender</th>\n",
       "      <th>study</th>\n",
       "      <th>tumor_normal</th>\n",
       "    </tr>\n",
       "  </thead>\n",
       "  <tbody>\n",
       "    <tr>\n",
       "      <th>count</th>\n",
       "      <td>19126</td>\n",
       "      <td>19126</td>\n",
       "      <td>19126</td>\n",
       "      <td>19126</td>\n",
       "      <td>19126</td>\n",
       "      <td>19126</td>\n",
       "      <td>19126</td>\n",
       "    </tr>\n",
       "    <tr>\n",
       "      <th>unique</th>\n",
       "      <td>93</td>\n",
       "      <td>93</td>\n",
       "      <td>46</td>\n",
       "      <td>16</td>\n",
       "      <td>3</td>\n",
       "      <td>3</td>\n",
       "      <td>2</td>\n",
       "    </tr>\n",
       "    <tr>\n",
       "      <th>top</th>\n",
       "      <td>Breast Invasive Carcinoma</td>\n",
       "      <td>Breast Invasive Carcinoma</td>\n",
       "      <td>Brain</td>\n",
       "      <td>Primary Tumor</td>\n",
       "      <td>Male</td>\n",
       "      <td>TCGA</td>\n",
       "      <td>Tumor</td>\n",
       "    </tr>\n",
       "    <tr>\n",
       "      <th>freq</th>\n",
       "      <td>1212</td>\n",
       "      <td>1212</td>\n",
       "      <td>1846</td>\n",
       "      <td>9185</td>\n",
       "      <td>10453</td>\n",
       "      <td>10534</td>\n",
       "      <td>10530</td>\n",
       "    </tr>\n",
       "  </tbody>\n",
       "</table>\n",
       "</div>"
      ],
      "text/plain": [
       "                         category                    disease primary_site  \\\n",
       "count                       19126                      19126        19126   \n",
       "unique                         93                         93           46   \n",
       "top     Breast Invasive Carcinoma  Breast Invasive Carcinoma        Brain   \n",
       "freq                         1212                       1212         1846   \n",
       "\n",
       "          sample_type gender  study tumor_normal  \n",
       "count           19126  19126  19126        19126  \n",
       "unique             16      3      3            2  \n",
       "top     Primary Tumor   Male   TCGA        Tumor  \n",
       "freq             9185  10453  10534        10530  "
      ]
     },
     "execution_count": 7,
     "metadata": {},
     "output_type": "execute_result"
    }
   ],
   "source": [
    "Y.describe()"
   ]
  },
  {
   "cell_type": "code",
   "execution_count": 8,
   "metadata": {},
   "outputs": [
    {
     "data": {
      "image/png": "[encoded data removed]",
      "text/plain": [
       "<Figure size 360x1296 with 1 Axes>"
      ]
     },
     "metadata": {
      "needs_background": "light"
     },
     "output_type": "display_data"
    }
   ],
   "source": [
    "def plotCategoryCounts(df, colNameStr, ):\n",
    "    '''\n",
    "    TODO: make this more generic\n",
    "    argument \n",
    "        df: a pandas data frame \n",
    "        colNameStr: \n",
    "    '''\n",
    "    # countDF is series\n",
    "    countDF = Y[colNameStr].value_counts()\n",
    "    fig, ax = plt.subplots()\n",
    "    fig.set_size_inches(5,18)\n",
    "    ax.barh(countDF.index, countDF)    \n",
    "\n",
    "plotCategoryCounts(Y, \"category\")"
   ]
  },
  {
   "cell_type": "code",
   "execution_count": 9,
   "metadata": {},
   "outputs": [
    {
     "data": {
      "text/html": [
       "<div>\n",
       "<style scoped>\n",
       "    .dataframe tbody tr th:only-of-type {\n",
       "        vertical-align: middle;\n",
       "    }\n",
       "\n",
       "    .dataframe tbody tr th {\n",
       "        vertical-align: top;\n",
       "    }\n",
       "\n",
       "    .dataframe thead th {\n",
       "        text-align: right;\n",
       "    }\n",
       "</style>\n",
       "<table border=\"1\" class=\"dataframe\">\n",
       "  <thead>\n",
       "    <tr style=\"text-align: right;\">\n",
       "      <th></th>\n",
       "      <th>tumor_normal</th>\n",
       "      <th>tumor_normal_value</th>\n",
       "    </tr>\n",
       "    <tr>\n",
       "      <th>id</th>\n",
       "      <th></th>\n",
       "      <th></th>\n",
       "    </tr>\n",
       "  </thead>\n",
       "  <tbody>\n",
       "    <tr>\n",
       "      <th>GTEX-1117F-0226-SM-5GZZ7</th>\n",
       "      <td>Normal</td>\n",
       "      <td>0</td>\n",
       "    </tr>\n",
       "    <tr>\n",
       "      <th>GTEX-1117F-0426-SM-5EGHI</th>\n",
       "      <td>Normal</td>\n",
       "      <td>0</td>\n",
       "    </tr>\n",
       "    <tr>\n",
       "      <th>GTEX-1117F-0526-SM-5EGHJ</th>\n",
       "      <td>Normal</td>\n",
       "      <td>0</td>\n",
       "    </tr>\n",
       "  </tbody>\n",
       "</table>\n",
       "</div>"
      ],
      "text/plain": [
       "                         tumor_normal  tumor_normal_value\n",
       "id                                                       \n",
       "GTEX-1117F-0226-SM-5GZZ7       Normal                   0\n",
       "GTEX-1117F-0426-SM-5EGHI       Normal                   0\n",
       "GTEX-1117F-0526-SM-5EGHJ       Normal                   0"
      ]
     },
     "execution_count": 9,
     "metadata": {},
     "output_type": "execute_result"
    }
   ],
   "source": [
    "# TODO: replace with loadData.loadTumorNormal()\n",
    "\n",
    "# Convert tumor_normal  into numerical values \n",
    "from sklearn.preprocessing import LabelEncoder\n",
    "\n",
    "encoder = LabelEncoder()\n",
    "Y[\"tumor_normal_value\"] = pd.Series(encoder.fit_transform(Y[\"tumor_normal\"]), index=Y.index)\n",
    "Y[[\"tumor_normal\",\"tumor_normal_value\"]].head(3)"
   ]
  },
  {
   "cell_type": "code",
   "execution_count": 10,
   "metadata": {},
   "outputs": [
    {
     "name": "stdout",
     "output_type": "stream",
     "text": [
      "(15300, 58581) (3826, 58581)\n",
      "CPU times: user 4.69 s, sys: 16.1 s, total: 20.7 s\n",
      "Wall time: 27.1 s\n"
     ]
    }
   ],
   "source": [
    "%%time\n",
    "# Split into stratified training and test sets based on classes (i.e. tissue type) so that we have equal\n",
    "# proportions of each tissue type in the train and test sets\n",
    "from sklearn.model_selection import StratifiedShuffleSplit\n",
    "split = StratifiedShuffleSplit(n_splits=1, test_size=0.2, random_state=theMeaningOfLife)\n",
    "for train_index, test_index in split.split(X.values, Y[\"tumor_normal_value\"]):\n",
    "    X_train, X_test = X.values[train_index], X.values[test_index]\n",
    "    y_train, y_test = Y[\"tumor_normal_value\"][train_index], \\\n",
    "                        Y[\"tumor_normal_value\"][test_index]\n",
    "\n",
    "print(X_train.shape, X_test.shape)"
   ]
  },
  {
   "cell_type": "code",
   "execution_count": 11,
   "metadata": {},
   "outputs": [
    {
     "data": {
      "text/plain": [
       "<matplotlib.axes._subplots.AxesSubplot at 0x354a45978>"
      ]
     },
     "execution_count": 11,
     "metadata": {},
     "output_type": "execute_result"
    },
    {
     "data": {
      "image/png": "[encoded data removed]",
      "text/plain": [
       "<Figure size 432x288 with 1 Axes>"
      ]
     },
     "metadata": {
      "needs_background": "light"
     },
     "output_type": "display_data"
    }
   ],
   "source": [
    "# checking if class balance is maintained\n",
    "labels={'train': (y_train), 'test':(y_test)}\n",
    "label_df=pd.DataFrame(labels)\n",
    "label_df.plot.hist(stacked=True)"
   ]
  },
  {
   "cell_type": "code",
   "execution_count": 12,
   "metadata": {},
   "outputs": [
    {
     "name": "stdout",
     "output_type": "stream",
     "text": [
      "id\n",
      "GTEX-ZQG8-2426-SM-57WEE     0\n",
      "GTEX-131YS-0005-SM-5NQAS    0\n",
      "GTEX-13SLX-0526-SM-5S2ON    0\n",
      "Name: tumor_normal_value, dtype: int64\n",
      "[0 0 0]\n",
      "(15300,)\n"
     ]
    },
    {
     "data": {
      "text/plain": [
       "count    15300.000000\n",
       "mean         0.550588\n",
       "std          0.497451\n",
       "min          0.000000\n",
       "25%          0.000000\n",
       "50%          1.000000\n",
       "75%          1.000000\n",
       "max          1.000000\n",
       "Name: tumor_normal_value, dtype: float64"
      ]
     },
     "execution_count": 12,
     "metadata": {},
     "output_type": "execute_result"
    }
   ],
   "source": [
    "print(y_train.head(3))\n",
    "print(y_train.values[0:3])\n",
    "print(y_train.shape)\n",
    "y_train.describe()"
   ]
  },
  {
   "cell_type": "code",
   "execution_count": 13,
   "metadata": {},
   "outputs": [],
   "source": [
    "# this is a neural network with a single activation node\n",
    "def logisticRegression(input_dim=None, output_dim=None, lr=0.001, l1=0, l2=0, \n",
    "                       loss='binary_crossentropy', k_i='random_uniform'):\n",
    "    '''\n",
    "    implement a neural network with a single activation node\n",
    "    '''\n",
    "    \n",
    "#     inp=Input(shape=(input_dim,))\n",
    "#     bn = BatchNormalization(),\n",
    "#     x=Dense(output_dim, kernel_initializer=k_i, activation='sigmoid', \n",
    "#             kernel_regularizer=L1L2(l1=l1, l2=l1))(bn)\n",
    "#     model=Model(inp, x)\n",
    "    \n",
    "#     model = Sequential(Input(shape=(input_dim,)))\n",
    "#     #model.add(Input(shape=(input_dim,)))\n",
    "#     model.add(Dense(output_dim, kernel_initializer=k_i, activation='sigmoid', kernel_regularizer=L1L2(l1=l1, l2=l1)))\n",
    "    \n",
    "    \n",
    "    classify = [\n",
    "        InputLayer(input_shape=(input_dim,)),\n",
    "        BatchNormalization(),\n",
    "        Dense(output_dim), # dot(input, kernel) + bias\n",
    "        Activation('sigmoid')\n",
    "    ]\n",
    "\n",
    "    model = Sequential(classify)   \n",
    "    \n",
    "    # FIXME: aedwip binary_crossentropy is the default value do not hard code\n",
    "    model.compile(loss='binary_crossentropy', optimizer=Adam(lr=lr), metrics=['accuracy']) \n",
    "    \n",
    "    return model    "
   ]
  },
  {
   "cell_type": "code",
   "execution_count": 14,
   "metadata": {},
   "outputs": [
    {
     "name": "stdout",
     "output_type": "stream",
     "text": [
      "_________________________________________________________________\n",
      "Layer (type)                 Output Shape              Param #   \n",
      "=================================================================\n",
      "input_1 (InputLayer)         (None, 58581)             0         \n",
      "_________________________________________________________________\n",
      "batch_normalization_1 (Batch (None, 58581)             234324    \n",
      "_________________________________________________________________\n",
      "dense_1 (Dense)              (None, 1)                 58582     \n",
      "_________________________________________________________________\n",
      "activation_1 (Activation)    (None, 1)                 0         \n",
      "=================================================================\n",
      "Total params: 292,906\n",
      "Trainable params: 175,744\n",
      "Non-trainable params: 117,162\n",
      "_________________________________________________________________\n",
      "_________________________________________________________________\n",
      "Layer (type)                 Output Shape              Param #   \n",
      "=================================================================\n",
      "input_1 (InputLayer)         (None, 58581)             0         \n",
      "_________________________________________________________________\n",
      "batch_normalization_1 (Batch (None, 58581)             234324    \n",
      "_________________________________________________________________\n",
      "dense_1 (Dense)              (None, 1)                 58582     \n",
      "_________________________________________________________________\n",
      "activation_1 (Activation)    (None, 1)                 0         \n",
      "=================================================================\n",
      "Total params: 292,906\n",
      "Trainable params: 175,744\n",
      "Non-trainable params: 117,162\n",
      "_________________________________________________________________\n",
      "CPU times: user 11min 33s, sys: 6min 55s, total: 18min 29s\n",
      "Wall time: 5min 26s\n"
     ]
    }
   ],
   "source": [
    "%%time\n",
    "modelName=\"logisticRegressionTumorNormal\"\n",
    "logisticRegressionModel = logisticRegression(\n",
    "                                input_dim=X_train.shape[1],\n",
    "                                output_dim=1,\n",
    "                                l1=0,\n",
    "                                l2=1\n",
    "                                )\n",
    "logisticRegressionModel.summary()\n",
    "\n",
    "# https://keras.io/callbacks/\n",
    "checkPointPath=\"./models/{}.chkPt\".format(modelName)\n",
    "callbacks = [\n",
    "    # monitor valuse either 'acc' for accuracy or 'loss'\n",
    "    # 'val_loss' is loss on hold if valaidation_split is set\n",
    "    # 'loss' is loss on training\n",
    "    # same for 'acc' and 'val_acc'\n",
    "    EarlyStopping(monitor='loss', patience=2, verbose=0) \n",
    "    ,ModelCheckpoint(checkPointPath, monitor='loss', save_best_only=False, verbose=0)\n",
    "    # FIXME: progbar generates run time error\n",
    "    #,ProgbarLogger(count_mode='samples', stateful_metrics=None)\n",
    "]\n",
    "\n",
    "history = logisticRegressionModel.fit(X_train, y_train.values,        \n",
    "                                        shuffle=None, # we already shuffled\n",
    "                                        epochs= 20, #100\n",
    "                                        batch_size=1024, \n",
    "                                        # we already split the data         \n",
    "                                        validation_split=0.0, \n",
    "                                        verbose=0,\n",
    "                                        callbacks=callbacks\n",
    "                                     )\n",
    "logisticRegressionModel.summary()"
   ]
  },
  {
   "cell_type": "code",
   "execution_count": 15,
   "metadata": {},
   "outputs": [
    {
     "name": "stdout",
     "output_type": "stream",
     "text": [
      "train\n",
      "Loss    : 0.0064\n",
      "Accuracy: 0.9995\n",
      "\n",
      "test\n",
      "Loss    : 0.0229\n",
      "Accuracy: 0.9945\n"
     ]
    }
   ],
   "source": [
    "# evaluate() computes the loss based on the input you pass\n",
    "# predict() generates output predictions based on the input you pass it\n",
    "evalTrain = logisticRegressionModel.evaluate(X_train, y_train, verbose=0)\n",
    "evalTest  = logisticRegressionModel.evaluate(X_test, y_test, verbose=0)\n",
    "print(\"train\")\n",
    "print(\"Loss    : {:.4f}\".format(evalTrain[0]))\n",
    "print(\"Accuracy: {:.4f}\".format(evalTrain[1]))\n",
    "print(\"\\ntest\")\n",
    "print(\"Loss    : {:.4f}\".format(evalTest[0]))\n",
    "print(\"Accuracy: {:.4f}\".format(evalTest[1]))"
   ]
  },
  {
   "cell_type": "code",
   "execution_count": 16,
   "metadata": {},
   "outputs": [
    {
     "name": "stdout",
     "output_type": "stream",
     "text": [
      "\n",
      "[[1707   13]\n",
      " [   8 2098]]\n",
      "False positive rate: (predicting tumor while normal) 0.007558139534883721\n",
      "False negative rate: (predicting normal while tumor) 0.003798670465337132\n"
     ]
    }
   ],
   "source": [
    "from sklearn.metrics import confusion_matrix\n",
    "\n",
    "yTestPredict = logisticRegressionModel.predict(X_test)\n",
    "#print(yTestPredict[0:3])\n",
    "yTestPredict = [1 if p > 0.5 else 0 for p in yTestPredict]\n",
    "#print(yTestPredict[0:3])\n",
    "\n",
    "print()\n",
    "print(confusion_matrix(y_test, yTestPredict))\n",
    "tn, fp, fn, tp = confusion_matrix(y_test, yTestPredict).ravel()\n",
    "fpr = fp * 1.0 / (fp+tn)\n",
    "fnr = fn *1.0 / (tp+fn)\n",
    "print(\"False positive rate: (predicting tumor while normal)\", fpr)\n",
    "print(\"False negative rate: (predicting normal while tumor)\", fnr)"
   ]
  },
  {
   "cell_type": "code",
   "execution_count": 17,
   "metadata": {},
   "outputs": [
    {
     "name": "stdout",
     "output_type": "stream",
     "text": [
      "dict_keys(['loss', 'acc'])\n",
      "len(history.history['loss']):20\n",
      "history.history['loss'][0:3]:[0.23881913949461545, 0.05634721289662754, 0.031815235064018]\n",
      "history.history['loss'][-2]:0.005420051538963723\n",
      "history.history['acc'][0:3]:[0.9202614389058033, 0.9882352950993706, 0.9936601297995623]\n",
      "history.history['acc'][-2]:0.9996732016794042\n"
     ]
    }
   ],
   "source": [
    "# https://machinelearningmastery.com/display-deep-learning-model-training-history-in-keras/\n",
    "print(history.history.keys())\n",
    "print(\"len(history.history['loss']):{}\".format(len(history.history['loss'])))\n",
    "print(\"history.history['loss'][0:3]:{}\".format(history.history['loss'][0:3]))\n",
    "print(\"history.history['loss'][-2]:{}\".format(history.history['loss'][-2]))\n",
    "print(\"history.history['acc'][0:3]:{}\".format(history.history['acc'][0:3]))\n",
    "print(\"history.history['acc'][-2]:{}\".format(history.history['acc'][-2]))"
   ]
  },
  {
   "cell_type": "code",
   "execution_count": 18,
   "metadata": {},
   "outputs": [
    {
     "data": {
      "image/png": "[encoded data removed]",
      "text/plain": [
       "<Figure size 432x288 with 1 Axes>"
      ]
     },
     "metadata": {
      "needs_background": "light"
     },
     "output_type": "display_data"
    },
    {
     "data": {
      "image/png": "[encoded data removed]",
      "text/plain": [
       "<Figure size 432x288 with 1 Axes>"
      ]
     },
     "metadata": {
      "needs_background": "light"
     },
     "output_type": "display_data"
    }
   ],
   "source": [
    "# summarize history for accuracy\n",
    "plt.plot(history.history['acc'])\n",
    "# plt.plot(history.history['val_acc'])\n",
    "plt.title('model accuracy')\n",
    "plt.ylabel('accuracy')\n",
    "plt.xlabel('epoch')\n",
    "plt.legend(['train', 'test'], loc='upper left')\n",
    "plt.show()\n",
    "# # summarize history for loss\n",
    "plt.plot(history.history['loss'])\n",
    "# plt.plot(history.history['val_loss'])\n",
    "plt.title('model loss')\n",
    "plt.ylabel('loss')\n",
    "plt.xlabel('epoch')\n",
    "plt.legend(['train', 'test'], loc='upper left')\n",
    "plt.show()"
   ]
  },
  {
   "cell_type": "code",
   "execution_count": null,
   "metadata": {},
   "outputs": [],
   "source": []
  },
  {
   "cell_type": "code",
   "execution_count": 20,
   "metadata": {},
   "outputs": [
    {
     "name": "stdout",
     "output_type": "stream",
     "text": [
      "Saved model to disk\n"
     ]
    }
   ],
   "source": [
    "\n",
    "# TODO: replace with loadData.saveKerasModel()\n",
    "import os \n",
    "# save model\n",
    "# https://machinelearningmastery.com/save-load-keras-deep-learning-models/\n",
    "# serialize model to JSON\n",
    "model_json = logisticRegressionModel.to_json()\n",
    "modelJsonPath = \"./models/{}.json\".format(modelName)\n",
    "modelWeightsPath = \"./models/{}Weights.h5\".format(modelName)\n",
    "fullModelPath = \"./models/full{}.h5\".format(modelName)\n",
    "\n",
    "if not os.path.isfile(modelJsonPath) and not os.path.isfile(modelWeightsPath):\n",
    "    with open(modelJsonPath, \"w\") as json_file:\n",
    "        json_file.write(model_json)\n",
    "    # serialize weights to HDF5\n",
    "    logisticRegressionModel.save_weights(modelWeightsPath)\n",
    "    logisticRegressionModel.save(fullModelPath)\n",
    "    print(\"Saved model to disk\")\n",
    "else:\n",
    "    print(\"ERROR: model was not save. files already exist {} {}\".format(modelPath, modelWeightsPath))"
   ]
  },
  {
   "cell_type": "code",
   "execution_count": 21,
   "metadata": {},
   "outputs": [
    {
     "name": "stdout",
     "output_type": "stream",
     "text": [
      "/Users/andrewdavidson/workSpace/UCSC/BME-230a/project\n",
      "ls: ./models/logisticRegressionTumorNormal.h5: No such file or directory\n"
     ]
    }
   ],
   "source": [
    "!pwd\n",
    "!ls -l ./models/logisticRegressionTumorNormal.h5"
   ]
  },
  {
   "cell_type": "code",
   "execution_count": 23,
   "metadata": {},
   "outputs": [
    {
     "name": "stdout",
     "output_type": "stream",
     "text": [
      "fullModelPath:./models/fulllogisticRegressionTumorNormal.h5\n",
      "_________________________________________________________________\n",
      "Layer (type)                 Output Shape              Param #   \n",
      "=================================================================\n",
      "input_1 (InputLayer)         (None, 58581)             0         \n",
      "_________________________________________________________________\n",
      "batch_normalization_1 (Batch (None, 58581)             234324    \n",
      "_________________________________________________________________\n",
      "dense_1 (Dense)              (None, 1)                 58582     \n",
      "_________________________________________________________________\n",
      "activation_1 (Activation)    (None, 1)                 0         \n",
      "=================================================================\n",
      "Total params: 292,906\n",
      "Trainable params: 175,744\n",
      "Non-trainable params: 117,162\n",
      "_________________________________________________________________\n"
     ]
    },
    {
     "data": {
      "text/plain": [
       "[array([0.9946423 , 0.9977684 , 0.9954767 , ..., 0.99993336, 1.0045584 ,\n",
       "        0.99163216], dtype=float32),\n",
       " array([-0.00146474, -0.00295681, -0.00108557, ..., -0.00344077,\n",
       "         0.00219835,  0.00163795], dtype=float32),\n",
       " array([-9.284937  , -9.962931  , -7.6435165 , ..., -9.965819  ,\n",
       "         0.67644477, -9.251438  ], dtype=float32),\n",
       " array([8.8754673e+00, 3.3267841e-02, 1.5398605e+01, ..., 3.2865033e-10,\n",
       "        1.9709370e+01, 4.1958418e+00], dtype=float32),\n",
       " array([[ 7.8039075e-04],\n",
       "        [-3.7334468e-03],\n",
       "        [ 4.5109834e-03],\n",
       "        ...,\n",
       "        [-3.2687832e-03],\n",
       "        [-1.3212296e-02],\n",
       "        [-5.7210527e-05]], dtype=float32),\n",
       " array([-0.00164027], dtype=float32)]"
      ]
     },
     "execution_count": 23,
     "metadata": {},
     "output_type": "execute_result"
    }
   ],
   "source": [
    "from keras.models import load_model\n",
    "# modelName=\"logisticRegressionTumorNormal\"\n",
    "print(\"fullModelPath:{}\".format(fullModelPath))\n",
    "newFullModel = load_model(fullModelPath)\n",
    "newFullModel.summary()\n",
    "newFullModel.get_weights()"
   ]
  },
  {
   "cell_type": "code",
   "execution_count": 24,
   "metadata": {},
   "outputs": [
    {
     "name": "stdout",
     "output_type": "stream",
     "text": [
      "{\"class_name\": \"Sequential\", \"config\": [{\"class_name\": \"InputLayer\", \"config\": {\"batch_input_shape\": [null, 58581], \"dtype\": \"float32\", \"sparse\": false, \"name\": \"input_1\"}}, {\"class_name\": \"BatchNormalization\", \"config\": {\"name\": \"batch_normalization_1\", \"trainable\": true, \"axis\": -1, \"momentum\": 0.99, \"epsilon\": 0.001, \"center\": true, \"scale\": true, \"beta_initializer\": {\"class_name\": \"Zeros\", \"config\": {}}, \"gamma_initializer\": {\"class_name\": \"Ones\", \"config\": {}}, \"moving_mean_initializer\": {\"class_name\": \"Zeros\", \"config\": {}}, \"moving_variance_initializer\": {\"class_name\": \"Ones\", \"config\": {}}, \"beta_regularizer\": null, \"gamma_regularizer\": null, \"beta_constraint\": null, \"gamma_constraint\": null}}, {\"class_name\": \"Dense\", \"config\": {\"name\": \"dense_1\", \"trainable\": true, \"units\": 1, \"activation\": \"linear\", \"use_bias\": true, \"kernel_initializer\": {\"class_name\": \"VarianceScaling\", \"config\": {\"scale\": 1.0, \"mode\": \"fan_avg\", \"distribution\": \"uniform\", \"seed\": null}}, \"bias_initializer\": {\"class_name\": \"Zeros\", \"config\": {}}, \"kernel_regularizer\": null, \"bias_regularizer\": null, \"activity_regularizer\": null, \"kernel_constraint\": null, \"bias_constraint\": null}}, {\"class_name\": \"Activation\", \"config\": {\"name\": \"activation_1\", \"trainable\": true, \"activation\": \"sigmoid\"}}], \"keras_version\": \"2.1.6\", \"backend\": \"tensorflow\"}\n",
      "_________________________________________________________________\n",
      "Layer (type)                 Output Shape              Param #   \n",
      "=================================================================\n",
      "input_1 (InputLayer)         (None, 58581)             0         \n",
      "_________________________________________________________________\n",
      "batch_normalization_1 (Batch (None, 58581)             234324    \n",
      "_________________________________________________________________\n",
      "dense_1 (Dense)              (None, 1)                 58582     \n",
      "_________________________________________________________________\n",
      "activation_1 (Activation)    (None, 1)                 0         \n",
      "=================================================================\n",
      "Total params: 292,906\n",
      "Trainable params: 175,744\n",
      "Non-trainable params: 117,162\n",
      "_________________________________________________________________\n"
     ]
    },
    {
     "data": {
      "text/plain": [
       "[array([1., 1., 1., ..., 1., 1., 1.], dtype=float32),\n",
       " array([0., 0., 0., ..., 0., 0., 0.], dtype=float32),\n",
       " array([0., 0., 0., ..., 0., 0., 0.], dtype=float32),\n",
       " array([1., 1., 1., ..., 1., 1., 1.], dtype=float32),\n",
       " array([[ 7.1176151e-03],\n",
       "        [ 5.7312408e-03],\n",
       "        [ 5.1533487e-03],\n",
       "        ...,\n",
       "        [ 6.0380055e-03],\n",
       "        [-8.7444670e-05],\n",
       "        [ 1.3133753e-03]], dtype=float32),\n",
       " array([0.], dtype=float32)]"
      ]
     },
     "execution_count": 24,
     "metadata": {},
     "output_type": "execute_result"
    }
   ],
   "source": [
    "# model reconstruction from JSON:\n",
    "from keras.models import model_from_json\n",
    "\n",
    "json_file = open(modelJsonPath, 'r')\n",
    "loaded_model_json = json_file.read()\n",
    "print(loaded_model_json)\n",
    "json_file.close()\n",
    "newModelFromJson = model_from_json(loaded_model_json)\n",
    "#newModelFromJson.build()\n",
    "newModelFromJson.summary()\n",
    "newModelFromJson.get_weights()\n",
    "# load weights into new model\n",
    "# newModelFromJson.load_weights(modelWeightsPath)\n",
    "# newModelFromJson.summary()\n"
   ]
  },
  {
   "cell_type": "code",
   "execution_count": null,
   "metadata": {},
   "outputs": [],
   "source": []
  }
 ],
 "metadata": {
  "kernelspec": {
   "display_name": "Python 3",
   "language": "python",
   "name": "python3"
  },
  "language_info": {
   "codemirror_mode": {
    "name": "ipython",
    "version": 3
   },
   "file_extension": ".py",
   "mimetype": "text/x-python",
   "name": "python",
   "nbconvert_exporter": "python",
   "pygments_lexer": "ipython3",
   "version": "3.6.1"
  }
 },
 "nbformat": 4,
 "nbformat_minor": 2
}
