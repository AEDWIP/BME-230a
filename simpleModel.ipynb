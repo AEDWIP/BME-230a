{
 "cells": [
  {
   "cell_type": "markdown",
   "metadata": {},
   "source": [
    "# Simple Model\n",
    "- BME 230A class project winter 2019\n",
    "- Andrew E. Davidson\n",
    "- [aedavids@ucsc.edu](mailto:aedavids@edu?subject=SimpleModel.ipynb)\n",
    "\n",
    "Use logistic regression to classify tumor vs. normal from Gene Expression\n",
    "\n",
    "## Overview\n",
    "* preforms  basic data exploration\n",
    "* train a tumor vs. normal classifier using logistic regression\n",
    "* model is save to disk $rootDir/models/logisticRegressionTumorNormal.h5\n",
    "* training set comprised of gene expression values from Xena data set. The data was randomly split into 80/20 train/test sets\n",
    "* model summary\n",
    "    ```\n",
    "    total data set size 19,126 example each with 58,581 features\n",
    "\n",
    "    training set accuracy = 0.9994\n",
    "    test set accuracy = 0.9929\n",
    "\n",
    "    confusion matrix\n",
    "    [[1701   19]\n",
    "     [   8 2098]]\n",
    "    False positive rate: (predicting tumor while normal) 0.011\n",
    "    False negative rate: (predicting normal while tumor) 0.004\n",
    "    ```\n",
    "    \n",
    "see [simpleModelEvaluation.ipynb](simpleModelEvaluation.ipynb)\n",
    "\n",
    "ref: [https://github.com/AEDWIP/BME-230a.git](https://github.com/AEDWIP/BME-230a.git)"
   ]
  },
  {
   "cell_type": "code",
   "execution_count": 1,
   "metadata": {},
   "outputs": [
    {
     "name": "stderr",
     "output_type": "stream",
     "text": [
      "Using TensorFlow backend.\n"
     ]
    },
    {
     "name": "stdout",
     "output_type": "stream",
     "text": [
      "keras version should be Keras==2.1.6, new version can not save and restore models\n",
      "keras version:2.1.6\n"
     ]
    }
   ],
   "source": [
    "import os\n",
    "import numpy as np\n",
    "import pandas as pd\n",
    "import tensorflow as tf\n",
    "\n",
    "from keras.callbacks import EarlyStopping, ModelCheckpoint, ProgbarLogger\n",
    "from keras.models import Model, Sequential\n",
    "from keras.layers import Dense, Input, BatchNormalization, InputLayer, Activation\n",
    "from keras.regularizers import L1L2\n",
    "from keras.optimizers import Adam, SGD, Adadelta, Adagrad\n",
    "\n",
    "import keras\n",
    "print(\n",
    "    \"keras version should be Keras==2.1.6, new version can not save and restore models\"\n",
    ")\n",
    "print(\"keras version:{}\".format(keras.__version__))\n",
    "\n",
    "import matplotlib.pyplot as plt\n",
    "\n",
    "# fix random seed for reproducibility\n",
    "theMeaningOfLife = 42\n",
    "np.random.seed(theMeaningOfLife)"
   ]
  },
  {
   "cell_type": "markdown",
   "metadata": {},
   "source": [
    "# Load Data\n"
   ]
  },
  {
   "cell_type": "code",
   "execution_count": 2,
   "metadata": {},
   "outputs": [
    {
     "name": "stdout",
     "output_type": "stream",
     "text": [
      "-rw-r--r-- 1 ubuntu ubuntu 8968513832 Mar 11 02:22 /bme-230a-ebs/data/tcga_target_gtex.h5\r\n"
     ]
    }
   ],
   "source": [
    "!ls -l /bme-230a-ebs/data/tcga_target_gtex.h5"
   ]
  },
  {
   "cell_type": "code",
   "execution_count": 3,
   "metadata": {},
   "outputs": [
    {
     "name": "stdout",
     "output_type": "stream",
     "text": [
      "store.info():<class 'pandas.io.pytables.HDFStore'>\n",
      "File path: /bme-230a-ebs/data/tcga_target_gtex.h5\n",
      "/expression            frame        (shape->[19126,58581])\n",
      "/labels                frame        (shape->[1,7])        \n",
      "store.keys():['/expression', '/labels']\n",
      "CPU times: user 32 ms, sys: 12 ms, total: 44 ms\n",
      "Wall time: 150 ms\n"
     ]
    }
   ],
   "source": [
    "%%time\n",
    "\n",
    "# mounted AWS EBS  BME-230a-project  volume id: vol-026c8e33988a1475b\n",
    "rootDir = \"/bme-230a-ebs\"\n",
    "dataFile = \"{}/data/tcga_target_gtex.h5\".format(rootDir)\n",
    "store = pd.HDFStore(dataFile, mode=\"r\")\n",
    "print(\"store.info():{}\".format(store.info()))\n",
    "print(\"store.keys():{}\".format(store.keys()))"
   ]
  },
  {
   "cell_type": "code",
   "execution_count": 4,
   "metadata": {},
   "outputs": [
    {
     "name": "stdout",
     "output_type": "stream",
     "text": [
      "CPU times: user 172 ms, sys: 4.13 s, total: 4.3 s\n",
      "Wall time: 1min 5s\n"
     ]
    }
   ],
   "source": [
    "%%time\n",
    "# Load training set\n",
    "X = pd.read_hdf(dataFile, \"expression\")\n",
    "Y = pd.read_hdf(dataFile, \"labels\")"
   ]
  },
  {
   "cell_type": "code",
   "execution_count": 5,
   "metadata": {
    "scrolled": true
   },
   "outputs": [
    {
     "data": {
      "text/html": [
       "<div>\n",
       "<style scoped>\n",
       "    .dataframe tbody tr th:only-of-type {\n",
       "        vertical-align: middle;\n",
       "    }\n",
       "\n",
       "    .dataframe tbody tr th {\n",
       "        vertical-align: top;\n",
       "    }\n",
       "\n",
       "    .dataframe thead th {\n",
       "        text-align: right;\n",
       "    }\n",
       "</style>\n",
       "<table border=\"1\" class=\"dataframe\">\n",
       "  <thead>\n",
       "    <tr style=\"text-align: right;\">\n",
       "      <th></th>\n",
       "      <th>5S_rRNA</th>\n",
       "      <th>5_8S_rRNA</th>\n",
       "      <th>7SK</th>\n",
       "      <th>A1BG</th>\n",
       "      <th>A1BG-AS1</th>\n",
       "      <th>A1CF</th>\n",
       "      <th>A2M</th>\n",
       "      <th>A2M-AS1</th>\n",
       "      <th>A2ML1</th>\n",
       "      <th>A2ML1-AS1</th>\n",
       "      <th>...</th>\n",
       "      <th>snoU2-30</th>\n",
       "      <th>snoU2_19</th>\n",
       "      <th>snoU83B</th>\n",
       "      <th>snoZ196</th>\n",
       "      <th>snoZ278</th>\n",
       "      <th>snoZ40</th>\n",
       "      <th>snoZ6</th>\n",
       "      <th>snosnR66</th>\n",
       "      <th>uc_338</th>\n",
       "      <th>yR211F11.2</th>\n",
       "    </tr>\n",
       "  </thead>\n",
       "  <tbody>\n",
       "    <tr>\n",
       "      <th>GTEX-1117F-0226-SM-5GZZ7</th>\n",
       "      <td>-9.966041</td>\n",
       "      <td>-9.965816</td>\n",
       "      <td>-9.965881</td>\n",
       "      <td>4.4595</td>\n",
       "      <td>0.9343</td>\n",
       "      <td>-5.0116</td>\n",
       "      <td>7.5126</td>\n",
       "      <td>0.8164</td>\n",
       "      <td>-2.1140</td>\n",
       "      <td>-9.9658</td>\n",
       "      <td>...</td>\n",
       "      <td>-9.965816</td>\n",
       "      <td>-9.965849</td>\n",
       "      <td>-9.9658</td>\n",
       "      <td>-9.9658</td>\n",
       "      <td>-9.9658</td>\n",
       "      <td>-9.9658</td>\n",
       "      <td>-9.965849</td>\n",
       "      <td>-9.9658</td>\n",
       "      <td>5.326995</td>\n",
       "      <td>-9.9658</td>\n",
       "    </tr>\n",
       "    <tr>\n",
       "      <th>GTEX-1117F-0426-SM-5EGHI</th>\n",
       "      <td>-9.966041</td>\n",
       "      <td>-9.965816</td>\n",
       "      <td>-9.965881</td>\n",
       "      <td>1.1512</td>\n",
       "      <td>-1.2828</td>\n",
       "      <td>-6.5064</td>\n",
       "      <td>6.0777</td>\n",
       "      <td>-2.3147</td>\n",
       "      <td>0.5568</td>\n",
       "      <td>-9.9658</td>\n",
       "      <td>...</td>\n",
       "      <td>-9.965816</td>\n",
       "      <td>-9.965849</td>\n",
       "      <td>-9.9658</td>\n",
       "      <td>-9.9658</td>\n",
       "      <td>-9.9658</td>\n",
       "      <td>-9.9658</td>\n",
       "      <td>-9.965849</td>\n",
       "      <td>-9.9658</td>\n",
       "      <td>3.037565</td>\n",
       "      <td>-9.9658</td>\n",
       "    </tr>\n",
       "    <tr>\n",
       "      <th>GTEX-1117F-0526-SM-5EGHJ</th>\n",
       "      <td>-9.966041</td>\n",
       "      <td>-9.965816</td>\n",
       "      <td>-9.965881</td>\n",
       "      <td>5.2411</td>\n",
       "      <td>0.8488</td>\n",
       "      <td>-6.5064</td>\n",
       "      <td>10.0319</td>\n",
       "      <td>0.1257</td>\n",
       "      <td>-1.1172</td>\n",
       "      <td>-9.9658</td>\n",
       "      <td>...</td>\n",
       "      <td>-9.965816</td>\n",
       "      <td>-9.965849</td>\n",
       "      <td>-9.9658</td>\n",
       "      <td>-9.9658</td>\n",
       "      <td>-9.9658</td>\n",
       "      <td>-9.9658</td>\n",
       "      <td>-9.965849</td>\n",
       "      <td>-9.9658</td>\n",
       "      <td>4.302417</td>\n",
       "      <td>-9.9658</td>\n",
       "    </tr>\n",
       "  </tbody>\n",
       "</table>\n",
       "<p>3 rows × 58581 columns</p>\n",
       "</div>"
      ],
      "text/plain": [
       "                           5S_rRNA  5_8S_rRNA       7SK    A1BG  A1BG-AS1  \\\n",
       "GTEX-1117F-0226-SM-5GZZ7 -9.966041  -9.965816 -9.965881  4.4595    0.9343   \n",
       "GTEX-1117F-0426-SM-5EGHI -9.966041  -9.965816 -9.965881  1.1512   -1.2828   \n",
       "GTEX-1117F-0526-SM-5EGHJ -9.966041  -9.965816 -9.965881  5.2411    0.8488   \n",
       "\n",
       "                            A1CF      A2M  A2M-AS1   A2ML1  A2ML1-AS1  \\\n",
       "GTEX-1117F-0226-SM-5GZZ7 -5.0116   7.5126   0.8164 -2.1140    -9.9658   \n",
       "GTEX-1117F-0426-SM-5EGHI -6.5064   6.0777  -2.3147  0.5568    -9.9658   \n",
       "GTEX-1117F-0526-SM-5EGHJ -6.5064  10.0319   0.1257 -1.1172    -9.9658   \n",
       "\n",
       "                             ...      snoU2-30  snoU2_19  snoU83B  snoZ196  \\\n",
       "GTEX-1117F-0226-SM-5GZZ7     ...     -9.965816 -9.965849  -9.9658  -9.9658   \n",
       "GTEX-1117F-0426-SM-5EGHI     ...     -9.965816 -9.965849  -9.9658  -9.9658   \n",
       "GTEX-1117F-0526-SM-5EGHJ     ...     -9.965816 -9.965849  -9.9658  -9.9658   \n",
       "\n",
       "                          snoZ278  snoZ40     snoZ6  snosnR66    uc_338  \\\n",
       "GTEX-1117F-0226-SM-5GZZ7  -9.9658 -9.9658 -9.965849   -9.9658  5.326995   \n",
       "GTEX-1117F-0426-SM-5EGHI  -9.9658 -9.9658 -9.965849   -9.9658  3.037565   \n",
       "GTEX-1117F-0526-SM-5EGHJ  -9.9658 -9.9658 -9.965849   -9.9658  4.302417   \n",
       "\n",
       "                          yR211F11.2  \n",
       "GTEX-1117F-0226-SM-5GZZ7     -9.9658  \n",
       "GTEX-1117F-0426-SM-5EGHI     -9.9658  \n",
       "GTEX-1117F-0526-SM-5EGHJ     -9.9658  \n",
       "\n",
       "[3 rows x 58581 columns]"
      ]
     },
     "execution_count": 5,
     "metadata": {},
     "output_type": "execute_result"
    }
   ],
   "source": [
    "X.head(3)"
   ]
  },
  {
   "cell_type": "code",
   "execution_count": 6,
   "metadata": {},
   "outputs": [
    {
     "data": {
      "text/html": [
       "<div>\n",
       "<style scoped>\n",
       "    .dataframe tbody tr th:only-of-type {\n",
       "        vertical-align: middle;\n",
       "    }\n",
       "\n",
       "    .dataframe tbody tr th {\n",
       "        vertical-align: top;\n",
       "    }\n",
       "\n",
       "    .dataframe thead th {\n",
       "        text-align: right;\n",
       "    }\n",
       "</style>\n",
       "<table border=\"1\" class=\"dataframe\">\n",
       "  <thead>\n",
       "    <tr style=\"text-align: right;\">\n",
       "      <th></th>\n",
       "      <th>category</th>\n",
       "      <th>disease</th>\n",
       "      <th>primary_site</th>\n",
       "      <th>sample_type</th>\n",
       "      <th>gender</th>\n",
       "      <th>study</th>\n",
       "      <th>tumor_normal</th>\n",
       "    </tr>\n",
       "    <tr>\n",
       "      <th>id</th>\n",
       "      <th></th>\n",
       "      <th></th>\n",
       "      <th></th>\n",
       "      <th></th>\n",
       "      <th></th>\n",
       "      <th></th>\n",
       "      <th></th>\n",
       "    </tr>\n",
       "  </thead>\n",
       "  <tbody>\n",
       "    <tr>\n",
       "      <th>GTEX-1117F-0226-SM-5GZZ7</th>\n",
       "      <td>Adipose - Subcutaneous</td>\n",
       "      <td>Adipose - Subcutaneous</td>\n",
       "      <td>Adipose Tissue</td>\n",
       "      <td>Normal Tissue</td>\n",
       "      <td>Female</td>\n",
       "      <td>GTEX</td>\n",
       "      <td>Normal</td>\n",
       "    </tr>\n",
       "    <tr>\n",
       "      <th>GTEX-1117F-0426-SM-5EGHI</th>\n",
       "      <td>Muscle - Skeletal</td>\n",
       "      <td>Muscle - Skeletal</td>\n",
       "      <td>Muscle</td>\n",
       "      <td>Normal Tissue</td>\n",
       "      <td>Female</td>\n",
       "      <td>GTEX</td>\n",
       "      <td>Normal</td>\n",
       "    </tr>\n",
       "    <tr>\n",
       "      <th>GTEX-1117F-0526-SM-5EGHJ</th>\n",
       "      <td>Artery - Tibial</td>\n",
       "      <td>Artery - Tibial</td>\n",
       "      <td>Blood Vessel</td>\n",
       "      <td>Normal Tissue</td>\n",
       "      <td>Female</td>\n",
       "      <td>GTEX</td>\n",
       "      <td>Normal</td>\n",
       "    </tr>\n",
       "  </tbody>\n",
       "</table>\n",
       "</div>"
      ],
      "text/plain": [
       "                                        category                 disease  \\\n",
       "id                                                                         \n",
       "GTEX-1117F-0226-SM-5GZZ7  Adipose - Subcutaneous  Adipose - Subcutaneous   \n",
       "GTEX-1117F-0426-SM-5EGHI       Muscle - Skeletal       Muscle - Skeletal   \n",
       "GTEX-1117F-0526-SM-5EGHJ         Artery - Tibial         Artery - Tibial   \n",
       "\n",
       "                            primary_site    sample_type  gender study  \\\n",
       "id                                                                      \n",
       "GTEX-1117F-0226-SM-5GZZ7  Adipose Tissue  Normal Tissue  Female  GTEX   \n",
       "GTEX-1117F-0426-SM-5EGHI          Muscle  Normal Tissue  Female  GTEX   \n",
       "GTEX-1117F-0526-SM-5EGHJ    Blood Vessel  Normal Tissue  Female  GTEX   \n",
       "\n",
       "                         tumor_normal  \n",
       "id                                     \n",
       "GTEX-1117F-0226-SM-5GZZ7       Normal  \n",
       "GTEX-1117F-0426-SM-5EGHI       Normal  \n",
       "GTEX-1117F-0526-SM-5EGHJ       Normal  "
      ]
     },
     "execution_count": 6,
     "metadata": {},
     "output_type": "execute_result"
    }
   ],
   "source": [
    "Y.head(3)"
   ]
  },
  {
   "cell_type": "code",
   "execution_count": 7,
   "metadata": {},
   "outputs": [
    {
     "name": "stdout",
     "output_type": "stream",
     "text": [
      "Y.shape:(19126, 7)\n"
     ]
    }
   ],
   "source": [
    "print(\"Y.shape:{}\".format(Y.shape))"
   ]
  },
  {
   "cell_type": "code",
   "execution_count": 8,
   "metadata": {},
   "outputs": [
    {
     "data": {
      "text/html": [
       "<div>\n",
       "<style scoped>\n",
       "    .dataframe tbody tr th:only-of-type {\n",
       "        vertical-align: middle;\n",
       "    }\n",
       "\n",
       "    .dataframe tbody tr th {\n",
       "        vertical-align: top;\n",
       "    }\n",
       "\n",
       "    .dataframe thead th {\n",
       "        text-align: right;\n",
       "    }\n",
       "</style>\n",
       "<table border=\"1\" class=\"dataframe\">\n",
       "  <thead>\n",
       "    <tr style=\"text-align: right;\">\n",
       "      <th></th>\n",
       "      <th>category</th>\n",
       "      <th>disease</th>\n",
       "      <th>primary_site</th>\n",
       "      <th>sample_type</th>\n",
       "      <th>gender</th>\n",
       "      <th>study</th>\n",
       "      <th>tumor_normal</th>\n",
       "    </tr>\n",
       "  </thead>\n",
       "  <tbody>\n",
       "    <tr>\n",
       "      <th>count</th>\n",
       "      <td>19126</td>\n",
       "      <td>19126</td>\n",
       "      <td>19126</td>\n",
       "      <td>19126</td>\n",
       "      <td>19126</td>\n",
       "      <td>19126</td>\n",
       "      <td>19126</td>\n",
       "    </tr>\n",
       "    <tr>\n",
       "      <th>unique</th>\n",
       "      <td>93</td>\n",
       "      <td>93</td>\n",
       "      <td>46</td>\n",
       "      <td>16</td>\n",
       "      <td>3</td>\n",
       "      <td>3</td>\n",
       "      <td>2</td>\n",
       "    </tr>\n",
       "    <tr>\n",
       "      <th>top</th>\n",
       "      <td>Breast Invasive Carcinoma</td>\n",
       "      <td>Breast Invasive Carcinoma</td>\n",
       "      <td>Brain</td>\n",
       "      <td>Primary Tumor</td>\n",
       "      <td>Male</td>\n",
       "      <td>TCGA</td>\n",
       "      <td>Tumor</td>\n",
       "    </tr>\n",
       "    <tr>\n",
       "      <th>freq</th>\n",
       "      <td>1212</td>\n",
       "      <td>1212</td>\n",
       "      <td>1846</td>\n",
       "      <td>9185</td>\n",
       "      <td>10453</td>\n",
       "      <td>10534</td>\n",
       "      <td>10530</td>\n",
       "    </tr>\n",
       "  </tbody>\n",
       "</table>\n",
       "</div>"
      ],
      "text/plain": [
       "                         category                    disease primary_site  \\\n",
       "count                       19126                      19126        19126   \n",
       "unique                         93                         93           46   \n",
       "top     Breast Invasive Carcinoma  Breast Invasive Carcinoma        Brain   \n",
       "freq                         1212                       1212         1846   \n",
       "\n",
       "          sample_type gender  study tumor_normal  \n",
       "count           19126  19126  19126        19126  \n",
       "unique             16      3      3            2  \n",
       "top     Primary Tumor   Male   TCGA        Tumor  \n",
       "freq             9185  10453  10534        10530  "
      ]
     },
     "execution_count": 8,
     "metadata": {},
     "output_type": "execute_result"
    }
   ],
   "source": [
    "Y.describe()"
   ]
  },
  {
   "cell_type": "code",
   "execution_count": 9,
   "metadata": {},
   "outputs": [
    {
     "data": {
      "text/plain": [
       "Text(0.5,1,'Category counts')"
      ]
     },
     "execution_count": 9,
     "metadata": {},
     "output_type": "execute_result"
    },
    {
     "data": {
      "image/png": "[encoded data removed]",
      "text/plain": [
       "<Figure size 360x1296 with 1 Axes>"
      ]
     },
     "metadata": {},
     "output_type": "display_data"
    }
   ],
   "source": [
    "def plotCategoryCounts(df, colNameStr):\n",
    "    '''\n",
    "    TODO: make this more generic\n",
    "    argument \n",
    "        df: a pandas data frame \n",
    "        colNameStr: \n",
    "        \n",
    "    returns:\n",
    "        (fix, axis)\n",
    "    '''\n",
    "    # countDF is series\n",
    "    countDF = df[colNameStr].value_counts()\n",
    "    fig, ax = plt.subplots()\n",
    "    fig.set_size_inches(5, 18)\n",
    "    ax.barh(countDF.index, countDF)\n",
    "\n",
    "    return (fig, ax)\n",
    "\n",
    "\n",
    "fig, ax = plotCategoryCounts(Y, \"category\")\n",
    "ax.set_title(\"Category counts\")"
   ]
  },
  {
   "cell_type": "code",
   "execution_count": 10,
   "metadata": {},
   "outputs": [
    {
     "data": {
      "text/html": [
       "<div>\n",
       "<style scoped>\n",
       "    .dataframe tbody tr th:only-of-type {\n",
       "        vertical-align: middle;\n",
       "    }\n",
       "\n",
       "    .dataframe tbody tr th {\n",
       "        vertical-align: top;\n",
       "    }\n",
       "\n",
       "    .dataframe thead th {\n",
       "        text-align: right;\n",
       "    }\n",
       "</style>\n",
       "<table border=\"1\" class=\"dataframe\">\n",
       "  <thead>\n",
       "    <tr style=\"text-align: right;\">\n",
       "      <th></th>\n",
       "      <th>tumor_normal</th>\n",
       "      <th>tumor_normal_value</th>\n",
       "    </tr>\n",
       "    <tr>\n",
       "      <th>id</th>\n",
       "      <th></th>\n",
       "      <th></th>\n",
       "    </tr>\n",
       "  </thead>\n",
       "  <tbody>\n",
       "    <tr>\n",
       "      <th>GTEX-1117F-0226-SM-5GZZ7</th>\n",
       "      <td>Normal</td>\n",
       "      <td>0</td>\n",
       "    </tr>\n",
       "    <tr>\n",
       "      <th>GTEX-1117F-0426-SM-5EGHI</th>\n",
       "      <td>Normal</td>\n",
       "      <td>0</td>\n",
       "    </tr>\n",
       "    <tr>\n",
       "      <th>GTEX-1117F-0526-SM-5EGHJ</th>\n",
       "      <td>Normal</td>\n",
       "      <td>0</td>\n",
       "    </tr>\n",
       "  </tbody>\n",
       "</table>\n",
       "</div>"
      ],
      "text/plain": [
       "                         tumor_normal  tumor_normal_value\n",
       "id                                                       \n",
       "GTEX-1117F-0226-SM-5GZZ7       Normal                   0\n",
       "GTEX-1117F-0426-SM-5EGHI       Normal                   0\n",
       "GTEX-1117F-0526-SM-5EGHJ       Normal                   0"
      ]
     },
     "execution_count": 10,
     "metadata": {},
     "output_type": "execute_result"
    }
   ],
   "source": [
    "# Convert tumor_normal  into numerical values\n",
    "from sklearn.preprocessing import LabelEncoder\n",
    "\n",
    "encoder = LabelEncoder()\n",
    "Y[\"tumor_normal_value\"] = pd.Series(\n",
    "    encoder.fit_transform(Y[\"tumor_normal\"]), index=Y.index)\n",
    "Y[[\"tumor_normal\", \"tumor_normal_value\"]].head(3)"
   ]
  },
  {
   "cell_type": "code",
   "execution_count": 11,
   "metadata": {},
   "outputs": [
    {
     "name": "stdout",
     "output_type": "stream",
     "text": [
      "(15300, 58581) (3826, 58581)\n",
      "CPU times: user 968 ms, sys: 1.72 s, total: 2.69 s\n",
      "Wall time: 2.71 s\n"
     ]
    }
   ],
   "source": [
    "%%time\n",
    "# Split into stratified training and test sets based on classes (i.e. tissue type) so that we have equal\n",
    "# proportions of each tissue type in the train and test sets\n",
    "from sklearn.model_selection import StratifiedShuffleSplit\n",
    "split = StratifiedShuffleSplit(\n",
    "    n_splits=1, test_size=0.2, random_state=theMeaningOfLife)\n",
    "\n",
    "for train_index, test_index in split.split(X.values, Y[\"tumor_normal_value\"]):\n",
    "    X_train, X_test = X.values[train_index], X.values[test_index]\n",
    "    y_train, y_test = Y[\"tumor_normal_value\"][train_index], \\\n",
    "                        Y[\"tumor_normal_value\"][test_index]\n",
    "\n",
    "print(X_train.shape, X_test.shape)"
   ]
  },
  {
   "cell_type": "code",
   "execution_count": 12,
   "metadata": {},
   "outputs": [
    {
     "data": {
      "text/plain": [
       "<matplotlib.axes._subplots.AxesSubplot at 0x7f7cf9d4ca90>"
      ]
     },
     "execution_count": 12,
     "metadata": {},
     "output_type": "execute_result"
    },
    {
     "data": {
      "image/png": "[encoded data removed]",
      "text/plain": [
       "<Figure size 432x288 with 1 Axes>"
      ]
     },
     "metadata": {},
     "output_type": "display_data"
    }
   ],
   "source": [
    "# checking if class balance is maintained\n",
    "labels = {'train': (y_train), 'test': (y_test)}\n",
    "label_df = pd.DataFrame(labels)\n",
    "label_df.plot.hist(stacked=True)"
   ]
  },
  {
   "cell_type": "code",
   "execution_count": 13,
   "metadata": {},
   "outputs": [
    {
     "name": "stdout",
     "output_type": "stream",
     "text": [
      "id\n",
      "GTEX-ZQG8-2426-SM-57WEE     0\n",
      "GTEX-131YS-0005-SM-5NQAS    0\n",
      "GTEX-13SLX-0526-SM-5S2ON    0\n",
      "Name: tumor_normal_value, dtype: int64\n",
      "[0 0 0]\n",
      "(15300,)\n"
     ]
    },
    {
     "data": {
      "text/plain": [
       "count    15300.000000\n",
       "mean         0.550588\n",
       "std          0.497451\n",
       "min          0.000000\n",
       "25%          0.000000\n",
       "50%          1.000000\n",
       "75%          1.000000\n",
       "max          1.000000\n",
       "Name: tumor_normal_value, dtype: float64"
      ]
     },
     "execution_count": 13,
     "metadata": {},
     "output_type": "execute_result"
    }
   ],
   "source": [
    "print(y_train.head(3))\n",
    "print(y_train.values[0:3])\n",
    "print(y_train.shape)\n",
    "y_train.describe()"
   ]
  },
  {
   "cell_type": "code",
   "execution_count": 14,
   "metadata": {},
   "outputs": [],
   "source": [
    "# this is a neural network with a single activation node\n",
    "def logisticRegression(input_dim=None, output_dim=None, lr=0.001):\n",
    "    '''\n",
    "    implement a neural network with a single activation node. Uses a\n",
    "    Adam optimizer with the binary_crossentropy function\n",
    "    \n",
    "    Includes a batch normalization preprocess step. normalizaton \n",
    "    typically reduces training time.\n",
    "    \n",
    "    arguments:\n",
    "        input_dim:\n",
    "           type int: the number of features in each sample\n",
    "        \n",
    "        outputDim: \n",
    "            type int the number of classes\n",
    "        \n",
    "        lr: \n",
    "            type float: scaling factor for adjusting weight. larger\n",
    "            values may train faster how ever can cause optimization \n",
    "            algorithm to diverge if to large. Use loss curver plot\n",
    "            to evaluate    \n",
    "    \n",
    "    return:\n",
    "        keras.models\n",
    "    '''\n",
    "    classify = [\n",
    "        InputLayer(input_shape=(input_dim, )),\n",
    "\n",
    "        # TODO: Is Keras smart? only need to run preprocessing step\n",
    "        # once\n",
    "        BatchNormalization(),\n",
    "        Dense(output_dim),  # dot(input, kernel) + bias\n",
    "        Activation('sigmoid')\n",
    "    ]\n",
    "\n",
    "    model = Sequential(classify)\n",
    "\n",
    "    model.compile(\n",
    "        loss='binary_crossentropy',\n",
    "        optimizer=Adam(lr=lr),\n",
    "        metrics=['accuracy'])\n",
    "\n",
    "    return model"
   ]
  },
  {
   "cell_type": "code",
   "execution_count": 18,
   "metadata": {},
   "outputs": [
    {
     "name": "stdout",
     "output_type": "stream",
     "text": [
      "_________________________________________________________________\n",
      "Layer (type)                 Output Shape              Param #   \n",
      "=================================================================\n",
      "input_1 (InputLayer)         (None, 58581)             0         \n",
      "_________________________________________________________________\n",
      "batch_normalization_1 (Batch (None, 58581)             234324    \n",
      "_________________________________________________________________\n",
      "dense_1 (Dense)              (None, 1)                 58582     \n",
      "_________________________________________________________________\n",
      "activation_1 (Activation)    (None, 1)                 0         \n",
      "=================================================================\n",
      "Total params: 292,906\n",
      "Trainable params: 175,744\n",
      "Non-trainable params: 117,162\n",
      "_________________________________________________________________\n",
      "CPU times: user 3min 36s, sys: 22.9 s, total: 3min 59s\n",
      "Wall time: 1min 14s\n"
     ]
    }
   ],
   "source": [
    "%%time\n",
    "modelName = \"logisticRegressionTumorNormal\"\n",
    "logisticRegressionModel = logisticRegression(\n",
    "    input_dim=X_train.shape[1], output_dim=1)\n",
    "\n",
    "# https://keras.io/callbacks/\n",
    "checkPointPath = \"./models/{}.chkPt\".format(modelName)\n",
    "callbacks = [\n",
    "    # monitor valuse either 'acc' for accuracy or 'loss'\n",
    "    # 'val_loss' is loss on hold if valaidation_split is set\n",
    "    # 'loss' is loss on training\n",
    "    # same for 'acc' and 'val_acc'\n",
    "    EarlyStopping(monitor='loss', patience=2, verbose=0),\n",
    "    ModelCheckpoint(\n",
    "        checkPointPath, monitor='loss', save_best_only=False, verbose=0)\n",
    "    # FIXME: progbar generates run time error\n",
    "    #,ProgbarLogger(count_mode='samples', stateful_metrics=None)\n",
    "]\n",
    "\n",
    "history = logisticRegressionModel.fit(\n",
    "    X_train,\n",
    "    y_train.values,\n",
    "    shuffle=None,  # we already shuffled\n",
    "    epochs=20,  #100\n",
    "    batch_size=1024,\n",
    "    # we already split the data\n",
    "    validation_split=0.0,\n",
    "    verbose=0,\n",
    "    callbacks=callbacks)\n",
    "\n",
    "logisticRegressionModel.summary()"
   ]
  },
  {
   "cell_type": "code",
   "execution_count": 19,
   "metadata": {},
   "outputs": [
    {
     "name": "stdout",
     "output_type": "stream",
     "text": [
      "train\n",
      "Loss    : 0.0079\n",
      "Accuracy: 0.9994\n",
      "\n",
      "test\n",
      "Loss    : 0.0265\n",
      "Accuracy: 0.9929\n",
      "CPU times: user 25.1 s, sys: 1.26 s, total: 26.4 s\n",
      "Wall time: 6.81 s\n"
     ]
    }
   ],
   "source": [
    "%%time\n",
    "# evaluate() computes the loss based on the input you pass\n",
    "# predict() generates output predictions based on the input you pass it\n",
    "evalTrain = logisticRegressionModel.evaluate(X_train, y_train, verbose=0)\n",
    "evalTest = logisticRegressionModel.evaluate(X_test, y_test, verbose=0)\n",
    "print(\"train\")\n",
    "print(\"Loss    : {:.4f}\".format(evalTrain[0]))\n",
    "print(\"Accuracy: {:.4f}\".format(evalTrain[1]))\n",
    "print(\"\\ntest\")\n",
    "print(\"Loss    : {:.4f}\".format(evalTest[0]))\n",
    "print(\"Accuracy: {:.4f}\".format(evalTest[1]))"
   ]
  },
  {
   "cell_type": "code",
   "execution_count": 20,
   "metadata": {},
   "outputs": [
    {
     "name": "stdout",
     "output_type": "stream",
     "text": [
      "\n",
      "[[1701   19]\n",
      " [   8 2098]]\n",
      "False positive rate: (predicting tumor while normal) 0.011046511627906977\n",
      "False negative rate: (predicting normal while tumor) 0.003798670465337132\n"
     ]
    }
   ],
   "source": [
    "from sklearn.metrics import confusion_matrix\n",
    "\n",
    "yTestPredict = logisticRegressionModel.predict(X_test)\n",
    "#print(yTestPredict[0:3])\n",
    "yTestPredict = [1 if p > 0.5 else 0 for p in yTestPredict]\n",
    "#print(yTestPredict[0:3])\n",
    "\n",
    "print()\n",
    "print(confusion_matrix(y_test, yTestPredict))\n",
    "tn, fp, fn, tp = confusion_matrix(y_test, yTestPredict).ravel()\n",
    "fpr = fp * 1.0 / (fp + tn)\n",
    "fnr = fn * 1.0 / (tp + fn)\n",
    "print(\"False positive rate: (predicting tumor while normal)\", fpr)\n",
    "print(\"False negative rate: (predicting normal while tumor)\", fnr)"
   ]
  },
  {
   "cell_type": "code",
   "execution_count": 21,
   "metadata": {},
   "outputs": [
    {
     "data": {
      "image/png": "[encoded data removed]",
      "text/plain": [
       "<Figure size 432x288 with 1 Axes>"
      ]
     },
     "metadata": {},
     "output_type": "display_data"
    },
    {
     "data": {
      "image/png": "[encoded data removed]",
      "text/plain": [
       "<Figure size 432x288 with 1 Axes>"
      ]
     },
     "metadata": {},
     "output_type": "display_data"
    }
   ],
   "source": [
    "# summarize history for accuracy\n",
    "plt.plot(history.history['acc'])\n",
    "# plt.plot(history.history['val_acc'])\n",
    "plt.title('model accuracy')\n",
    "plt.ylabel('accuracy')\n",
    "plt.xlabel('epoch')\n",
    "plt.legend(['train', 'test'], loc='upper left')\n",
    "plt.show()\n",
    "# # summarize history for loss\n",
    "plt.plot(history.history['loss'])\n",
    "# plt.plot(history.history['val_loss'])\n",
    "plt.title('model loss')\n",
    "plt.ylabel('loss')\n",
    "plt.xlabel('epoch')\n",
    "plt.legend(['train', 'test'], loc='upper left')\n",
    "plt.show()"
   ]
  },
  {
   "cell_type": "code",
   "execution_count": 22,
   "metadata": {},
   "outputs": [
    {
     "name": "stdout",
     "output_type": "stream",
     "text": [
      "ERROR: model was not save. files already exist /bme-230a-ebs/models/logisticRegressionTumorNormal.h5\n"
     ]
    }
   ],
   "source": [
    "import os\n",
    "\n",
    "modelRootDir = \"{}/models\".format(rootDir)\n",
    "fullModelPath = \"{}/{}.h5\".format(modelRootDir, modelName)\n",
    "\n",
    "if not os.path.exists(modelRootDir):\n",
    "    print(\"create modle directory:{}\".format(modelRootDir))\n",
    "    os.makedirs(modelRootDir)\n",
    "\n",
    "if not os.path.isfile(fullModelPath):\n",
    "    logisticRegressionModel.save(fullModelPath)\n",
    "    print(\"Saved {} to disk\".format(fullModelPath))\n",
    "else:\n",
    "    print(\"ERROR: model was not save. files already exist {}\".format(\n",
    "        fullModelPath))"
   ]
  },
  {
   "cell_type": "code",
   "execution_count": 23,
   "metadata": {},
   "outputs": [
    {
     "name": "stdout",
     "output_type": "stream",
     "text": [
      "/home/ubuntu/BME-230a\n",
      "-rw-rw-r-- 1 ubuntu ubuntu 2603772 Mar 16 18:50 /bme-230a-ebs/models/logisticRegressionTumorNormal.h5\n"
     ]
    }
   ],
   "source": [
    "!pwd\n",
    "!ls -l $fullModelPath"
   ]
  },
  {
   "cell_type": "code",
   "execution_count": null,
   "metadata": {},
   "outputs": [],
   "source": []
  }
 ],
 "metadata": {
  "kernelspec": {
   "display_name": "Python 3",
   "language": "python",
   "name": "python3"
  },
  "language_info": {
   "codemirror_mode": {
    "name": "ipython",
    "version": 3
   },
   "file_extension": ".py",
   "mimetype": "text/x-python",
   "name": "python",
   "nbconvert_exporter": "python",
   "pygments_lexer": "ipython3",
   "version": "3.6.5"
  },
  "toc": {
   "base_numbering": 1,
   "nav_menu": {},
   "number_sections": true,
   "sideBar": true,
   "skip_h1_title": false,
   "title_cell": "Table of Contents",
   "title_sidebar": "Contents",
   "toc_cell": false,
   "toc_position": {},
   "toc_section_display": true,
   "toc_window_display": false
  },
  "varInspector": {
   "cols": {
    "lenName": 16,
    "lenType": 16,
    "lenVar": 40
   },
   "kernels_config": {
    "python": {
     "delete_cmd_postfix": "",
     "delete_cmd_prefix": "del ",
     "library": "var_list.py",
     "varRefreshCmd": "print(var_dic_list())"
    },
    "r": {
     "delete_cmd_postfix": ") ",
     "delete_cmd_prefix": "rm(",
     "library": "var_list.r",
     "varRefreshCmd": "cat(var_dic_list()) "
    }
   },
   "types_to_exclude": [
    "module",
    "function",
    "builtin_function_or_method",
    "instance",
    "_Feature"
   ],
   "window_display": false
  }
 },
 "nbformat": 4,
 "nbformat_minor": 2
}
