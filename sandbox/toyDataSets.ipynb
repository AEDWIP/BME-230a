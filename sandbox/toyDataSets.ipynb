{
 "cells": [
  {
   "cell_type": "markdown",
   "metadata": {},
   "source": [
    "# Toy Data Sets\n",
    "\n",
    "this is a line with 2 extra space  \n",
    "this is the next line  \n",
    "Andrew E. Davidson  \n",
    "aedavids@ucsc.edu  \n",
    "ref: chapter 3  "
   ]
  },
  {
   "cell_type": "code",
   "execution_count": 1,
   "metadata": {},
   "outputs": [],
   "source": [
    "import matplotlib.pyplot as plt\n",
    "%matplotlib inline\n",
    "\n",
    "import numpy as np\n",
    "np.random.seed(456)\n",
    "\n",
    "import  tensorflow as tf\n",
    "tf.set_random_seed(456)"
   ]
  },
  {
   "cell_type": "markdown",
   "metadata": {},
   "source": [
    "## Toy Regression Data set"
   ]
  },
  {
   "cell_type": "code",
   "execution_count": 2,
   "metadata": {},
   "outputs": [
    {
     "name": "stdout",
     "output_type": "stream",
     "text": [
      "noise.shape:(100, 1)\n",
      "y_np.shape:(100,)\n"
     ]
    }
   ],
   "source": [
    "N = 100\n",
    "w_true = 5\n",
    "b_true = 2\n",
    "noise_scale = .1\n",
    "\n",
    "# x_np is our training set. each example has a single feature\n",
    "x_np = np.random.rand(N, 1)\n",
    "mean = 0\n",
    "standardDeviation=noise_scale\n",
    "noise = np.random.normal(loc=mean, scale=standardDeviation, size=(N, 1))\n",
    "print(\"noise.shape:{}\".format(noise.shape))\n",
    "\n",
    "# Convert shape of y_np to (N,)\n",
    "# y_np is our lables\n",
    "# we do not need to reshape()\n",
    "# reshape -1 means 'The new shape should be compatible with the original shape'\n",
    "y_np = np.reshape(w_true * x_np  + b_true + noise, (-1))\n",
    "print(\"y_np.shape:{}\".format(y_np.shape))\n"
   ]
  },
  {
   "cell_type": "code",
   "execution_count": 3,
   "metadata": {},
   "outputs": [
    {
     "data": {
      "text/plain": [
       "Text(0.5, 1.0, 'Toy Linear Regression Data, $y = 5x + 2 + N(0, 1)$')"
      ]
     },
     "execution_count": 3,
     "metadata": {},
     "output_type": "execute_result"
    },
    {
     "data": {
      "image/png": "[encoded data removed]",
      "text/plain": [
       "<Figure size 432x288 with 1 Axes>"
      ]
     },
     "metadata": {
      "needs_background": "light"
     },
     "output_type": "display_data"
    }
   ],
   "source": [
    "plt.scatter(x_np, y_np)\n",
    "plt.xlabel(\"x\")\n",
    "plt.ylabel(\"y\")\n",
    "plt.xlim(0, 1)\n",
    "plt.title(\"Toy Linear Regression Data, \"\n",
    "          r\"$y = 5x + 2 + N(0, 1)$\")"
   ]
  },
  {
   "cell_type": "markdown",
   "metadata": {},
   "source": [
    "## Toy Classification Data sets"
   ]
  },
  {
   "cell_type": "code",
   "execution_count": 4,
   "metadata": {},
   "outputs": [
    {
     "name": "stdout",
     "output_type": "stream",
     "text": [
      "AEDWIP x_zeros[0:3,:]:[[-0.98723611 -1.5752853 ]\n",
      " [-1.58739836 -1.59948517]\n",
      " [-0.88554899 -0.98834032]]\n"
     ]
    }
   ],
   "source": [
    "# Generate synthetic data\n",
    "N = 100\n",
    "# Zeros form a Gaussian centered at (-1, -1)\n",
    "# x_zeros are are X training examples of type 0. each example has 2 features\n",
    "x_zeros = np.random.multivariate_normal(\n",
    "    mean=np.array((-1, -1)), cov=.1*np.eye(2), size=(N//2,))\n",
    "y_zeros = np.zeros((N//2,))\n",
    "print(\"AEDWIP x_zeros[0:3,:]:{}\".format(x_zeros[0:3,:]))\n",
    "\n",
    "# Ones form a Gaussian centered at (1, 1)\n",
    "# x_ones are are X training examples of type 1. each example has 2 features\n",
    "x_ones = np.random.multivariate_normal(\n",
    "    mean=np.array((1, 1)), cov=.1*np.eye(2), size=(N//2,))\n",
    "y_ones = np.ones((N//2,))\n",
    "\n",
    "# vstack: Stack arrays in sequence vertically (row wise).\n",
    "# x_np is our training set. We should shuffle before using\n",
    "x_np = np.vstack([x_zeros, x_ones])\n",
    "# Join a sequence of arrays along an existing axis\n",
    "# y_np is our labels for our training set\n",
    "y_np = np.concatenate([y_zeros, y_ones])"
   ]
  },
  {
   "cell_type": "code",
   "execution_count": 5,
   "metadata": {},
   "outputs": [
    {
     "data": {
      "text/plain": [
       "<matplotlib.collections.PathCollection at 0x12d806208>"
      ]
     },
     "execution_count": 5,
     "metadata": {},
     "output_type": "execute_result"
    },
    {
     "data": {
      "image/png": "[encoded data removed]",
      "text/plain": [
       "<Figure size 432x288 with 1 Axes>"
      ]
     },
     "metadata": {
      "needs_background": "light"
     },
     "output_type": "display_data"
    }
   ],
   "source": [
    "plt.xlabel(r\"$x_1$\")\n",
    "plt.ylabel(r\"$x_2$\")\n",
    "plt.title(\"Toy Logistic Regression Data\")\n",
    "\n",
    "# Plot Zeros\n",
    "plt.scatter(x_zeros[:, 0], x_zeros[:, 1], color=\"blue\")\n",
    "plt.scatter(x_ones[:, 0], x_ones[:, 1], color=\"red\")"
   ]
  },
  {
   "cell_type": "markdown",
   "metadata": {},
   "source": [
    "## K = 3 toy sample set\n"
   ]
  },
  {
   "cell_type": "code",
   "execution_count": 6,
   "metadata": {},
   "outputs": [],
   "source": [
    "# Generate synthetic data\n",
    "k = 3\n",
    "N = 100 // k\n",
    "def generateExample(centerX, centerY, N, k):\n",
    "    '''\n",
    "    input: \n",
    "        centerX, centerY: coordinates of centroid\n",
    "        N = number of examples to generate\n",
    "        k = integer representing the class\n",
    "    returns:\n",
    "        (x,y)\n",
    "        x = our training set. each example has 2 features\n",
    "        y = the labels for our train set\n",
    "    '''\n",
    "    x = np.random.multivariate_normal(\n",
    "        mean=np.array((centerX, centerY)), cov=.1*np.eye(2), size=(N,))\n",
    "    y = np.zeros((N,))\n",
    "    return (x,y)\n",
    "    \n",
    "x0,y0 = generateExample(centerX=-1, centerY=-1, N=N//k, k=0)\n",
    "x1,y1 = generateExample(centerX=1,  centerY=1,  N=N//k, k=1)\n",
    "x2,y2 = generateExample(centerX=-1,  centerY=1,  N=N//k, k=2)\n",
    "    \n",
    "# # vstack: Stack arrays in sequence vertically (row wise).\n",
    "# x_np is our traning set. We should shuffle this before using\n",
    "x_np = np.vstack([x0, x1, x2])\n",
    "\n",
    "# # Join a sequence of arrays along an existing axis\n",
    "# y_np are the lables for our training set\n",
    "y_np = np.concatenate([y0, y1, y2])"
   ]
  },
  {
   "cell_type": "code",
   "execution_count": 7,
   "metadata": {},
   "outputs": [
    {
     "data": {
      "text/plain": [
       "<matplotlib.collections.PathCollection at 0x12d8c87f0>"
      ]
     },
     "execution_count": 7,
     "metadata": {},
     "output_type": "execute_result"
    },
    {
     "data": {
      "image/png": "[encoded data removed]",
      "text/plain": [
       "<Figure size 432x288 with 1 Axes>"
      ]
     },
     "metadata": {
      "needs_background": "light"
     },
     "output_type": "display_data"
    }
   ],
   "source": [
    "plt.xlabel(r\"$x_1$\")\n",
    "plt.ylabel(r\"$x_2$\")\n",
    "plt.title(\"Toy Logistic Regression Data\")\n",
    "\n",
    "# Plot Zeros\n",
    "plt.scatter(x0[:, 0], x0[:, 1], color=\"blue\")\n",
    "plt.scatter(x1[:, 0], x1[:, 1], color=\"red\")\n",
    "plt.scatter(x2[:, 0], x2[:, 1], color=\"green\")"
   ]
  }
 ],
 "metadata": {
  "kernelspec": {
   "display_name": "Python 3",
   "language": "python",
   "name": "python3"
  },
  "language_info": {
   "codemirror_mode": {
    "name": "ipython",
    "version": 3
   },
   "file_extension": ".py",
   "mimetype": "text/x-python",
   "name": "python",
   "nbconvert_exporter": "python",
   "pygments_lexer": "ipython3",
   "version": "3.6.1"
  }
 },
 "nbformat": 4,
 "nbformat_minor": 2
}
