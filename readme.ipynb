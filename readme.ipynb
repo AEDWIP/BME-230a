{
 "cells": [
  {
   "cell_type": "markdown",
   "metadata": {},
   "source": [
    "# AEDWIP whats the title\n",
    "\n",
    "- BME 230A class project winter 2019\n",
    "- Andrew E. Davidson\n",
    "- [aedavids@ucsc.edu](mailto:aedavids@edu?subject=SimpleModel.ipynb)\n",
    "\n",
    "ref: [https://github.com/AEDWIP/BME-230a.git](https://github.com/AEDWIP/BME-230a.git)"
   ]
  },
  {
   "cell_type": "markdown",
   "metadata": {},
   "source": [
    "## Data Preparation \n",
    "\n",
    "You will need to create a local copy of tcga_target_gtex.h5. The size of this file is  8.4G. The easiest way to do this is to run the following jupyter notebook  [rcurrie-tumornormal/ingest.ipynb](https://github.com/rcurrie/tumornormal/blob/master/ingest.ipynb)\n",
    "\n",
    "the ingest notebook\n",
    "    * downloads the 'UCSC Toil RNAseq Recompute Compendium' if needed\n",
    "    * clean and transforms\n",
    "        + convert ENSEMBL gene ids to Hugo\n",
    "    * writes data/tcga_target_gtex.h5\n",
    "    \n",
    "### reference:\n",
    "    \n",
    "- [Nature Biotechnology publication:]( https://doi.org/10.1038/nbt.3772\n",
    "- [ UCSC Xena Toil re-compute dataset](https://xenabrowser.net/datapages/?host=https://toil.xenahubs.net)\n",
    "- [github repo rcurrie/tumornormal ](https://github.com/rcurrie/tumornormal.git)\n",
    "- [Ingest Gene Expression and Clinical Data from TCGA+TARGET+GTEX and Treehouse jupyter notebook ](https://github.com/rcurrie/tumornormal/blob/master/ingest.ipynb)"
   ]
  },
  {
   "cell_type": "code",
   "execution_count": null,
   "metadata": {},
   "outputs": [],
   "source": []
  },
  {
   "cell_type": "markdown",
   "metadata": {},
   "source": [
    "## Table of Contents\n",
    "\n",
    "1. <span style=\"color:red\"> AEDWIP what the paper\" </span>\n",
    "2. simple notebooks\n",
    "    + [simpleModel.ipynb](simpleModel.ipynb)\n",
    "        * preforms some basic data exploration\n",
    "        * train a tumor vs. normal classifier using logistic regression\n",
    "        * training set comprised of gene expression values from Xena data set\n",
    "            + this was randomly split into 80/20 train/test sets\n",
    "        * model summary\n",
    "            ```\n",
    "            total data set size 19,126 example each with 58,581 features\n",
    "            \n",
    "            training set accuracy = 0.9994\n",
    "            test set accuracy = 0.9929\n",
    "            \n",
    "            confusion matrix\n",
    "            [[1701   19]\n",
    "             [   8 2098]]\n",
    "            False positive rate: (predicting tumor while normal) 0.011\n",
    "            False negative rate: (predicting normal while tumor) 0.004\n",
    "            ```"
   ]
  },
  {
   "cell_type": "code",
   "execution_count": null,
   "metadata": {},
   "outputs": [],
   "source": []
  }
 ],
 "metadata": {
  "kernelspec": {
   "display_name": "Python 3",
   "language": "python",
   "name": "python3"
  },
  "language_info": {
   "codemirror_mode": {
    "name": "ipython",
    "version": 3
   },
   "file_extension": ".py",
   "mimetype": "text/x-python",
   "name": "python",
   "nbconvert_exporter": "python",
   "pygments_lexer": "ipython3",
   "version": "3.6.5"
  }
 },
 "nbformat": 4,
 "nbformat_minor": 2
}
