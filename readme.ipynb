{
 "cells": [
  {
   "cell_type": "markdown",
   "metadata": {},
   "source": [
    "# AEDWIP whats the title\n",
    "\n",
    "- BME 230A class project winter 2019\n",
    "- Andrew E. Davidson\n",
    "- [aedavids@ucsc.edu](mailto:aedavids@edu?subject=SimpleModel.ipynb)\n",
    "\n",
    "ref: [https://github.com/AEDWIP/BME-230a.git](https://github.com/AEDWIP/BME-230a.git)"
   ]
  },
  {
   "cell_type": "markdown",
   "metadata": {},
   "source": [
    "## Data Preparation \n",
    "\n",
    "You will need to create a local copy of tcga_target_gtex.h5. The size of this file is  8.4G. The easiest way to do this is to run the following jupyter notebook  [rcurrie-tumornormal/ingest.ipynb](https://github.com/rcurrie/tumornormal/blob/master/ingest.ipynb)\n",
    "\n",
    "the ingest notebook\n",
    "    * downloads the 'UCSC Toil RNAseq Recompute Compendium' if needed\n",
    "    * clean and transforms\n",
    "        + convert ENSEMBL gene ids to Hugo\n",
    "    * writes data/tcga_target_gtex.h5\n",
    "    \n",
    "### reference:\n",
    "    \n",
    "- [Nature Biotechnology publication:]( https://doi.org/10.1038/nbt.3772)\n",
    "- [ UCSC Xena Toil re-compute dataset](https://xenabrowser.net/datapages/?host=https://toil.xenahubs.net)\n",
    "- [github repo rcurrie/tumornormal ](https://github.com/rcurrie/tumornormal.git)\n",
    "- [Ingest Gene Expression and Clinical Data from TCGA+TARGET+GTEX and Treehouse jupyter notebook ](https://github.com/rcurrie/tumornormal/blob/master/ingest.ipynb)"
   ]
  },
  {
   "cell_type": "code",
   "execution_count": null,
   "metadata": {},
   "outputs": [],
   "source": []
  },
  {
   "cell_type": "markdown",
   "metadata": {},
   "source": [
    "## Table of Contents\n",
    "\n",
    "1. <span style=\"color:red\"> AEDWIP what the paper\" </span>\n",
    "2. simple model notebooks\n",
    "    + [simpleModel.ipynb](simpleModel.ipynb)\n",
    "        * preforms basic data exploration\n",
    "        * trains a tumor vs. normal classifier using logistic regression\n",
    "    + [simpleModelEvaluation.ipynb](simpleModelEvaluation.ipynb)\n",
    "        *  reverse engineer the model's features to identify genes that maximal activate and compare them with known cancer causing genes.\n",
    "        \n",
    "4. Disease Type classifier notebooks\n",
    "    + [diseaseTypeClassifier.ipynb](diseaseTypeClassifier.ipynb}\n",
    "        * performs basic data exploration\n",
    "        \n",
    "3. aedwip aws set up"
   ]
  },
  {
   "cell_type": "code",
   "execution_count": null,
   "metadata": {},
   "outputs": [],
   "source": []
  }
 ],
 "metadata": {
  "kernelspec": {
   "display_name": "Python 3",
   "language": "python",
   "name": "python3"
  },
  "language_info": {
   "codemirror_mode": {
    "name": "ipython",
    "version": 3
   },
   "file_extension": ".py",
   "mimetype": "text/x-python",
   "name": "python",
   "nbconvert_exporter": "python",
   "pygments_lexer": "ipython3",
   "version": "3.6.5"
  }
 },
 "nbformat": 4,
 "nbformat_minor": 2
}
